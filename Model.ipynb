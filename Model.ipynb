{
 "cells": [
  {
   "cell_type": "code",
   "execution_count": 275,
   "id": "e010e658",
   "metadata": {},
   "outputs": [],
   "source": [
    "import pandas as pd \n",
    "import seaborn as sns\n",
    "import matplotlib.pyplot as plt\n",
    "import re\n",
    "from nltk.corpus import stopwords\n",
    "from nltk.tokenize import word_tokenize\n",
    "from Preprocessing import Process_column"
   ]
  },
  {
   "cell_type": "markdown",
   "id": "163fb313",
   "metadata": {},
   "source": [
    "# Dataset Download Link: [**`Spam Email classification`**](https://www.kaggle.com/datasets/ashfakyeafi/spam-email-classification/data)"
   ]
  },
  {
   "cell_type": "code",
   "execution_count": 232,
   "id": "2fd6741a",
   "metadata": {},
   "outputs": [
    {
     "data": {
      "application/vnd.microsoft.datawrangler.viewer.v0+json": {
       "columns": [
        {
         "name": "index",
         "rawType": "int64",
         "type": "integer"
        },
        {
         "name": "Label",
         "rawType": "object",
         "type": "string"
        },
        {
         "name": "EmailText",
         "rawType": "object",
         "type": "string"
        }
       ],
       "ref": "807b0640-ff82-40ca-a6c5-0ae49601d79d",
       "rows": [
        [
         "0",
         "ham",
         "Go until jurong point, crazy.. Available only in bugis n great world la e buffet... Cine there got amore wat..."
        ],
        [
         "1",
         "ham",
         "Ok lar... Joking wif u oni..."
        ],
        [
         "2",
         "spam",
         "Free entry in 2 a wkly comp to win FA Cup final tkts 21st May 2005. Text FA to 87121 to receive entry question(std txt rate)T&C's apply 08452810075over18's"
        ],
        [
         "3",
         "ham",
         "U dun say so early hor... U c already then say..."
        ],
        [
         "4",
         "ham",
         "Nah I don't think he goes to usf, he lives around here though"
        ],
        [
         "5",
         "spam",
         "FreeMsg Hey there darling it's been 3 week's now and no word back! I'd like some fun you up for it still? Tb ok! XxX std chgs to send, �1.50 to rcv"
        ],
        [
         "6",
         "ham",
         "Even my brother is not like to speak with me. They treat me like aids patent."
        ],
        [
         "7",
         "ham",
         "As per your request 'Melle Melle (Oru Minnaminunginte Nurungu Vettam)' has been set as your callertune for all Callers. Press *9 to copy your friends Callertune"
        ],
        [
         "8",
         "spam",
         "WINNER!! As a valued network customer you have been selected to receivea �900 prize reward! To claim call 09061701461. Claim code KL341. Valid 12 hours only."
        ],
        [
         "9",
         "spam",
         "Had your mobile 11 months or more? U R entitled to Update to the latest colour mobiles with camera for Free! Call The Mobile Update Co FREE on 08002986030"
        ],
        [
         "10",
         "ham",
         "I'm gonna be home soon and i don't want to talk about this stuff anymore tonight, k? I've cried enough today."
        ],
        [
         "11",
         "spam",
         "SIX chances to win CASH! From 100 to 20,000 pounds txt> CSH11 and send to 87575. Cost 150p/day, 6days, 16+ TsandCs apply Reply HL 4 info"
        ],
        [
         "12",
         "spam",
         "URGENT! You have won a 1 week FREE membership in our �100,000 Prize Jackpot! Txt the word: CLAIM to No: 81010 T&C www.dbuk.net LCCLTD POBOX 4403LDNW1A7RW18"
        ],
        [
         "13",
         "ham",
         "I've been searching for the right words to thank you for this breather. I promise i wont take your help for granted and will fulfil my promise. You have been wonderful and a blessing at all times."
        ],
        [
         "14",
         "ham",
         "I HAVE A DATE ON SUNDAY WITH WILL!!"
        ],
        [
         "15",
         "spam",
         "XXXMobileMovieClub: To use your credit, click the WAP link in the next txt message or click here>> http://wap. xxxmobilemovieclub.com?n=QJKGIGHJJGCBL"
        ],
        [
         "16",
         "ham",
         "Oh k...i'm watching here:)"
        ],
        [
         "17",
         "ham",
         "Eh u remember how 2 spell his name... Yes i did. He v naughty make until i v wet."
        ],
        [
         "18",
         "ham",
         "Fine if that��s the way u feel. That��s the way its gota b"
        ],
        [
         "19",
         "spam",
         "England v Macedonia - dont miss the goals/team news. Txt ur national team to 87077 eg ENGLAND to 87077 Try:WALES, SCOTLAND 4txt/̼1.20 POBOXox36504W45WQ 16+"
        ],
        [
         "20",
         "ham",
         "Is that seriously how you spell his name?"
        ],
        [
         "21",
         "ham",
         "I���m going to try for 2 months ha ha only joking"
        ],
        [
         "22",
         "ham",
         "So �_ pay first lar... Then when is da stock comin..."
        ],
        [
         "23",
         "ham",
         "Aft i finish my lunch then i go str down lor. Ard 3 smth lor. U finish ur lunch already?"
        ],
        [
         "24",
         "ham",
         "Ffffffffff. Alright no way I can meet up with you sooner?"
        ],
        [
         "25",
         "ham",
         "Just forced myself to eat a slice. I'm really not hungry tho. This sucks. Mark is getting worried. He knows I'm sick when I turn down pizza. Lol"
        ],
        [
         "26",
         "ham",
         "Lol your always so convincing."
        ],
        [
         "27",
         "ham",
         "Did you catch the bus ? Are you frying an egg ? Did you make a tea? Are you eating your mom's left over dinner ? Do you feel my Love ?"
        ],
        [
         "28",
         "ham",
         "I'm back &amp; we're packing the car now, I'll let you know if there's room"
        ],
        [
         "29",
         "ham",
         "Ahhh. Work. I vaguely remember that! What does it feel like? Lol"
        ],
        [
         "30",
         "ham",
         "Wait that's still not all that clear, were you not sure about me being sarcastic or that that's why x doesn't want to live with us"
        ],
        [
         "31",
         "ham",
         "Yeah he got in at 2 and was v apologetic. n had fallen out and she was actin like spoilt child and he got caught up in that. Till 2! But we won't go there! Not doing too badly cheers. You? "
        ],
        [
         "32",
         "ham",
         "K tell me anything about you."
        ],
        [
         "33",
         "ham",
         "For fear of fainting with the of all that housework you just did? Quick have a cuppa"
        ],
        [
         "34",
         "spam",
         "Thanks for your subscription to Ringtone UK your mobile will be charged �5/month Please confirm by replying YES or NO. If you reply NO you will not be charged"
        ],
        [
         "35",
         "ham",
         "Yup... Ok i go home look at the timings then i msg �_ again... Xuhui going to learn on 2nd may too but her lesson is at 8am"
        ],
        [
         "36",
         "ham",
         "Oops, I'll let you know when my roommate's done"
        ],
        [
         "37",
         "ham",
         "I see the letter B on my car"
        ],
        [
         "38",
         "ham",
         "Anything lor... U decide..."
        ],
        [
         "39",
         "ham",
         "Hello! How's you and how did saturday go? I was just texting to see if you'd decided to do anything tomo. Not that i'm trying to invite myself or anything!"
        ],
        [
         "40",
         "ham",
         "Pls go ahead with watts. I just wanted to be sure. Do have a great weekend. Abiola"
        ],
        [
         "41",
         "ham",
         "Did I forget to tell you ? I want you , I need you, I crave you ... But most of all ... I love you my sweet Arabian steed ... Mmmmmm ... Yummy"
        ],
        [
         "42",
         "spam",
         "07732584351 - Rodger Burns - MSG = We tried to call you re your reply to our sms for a free nokia mobile + free camcorder. Please call now 08000930705 for delivery tomorrow"
        ],
        [
         "43",
         "ham",
         "WHO ARE YOU SEEING?"
        ],
        [
         "44",
         "ham",
         "Great! I hope you like your man well endowed. I am  &lt;#&gt;  inches..."
        ],
        [
         "45",
         "ham",
         "No calls..messages..missed calls"
        ],
        [
         "46",
         "ham",
         "Didn't you get hep b immunisation in nigeria."
        ],
        [
         "47",
         "ham",
         "Fair enough, anything going on?"
        ],
        [
         "48",
         "ham",
         "Yeah hopefully, if tyler can't do it I could maybe ask around a bit"
        ],
        [
         "49",
         "ham",
         "U don't know how stubborn I am. I didn't even want to go to the hospital. I kept telling Mark I'm not a weak sucker. Hospitals are for weak suckers."
        ]
       ],
       "shape": {
        "columns": 2,
        "rows": 5572
       }
      },
      "text/html": [
       "<div>\n",
       "<style scoped>\n",
       "    .dataframe tbody tr th:only-of-type {\n",
       "        vertical-align: middle;\n",
       "    }\n",
       "\n",
       "    .dataframe tbody tr th {\n",
       "        vertical-align: top;\n",
       "    }\n",
       "\n",
       "    .dataframe thead th {\n",
       "        text-align: right;\n",
       "    }\n",
       "</style>\n",
       "<table border=\"1\" class=\"dataframe\">\n",
       "  <thead>\n",
       "    <tr style=\"text-align: right;\">\n",
       "      <th></th>\n",
       "      <th>Label</th>\n",
       "      <th>EmailText</th>\n",
       "    </tr>\n",
       "  </thead>\n",
       "  <tbody>\n",
       "    <tr>\n",
       "      <th>0</th>\n",
       "      <td>ham</td>\n",
       "      <td>Go until jurong point, crazy.. Available only ...</td>\n",
       "    </tr>\n",
       "    <tr>\n",
       "      <th>1</th>\n",
       "      <td>ham</td>\n",
       "      <td>Ok lar... Joking wif u oni...</td>\n",
       "    </tr>\n",
       "    <tr>\n",
       "      <th>2</th>\n",
       "      <td>spam</td>\n",
       "      <td>Free entry in 2 a wkly comp to win FA Cup fina...</td>\n",
       "    </tr>\n",
       "    <tr>\n",
       "      <th>3</th>\n",
       "      <td>ham</td>\n",
       "      <td>U dun say so early hor... U c already then say...</td>\n",
       "    </tr>\n",
       "    <tr>\n",
       "      <th>4</th>\n",
       "      <td>ham</td>\n",
       "      <td>Nah I don't think he goes to usf, he lives aro...</td>\n",
       "    </tr>\n",
       "    <tr>\n",
       "      <th>...</th>\n",
       "      <td>...</td>\n",
       "      <td>...</td>\n",
       "    </tr>\n",
       "    <tr>\n",
       "      <th>5567</th>\n",
       "      <td>spam</td>\n",
       "      <td>This is the 2nd time we have tried 2 contact u...</td>\n",
       "    </tr>\n",
       "    <tr>\n",
       "      <th>5568</th>\n",
       "      <td>ham</td>\n",
       "      <td>Will �_ b going to esplanade fr home?</td>\n",
       "    </tr>\n",
       "    <tr>\n",
       "      <th>5569</th>\n",
       "      <td>ham</td>\n",
       "      <td>Pity, * was in mood for that. So...any other s...</td>\n",
       "    </tr>\n",
       "    <tr>\n",
       "      <th>5570</th>\n",
       "      <td>ham</td>\n",
       "      <td>The guy did some bitching but I acted like i'd...</td>\n",
       "    </tr>\n",
       "    <tr>\n",
       "      <th>5571</th>\n",
       "      <td>ham</td>\n",
       "      <td>Rofl. Its true to its name</td>\n",
       "    </tr>\n",
       "  </tbody>\n",
       "</table>\n",
       "<p>5572 rows × 2 columns</p>\n",
       "</div>"
      ],
      "text/plain": [
       "     Label                                          EmailText\n",
       "0      ham  Go until jurong point, crazy.. Available only ...\n",
       "1      ham                      Ok lar... Joking wif u oni...\n",
       "2     spam  Free entry in 2 a wkly comp to win FA Cup fina...\n",
       "3      ham  U dun say so early hor... U c already then say...\n",
       "4      ham  Nah I don't think he goes to usf, he lives aro...\n",
       "...    ...                                                ...\n",
       "5567  spam  This is the 2nd time we have tried 2 contact u...\n",
       "5568   ham              Will �_ b going to esplanade fr home?\n",
       "5569   ham  Pity, * was in mood for that. So...any other s...\n",
       "5570   ham  The guy did some bitching but I acted like i'd...\n",
       "5571   ham                         Rofl. Its true to its name\n",
       "\n",
       "[5572 rows x 2 columns]"
      ]
     },
     "execution_count": 232,
     "metadata": {},
     "output_type": "execute_result"
    }
   ],
   "source": [
    "df = pd.read_csv(\"Email_Spam.csv\")\n",
    "df.drop(columns=\"Unnamed: 0\",inplace=True)\n",
    "df"
   ]
  },
  {
   "cell_type": "code",
   "execution_count": 233,
   "id": "c40114c3",
   "metadata": {},
   "outputs": [
    {
     "data": {
      "application/vnd.microsoft.datawrangler.viewer.v0+json": {
       "columns": [
        {
         "name": "index",
         "rawType": "object",
         "type": "string"
        },
        {
         "name": "0",
         "rawType": "int64",
         "type": "integer"
        }
       ],
       "ref": "99660684-9cbc-42c9-976f-0316a43cb70c",
       "rows": [
        [
         "Label",
         "0"
        ],
        [
         "EmailText",
         "0"
        ]
       ],
       "shape": {
        "columns": 1,
        "rows": 2
       }
      },
      "text/plain": [
       "Label        0\n",
       "EmailText    0\n",
       "dtype: int64"
      ]
     },
     "execution_count": 233,
     "metadata": {},
     "output_type": "execute_result"
    }
   ],
   "source": [
    "df.isnull().sum()"
   ]
  },
  {
   "cell_type": "markdown",
   "id": "7f776524",
   "metadata": {},
   "source": [
    "### Duplicated Data\n",
    "\n",
    "> - We should delete it to prevent misleading to algorithm "
   ]
  },
  {
   "cell_type": "code",
   "execution_count": 234,
   "id": "35ae78c0",
   "metadata": {},
   "outputs": [
    {
     "data": {
      "text/plain": [
       "np.int64(403)"
      ]
     },
     "execution_count": 234,
     "metadata": {},
     "output_type": "execute_result"
    }
   ],
   "source": [
    "df.duplicated().sum()"
   ]
  },
  {
   "cell_type": "code",
   "execution_count": 235,
   "id": "fe014dc1",
   "metadata": {},
   "outputs": [
    {
     "data": {
      "application/vnd.microsoft.datawrangler.viewer.v0+json": {
       "columns": [
        {
         "name": "index",
         "rawType": "int64",
         "type": "integer"
        },
        {
         "name": "Label",
         "rawType": "object",
         "type": "string"
        },
        {
         "name": "EmailText",
         "rawType": "object",
         "type": "string"
        }
       ],
       "ref": "8d62bb38-a2ec-46ff-9045-ee40056f55a2",
       "rows": [
        [
         "102",
         "ham",
         "As per your request 'Melle Melle (Oru Minnaminunginte Nurungu Vettam)' has been set as your callertune for all Callers. Press *9 to copy your friends Callertune"
        ],
        [
         "153",
         "ham",
         "As per your request 'Melle Melle (Oru Minnaminunginte Nurungu Vettam)' has been set as your callertune for all Callers. Press *9 to copy your friends Callertune"
        ],
        [
         "206",
         "ham",
         "As I entered my cabin my PA said, '' Happy B'day Boss !!''. I felt special. She askd me 4 lunch. After lunch she invited me to her apartment. We went there."
        ],
        [
         "222",
         "ham",
         "Sorry, I'll call later"
        ],
        [
         "325",
         "ham",
         "No calls..messages..missed calls"
        ],
        [
         "338",
         "ham",
         "Sorry, I'll call later"
        ],
        [
         "356",
         "spam",
         "Congratulations ur awarded 500 of CD vouchers or 125gift guaranteed & Free entry 2 100 wkly draw txt MUSIC to 87066 TnCs www.Ldew.com1win150ppmx3age16"
        ],
        [
         "443",
         "ham",
         "Sorry, I'll call later"
        ],
        [
         "532",
         "ham",
         "Gudnite....tc...practice going on"
        ],
        [
         "654",
         "ham",
         "Did u got that persons story"
        ],
        [
         "657",
         "ham",
         "You will be in the place of that man"
        ],
        [
         "701",
         "ham",
         "Sorry, I'll call later"
        ],
        [
         "767",
         "ham",
         "Sorry, I'll call later"
        ],
        [
         "768",
         "ham",
         "I cant pick the phone right now. Pls send a message"
        ],
        [
         "774",
         "ham",
         "Just sleeping..and surfing"
        ],
        [
         "780",
         "ham",
         "Your opinion about me? 1. Over 2. Jada 3. Kusruthi 4. Lovable 5. Silent 6. Spl character 7. Not matured 8. Stylish 9. Simple Pls reply.."
        ],
        [
         "789",
         "ham",
         "Gud mrng dear hav a nice day"
        ],
        [
         "824",
         "ham",
         "Have a good evening! Ttyl"
        ],
        [
         "849",
         "spam",
         "Today's Offer! Claim ur �150 worth of discount vouchers! Text YES to 85023 now! SavaMob, member offers mobile! T Cs 08717898035. �3.00 Sub. 16 . Unsub reply X"
        ],
        [
         "899",
         "spam",
         "Your free ringtone is waiting to be collected. Simply text the password \\MIX\\\" to 85069 to verify. Get Usher and Britney. FML"
        ],
        [
         "962",
         "ham",
         "Watching cartoon, listening music &amp; at eve had to go temple &amp; church.. What about u?"
        ],
        [
         "964",
         "ham",
         "Are you this much buzy"
        ],
        [
         "1001",
         "spam",
         "Please call our customer service representative on FREEPHONE 0808 145 4742 between 9am-11pm as you have WON a guaranteed �1000 cash or �5000 prize!"
        ],
        [
         "1002",
         "ham",
         "Yes..he is really great..bhaji told kallis best cricketer after sachin in world:).very tough to get out."
        ],
        [
         "1042",
         "ham",
         "Easy ah?sen got selected means its good.."
        ],
        [
         "1131",
         "ham",
         "Sorry, I'll call later"
        ],
        [
         "1132",
         "ham",
         "Good morning princess! How are you?"
        ],
        [
         "1133",
         "ham",
         "As I entered my cabin my PA said, '' Happy B'day Boss !!''. I felt special. She askd me 4 lunch. After lunch she invited me to her apartment. We went there."
        ],
        [
         "1139",
         "ham",
         "Message:some text missing* Sender:Name Missing* *Number Missing *Sent:Date missing *Missing U a lot thats y everything is missing sent via fullonsms.com"
        ],
        [
         "1151",
         "ham",
         "Sorry, I'll call later"
        ],
        [
         "1162",
         "spam",
         "Free entry in 2 a wkly comp to win FA Cup final tkts 21st May 2005. Text FA to 87121 to receive entry question(std txt rate)T&C's apply 08452810075over18's"
        ],
        [
         "1163",
         "ham",
         "New Theory: Argument wins d SITUATION, but loses the PERSON. So dont argue with ur friends just.. . . . kick them &amp; say, I'm always correct.!"
        ],
        [
         "1197",
         "ham",
         "He also knows about lunch menu only da. . I know"
        ],
        [
         "1224",
         "spam",
         "You are a winner U have been specially selected 2 receive �1000 cash or a 4* holiday (flights inc) speak to a live operator 2 claim 0871277810810"
        ],
        [
         "1235",
         "ham",
         "Your opinion about me? 1. Over 2. Jada 3. Kusruthi 4. Lovable 5. Silent 6. Spl character 7. Not matured 8. Stylish 9. Simple Pls reply.."
        ],
        [
         "1249",
         "ham",
         "I call you later, don't have network. If urgnt, sms me."
        ],
        [
         "1250",
         "ham",
         "Ummmmmaah Many many happy returns of d day my dear sweet heart.. HAPPY BIRTHDAY dear"
        ],
        [
         "1303",
         "ham",
         "I cant pick the phone right now. Pls send a message"
        ],
        [
         "1318",
         "ham",
         "Ok..."
        ],
        [
         "1355",
         "ham",
         "Convey my regards to him"
        ],
        [
         "1379",
         "spam",
         "No. 1 Nokia Tone 4 ur mob every week! Just txt NOK to 87021. 1st Tone FREE ! so get txtin now and tell ur friends. 150p/tone. 16 reply HL 4info"
        ],
        [
         "1402",
         "ham",
         "You have registered Sinco as Payee. Log in at icicibank.com and enter URN  &lt;#&gt;  to confirm. Beware of frauds. Do NOT share or disclose URN to anyone."
        ],
        [
         "1412",
         "ham",
         "Wen ur lovable bcums angry wid u, dnt take it seriously.. Coz being angry is d most childish n true way of showing deep affection, care n luv!.. kettoda manda... Have nice day da."
        ],
        [
         "1426",
         "ham",
         "Ok..."
        ],
        [
         "1458",
         "ham",
         "Fighting with the world is easy, u either win or lose bt fightng with some1 who is close to u is dificult if u lose - u lose if u win - u still lose."
        ],
        [
         "1466",
         "ham",
         "Your account has been refilled successfully by INR  &lt;DECIMAL&gt; . Your KeralaCircle prepaid account balance is Rs  &lt;DECIMAL&gt; . Your Transaction ID is KR &lt;#&gt; ."
        ],
        [
         "1482",
         "ham",
         "Ok..."
        ],
        [
         "1484",
         "ham",
         "Sorry, I'll call later"
        ],
        [
         "1507",
         "ham",
         "Wen ur lovable bcums angry wid u, dnt take it seriously.. Coz being angry is d most childish n true way of showing deep affection, care n luv!.. kettoda manda... Have nice day da."
        ],
        [
         "1568",
         "ham",
         "Today is ACCEPT DAY..U Accept me as? Brother Sister Lover Dear1 Best1 Clos1 Lvblefrnd Jstfrnd Cutefrnd Lifpartnr Belovd Swtheart Bstfrnd No rply means enemy"
        ]
       ],
       "shape": {
        "columns": 2,
        "rows": 403
       }
      },
      "text/html": [
       "<div>\n",
       "<style scoped>\n",
       "    .dataframe tbody tr th:only-of-type {\n",
       "        vertical-align: middle;\n",
       "    }\n",
       "\n",
       "    .dataframe tbody tr th {\n",
       "        vertical-align: top;\n",
       "    }\n",
       "\n",
       "    .dataframe thead th {\n",
       "        text-align: right;\n",
       "    }\n",
       "</style>\n",
       "<table border=\"1\" class=\"dataframe\">\n",
       "  <thead>\n",
       "    <tr style=\"text-align: right;\">\n",
       "      <th></th>\n",
       "      <th>Label</th>\n",
       "      <th>EmailText</th>\n",
       "    </tr>\n",
       "  </thead>\n",
       "  <tbody>\n",
       "    <tr>\n",
       "      <th>102</th>\n",
       "      <td>ham</td>\n",
       "      <td>As per your request 'Melle Melle (Oru Minnamin...</td>\n",
       "    </tr>\n",
       "    <tr>\n",
       "      <th>153</th>\n",
       "      <td>ham</td>\n",
       "      <td>As per your request 'Melle Melle (Oru Minnamin...</td>\n",
       "    </tr>\n",
       "    <tr>\n",
       "      <th>206</th>\n",
       "      <td>ham</td>\n",
       "      <td>As I entered my cabin my PA said, '' Happy B'd...</td>\n",
       "    </tr>\n",
       "    <tr>\n",
       "      <th>222</th>\n",
       "      <td>ham</td>\n",
       "      <td>Sorry, I'll call later</td>\n",
       "    </tr>\n",
       "    <tr>\n",
       "      <th>325</th>\n",
       "      <td>ham</td>\n",
       "      <td>No calls..messages..missed calls</td>\n",
       "    </tr>\n",
       "    <tr>\n",
       "      <th>...</th>\n",
       "      <td>...</td>\n",
       "      <td>...</td>\n",
       "    </tr>\n",
       "    <tr>\n",
       "      <th>5524</th>\n",
       "      <td>spam</td>\n",
       "      <td>You are awarded a SiPix Digital Camera! call 0...</td>\n",
       "    </tr>\n",
       "    <tr>\n",
       "      <th>5535</th>\n",
       "      <td>ham</td>\n",
       "      <td>I know you are thinkin malaria. But relax, chi...</td>\n",
       "    </tr>\n",
       "    <tr>\n",
       "      <th>5539</th>\n",
       "      <td>ham</td>\n",
       "      <td>Just sleeping..and surfing</td>\n",
       "    </tr>\n",
       "    <tr>\n",
       "      <th>5553</th>\n",
       "      <td>ham</td>\n",
       "      <td>Hahaha..use your brain dear</td>\n",
       "    </tr>\n",
       "    <tr>\n",
       "      <th>5558</th>\n",
       "      <td>ham</td>\n",
       "      <td>Sorry, I'll call later</td>\n",
       "    </tr>\n",
       "  </tbody>\n",
       "</table>\n",
       "<p>403 rows × 2 columns</p>\n",
       "</div>"
      ],
      "text/plain": [
       "     Label                                          EmailText\n",
       "102    ham  As per your request 'Melle Melle (Oru Minnamin...\n",
       "153    ham  As per your request 'Melle Melle (Oru Minnamin...\n",
       "206    ham  As I entered my cabin my PA said, '' Happy B'd...\n",
       "222    ham                             Sorry, I'll call later\n",
       "325    ham                   No calls..messages..missed calls\n",
       "...    ...                                                ...\n",
       "5524  spam  You are awarded a SiPix Digital Camera! call 0...\n",
       "5535   ham  I know you are thinkin malaria. But relax, chi...\n",
       "5539   ham                         Just sleeping..and surfing\n",
       "5553   ham                        Hahaha..use your brain dear\n",
       "5558   ham                             Sorry, I'll call later\n",
       "\n",
       "[403 rows x 2 columns]"
      ]
     },
     "execution_count": 235,
     "metadata": {},
     "output_type": "execute_result"
    }
   ],
   "source": [
    "df[df.duplicated()]"
   ]
  },
  {
   "cell_type": "code",
   "execution_count": 236,
   "id": "971d95d6",
   "metadata": {},
   "outputs": [
    {
     "data": {
      "application/vnd.microsoft.datawrangler.viewer.v0+json": {
       "columns": [
        {
         "name": "index",
         "rawType": "int64",
         "type": "integer"
        },
        {
         "name": "Label",
         "rawType": "object",
         "type": "string"
        },
        {
         "name": "EmailText",
         "rawType": "object",
         "type": "string"
        }
       ],
       "ref": "49c27510-5ae0-4bd7-8b87-4025c42129a0",
       "rows": [
        [
         "0",
         "ham",
         "Go until jurong point, crazy.. Available only in bugis n great world la e buffet... Cine there got amore wat..."
        ],
        [
         "1",
         "ham",
         "Ok lar... Joking wif u oni..."
        ],
        [
         "2",
         "spam",
         "Free entry in 2 a wkly comp to win FA Cup final tkts 21st May 2005. Text FA to 87121 to receive entry question(std txt rate)T&C's apply 08452810075over18's"
        ],
        [
         "3",
         "ham",
         "U dun say so early hor... U c already then say..."
        ],
        [
         "4",
         "ham",
         "Nah I don't think he goes to usf, he lives around here though"
        ],
        [
         "5",
         "spam",
         "FreeMsg Hey there darling it's been 3 week's now and no word back! I'd like some fun you up for it still? Tb ok! XxX std chgs to send, �1.50 to rcv"
        ],
        [
         "6",
         "ham",
         "Even my brother is not like to speak with me. They treat me like aids patent."
        ],
        [
         "7",
         "ham",
         "As per your request 'Melle Melle (Oru Minnaminunginte Nurungu Vettam)' has been set as your callertune for all Callers. Press *9 to copy your friends Callertune"
        ],
        [
         "8",
         "spam",
         "WINNER!! As a valued network customer you have been selected to receivea �900 prize reward! To claim call 09061701461. Claim code KL341. Valid 12 hours only."
        ],
        [
         "9",
         "spam",
         "Had your mobile 11 months or more? U R entitled to Update to the latest colour mobiles with camera for Free! Call The Mobile Update Co FREE on 08002986030"
        ],
        [
         "10",
         "ham",
         "I'm gonna be home soon and i don't want to talk about this stuff anymore tonight, k? I've cried enough today."
        ],
        [
         "11",
         "spam",
         "SIX chances to win CASH! From 100 to 20,000 pounds txt> CSH11 and send to 87575. Cost 150p/day, 6days, 16+ TsandCs apply Reply HL 4 info"
        ],
        [
         "12",
         "spam",
         "URGENT! You have won a 1 week FREE membership in our �100,000 Prize Jackpot! Txt the word: CLAIM to No: 81010 T&C www.dbuk.net LCCLTD POBOX 4403LDNW1A7RW18"
        ],
        [
         "13",
         "ham",
         "I've been searching for the right words to thank you for this breather. I promise i wont take your help for granted and will fulfil my promise. You have been wonderful and a blessing at all times."
        ],
        [
         "14",
         "ham",
         "I HAVE A DATE ON SUNDAY WITH WILL!!"
        ],
        [
         "15",
         "spam",
         "XXXMobileMovieClub: To use your credit, click the WAP link in the next txt message or click here>> http://wap. xxxmobilemovieclub.com?n=QJKGIGHJJGCBL"
        ],
        [
         "16",
         "ham",
         "Oh k...i'm watching here:)"
        ],
        [
         "17",
         "ham",
         "Eh u remember how 2 spell his name... Yes i did. He v naughty make until i v wet."
        ],
        [
         "18",
         "ham",
         "Fine if that��s the way u feel. That��s the way its gota b"
        ],
        [
         "19",
         "spam",
         "England v Macedonia - dont miss the goals/team news. Txt ur national team to 87077 eg ENGLAND to 87077 Try:WALES, SCOTLAND 4txt/̼1.20 POBOXox36504W45WQ 16+"
        ],
        [
         "20",
         "ham",
         "Is that seriously how you spell his name?"
        ],
        [
         "21",
         "ham",
         "I���m going to try for 2 months ha ha only joking"
        ],
        [
         "22",
         "ham",
         "So �_ pay first lar... Then when is da stock comin..."
        ],
        [
         "23",
         "ham",
         "Aft i finish my lunch then i go str down lor. Ard 3 smth lor. U finish ur lunch already?"
        ],
        [
         "24",
         "ham",
         "Ffffffffff. Alright no way I can meet up with you sooner?"
        ],
        [
         "25",
         "ham",
         "Just forced myself to eat a slice. I'm really not hungry tho. This sucks. Mark is getting worried. He knows I'm sick when I turn down pizza. Lol"
        ],
        [
         "26",
         "ham",
         "Lol your always so convincing."
        ],
        [
         "27",
         "ham",
         "Did you catch the bus ? Are you frying an egg ? Did you make a tea? Are you eating your mom's left over dinner ? Do you feel my Love ?"
        ],
        [
         "28",
         "ham",
         "I'm back &amp; we're packing the car now, I'll let you know if there's room"
        ],
        [
         "29",
         "ham",
         "Ahhh. Work. I vaguely remember that! What does it feel like? Lol"
        ],
        [
         "30",
         "ham",
         "Wait that's still not all that clear, were you not sure about me being sarcastic or that that's why x doesn't want to live with us"
        ],
        [
         "31",
         "ham",
         "Yeah he got in at 2 and was v apologetic. n had fallen out and she was actin like spoilt child and he got caught up in that. Till 2! But we won't go there! Not doing too badly cheers. You? "
        ],
        [
         "32",
         "ham",
         "K tell me anything about you."
        ],
        [
         "33",
         "ham",
         "For fear of fainting with the of all that housework you just did? Quick have a cuppa"
        ],
        [
         "34",
         "spam",
         "Thanks for your subscription to Ringtone UK your mobile will be charged �5/month Please confirm by replying YES or NO. If you reply NO you will not be charged"
        ],
        [
         "35",
         "ham",
         "Yup... Ok i go home look at the timings then i msg �_ again... Xuhui going to learn on 2nd may too but her lesson is at 8am"
        ],
        [
         "36",
         "ham",
         "Oops, I'll let you know when my roommate's done"
        ],
        [
         "37",
         "ham",
         "I see the letter B on my car"
        ],
        [
         "38",
         "ham",
         "Anything lor... U decide..."
        ],
        [
         "39",
         "ham",
         "Hello! How's you and how did saturday go? I was just texting to see if you'd decided to do anything tomo. Not that i'm trying to invite myself or anything!"
        ],
        [
         "40",
         "ham",
         "Pls go ahead with watts. I just wanted to be sure. Do have a great weekend. Abiola"
        ],
        [
         "41",
         "ham",
         "Did I forget to tell you ? I want you , I need you, I crave you ... But most of all ... I love you my sweet Arabian steed ... Mmmmmm ... Yummy"
        ],
        [
         "42",
         "spam",
         "07732584351 - Rodger Burns - MSG = We tried to call you re your reply to our sms for a free nokia mobile + free camcorder. Please call now 08000930705 for delivery tomorrow"
        ],
        [
         "43",
         "ham",
         "WHO ARE YOU SEEING?"
        ],
        [
         "44",
         "ham",
         "Great! I hope you like your man well endowed. I am  &lt;#&gt;  inches..."
        ],
        [
         "45",
         "ham",
         "No calls..messages..missed calls"
        ],
        [
         "46",
         "ham",
         "Didn't you get hep b immunisation in nigeria."
        ],
        [
         "47",
         "ham",
         "Fair enough, anything going on?"
        ],
        [
         "48",
         "ham",
         "Yeah hopefully, if tyler can't do it I could maybe ask around a bit"
        ],
        [
         "49",
         "ham",
         "U don't know how stubborn I am. I didn't even want to go to the hospital. I kept telling Mark I'm not a weak sucker. Hospitals are for weak suckers."
        ]
       ],
       "shape": {
        "columns": 2,
        "rows": 5169
       }
      },
      "text/html": [
       "<div>\n",
       "<style scoped>\n",
       "    .dataframe tbody tr th:only-of-type {\n",
       "        vertical-align: middle;\n",
       "    }\n",
       "\n",
       "    .dataframe tbody tr th {\n",
       "        vertical-align: top;\n",
       "    }\n",
       "\n",
       "    .dataframe thead th {\n",
       "        text-align: right;\n",
       "    }\n",
       "</style>\n",
       "<table border=\"1\" class=\"dataframe\">\n",
       "  <thead>\n",
       "    <tr style=\"text-align: right;\">\n",
       "      <th></th>\n",
       "      <th>Label</th>\n",
       "      <th>EmailText</th>\n",
       "    </tr>\n",
       "  </thead>\n",
       "  <tbody>\n",
       "    <tr>\n",
       "      <th>0</th>\n",
       "      <td>ham</td>\n",
       "      <td>Go until jurong point, crazy.. Available only ...</td>\n",
       "    </tr>\n",
       "    <tr>\n",
       "      <th>1</th>\n",
       "      <td>ham</td>\n",
       "      <td>Ok lar... Joking wif u oni...</td>\n",
       "    </tr>\n",
       "    <tr>\n",
       "      <th>2</th>\n",
       "      <td>spam</td>\n",
       "      <td>Free entry in 2 a wkly comp to win FA Cup fina...</td>\n",
       "    </tr>\n",
       "    <tr>\n",
       "      <th>3</th>\n",
       "      <td>ham</td>\n",
       "      <td>U dun say so early hor... U c already then say...</td>\n",
       "    </tr>\n",
       "    <tr>\n",
       "      <th>4</th>\n",
       "      <td>ham</td>\n",
       "      <td>Nah I don't think he goes to usf, he lives aro...</td>\n",
       "    </tr>\n",
       "    <tr>\n",
       "      <th>...</th>\n",
       "      <td>...</td>\n",
       "      <td>...</td>\n",
       "    </tr>\n",
       "    <tr>\n",
       "      <th>5567</th>\n",
       "      <td>spam</td>\n",
       "      <td>This is the 2nd time we have tried 2 contact u...</td>\n",
       "    </tr>\n",
       "    <tr>\n",
       "      <th>5568</th>\n",
       "      <td>ham</td>\n",
       "      <td>Will �_ b going to esplanade fr home?</td>\n",
       "    </tr>\n",
       "    <tr>\n",
       "      <th>5569</th>\n",
       "      <td>ham</td>\n",
       "      <td>Pity, * was in mood for that. So...any other s...</td>\n",
       "    </tr>\n",
       "    <tr>\n",
       "      <th>5570</th>\n",
       "      <td>ham</td>\n",
       "      <td>The guy did some bitching but I acted like i'd...</td>\n",
       "    </tr>\n",
       "    <tr>\n",
       "      <th>5571</th>\n",
       "      <td>ham</td>\n",
       "      <td>Rofl. Its true to its name</td>\n",
       "    </tr>\n",
       "  </tbody>\n",
       "</table>\n",
       "<p>5169 rows × 2 columns</p>\n",
       "</div>"
      ],
      "text/plain": [
       "     Label                                          EmailText\n",
       "0      ham  Go until jurong point, crazy.. Available only ...\n",
       "1      ham                      Ok lar... Joking wif u oni...\n",
       "2     spam  Free entry in 2 a wkly comp to win FA Cup fina...\n",
       "3      ham  U dun say so early hor... U c already then say...\n",
       "4      ham  Nah I don't think he goes to usf, he lives aro...\n",
       "...    ...                                                ...\n",
       "5567  spam  This is the 2nd time we have tried 2 contact u...\n",
       "5568   ham              Will �_ b going to esplanade fr home?\n",
       "5569   ham  Pity, * was in mood for that. So...any other s...\n",
       "5570   ham  The guy did some bitching but I acted like i'd...\n",
       "5571   ham                         Rofl. Its true to its name\n",
       "\n",
       "[5169 rows x 2 columns]"
      ]
     },
     "execution_count": 236,
     "metadata": {},
     "output_type": "execute_result"
    }
   ],
   "source": [
    "df.drop_duplicates(inplace=True)\n",
    "df"
   ]
  },
  {
   "cell_type": "markdown",
   "id": "86d5ac2c",
   "metadata": {},
   "source": [
    "## 💥 **Imbalanced classes**, which introduce bias to the majority class"
   ]
  },
  {
   "cell_type": "code",
   "execution_count": 237,
   "id": "7bc23f79",
   "metadata": {},
   "outputs": [
    {
     "data": {
      "image/png": "[encoded data removed]",
      "text/plain": [
       "<Figure size 640x480 with 1 Axes>"
      ]
     },
     "metadata": {},
     "output_type": "display_data"
    }
   ],
   "source": [
    "plt.pie(df[\"Label\"].value_counts(),labels=[\"ham\",\"spam\"],autopct='%1.0f%%')\n",
    "plt.title(label=\"Classes Balance\")\n",
    "plt.show()\n"
   ]
  },
  {
   "cell_type": "markdown",
   "id": "530dc5f4",
   "metadata": {},
   "source": [
    "# **`NOW`** we Start Text Preprocessing "
   ]
  },
  {
   "cell_type": "markdown",
   "id": "1a1d364f",
   "metadata": {},
   "source": [
    "## `1` Lowering Text "
   ]
  },
  {
   "cell_type": "code",
   "execution_count": 238,
   "id": "2738b5b9",
   "metadata": {},
   "outputs": [
    {
     "data": {
      "application/vnd.microsoft.datawrangler.viewer.v0+json": {
       "columns": [
        {
         "name": "index",
         "rawType": "int64",
         "type": "integer"
        },
        {
         "name": "Label",
         "rawType": "object",
         "type": "string"
        },
        {
         "name": "EmailText",
         "rawType": "object",
         "type": "string"
        },
        {
         "name": "CleanEmailText",
         "rawType": "object",
         "type": "string"
        }
       ],
       "ref": "8e5039c4-c47d-4c1d-b4c7-5fde1945c59d",
       "rows": [
        [
         "0",
         "ham",
         "Go until jurong point, crazy.. Available only in bugis n great world la e buffet... Cine there got amore wat...",
         "go until jurong point, crazy.. available only in bugis n great world la e buffet... cine there got amore wat..."
        ],
        [
         "1",
         "ham",
         "Ok lar... Joking wif u oni...",
         "ok lar... joking wif u oni..."
        ],
        [
         "2",
         "spam",
         "Free entry in 2 a wkly comp to win FA Cup final tkts 21st May 2005. Text FA to 87121 to receive entry question(std txt rate)T&C's apply 08452810075over18's",
         "free entry in 2 a wkly comp to win fa cup final tkts 21st may 2005. text fa to 87121 to receive entry question(std txt rate)t&c's apply 08452810075over18's"
        ],
        [
         "3",
         "ham",
         "U dun say so early hor... U c already then say...",
         "u dun say so early hor... u c already then say..."
        ],
        [
         "4",
         "ham",
         "Nah I don't think he goes to usf, he lives around here though",
         "nah i don't think he goes to usf, he lives around here though"
        ],
        [
         "5",
         "spam",
         "FreeMsg Hey there darling it's been 3 week's now and no word back! I'd like some fun you up for it still? Tb ok! XxX std chgs to send, �1.50 to rcv",
         "freemsg hey there darling it's been 3 week's now and no word back! i'd like some fun you up for it still? tb ok! xxx std chgs to send, �1.50 to rcv"
        ],
        [
         "6",
         "ham",
         "Even my brother is not like to speak with me. They treat me like aids patent.",
         "even my brother is not like to speak with me. they treat me like aids patent."
        ],
        [
         "7",
         "ham",
         "As per your request 'Melle Melle (Oru Minnaminunginte Nurungu Vettam)' has been set as your callertune for all Callers. Press *9 to copy your friends Callertune",
         "as per your request 'melle melle (oru minnaminunginte nurungu vettam)' has been set as your callertune for all callers. press *9 to copy your friends callertune"
        ],
        [
         "8",
         "spam",
         "WINNER!! As a valued network customer you have been selected to receivea �900 prize reward! To claim call 09061701461. Claim code KL341. Valid 12 hours only.",
         "winner!! as a valued network customer you have been selected to receivea �900 prize reward! to claim call 09061701461. claim code kl341. valid 12 hours only."
        ],
        [
         "9",
         "spam",
         "Had your mobile 11 months or more? U R entitled to Update to the latest colour mobiles with camera for Free! Call The Mobile Update Co FREE on 08002986030",
         "had your mobile 11 months or more? u r entitled to update to the latest colour mobiles with camera for free! call the mobile update co free on 08002986030"
        ],
        [
         "10",
         "ham",
         "I'm gonna be home soon and i don't want to talk about this stuff anymore tonight, k? I've cried enough today.",
         "i'm gonna be home soon and i don't want to talk about this stuff anymore tonight, k? i've cried enough today."
        ],
        [
         "11",
         "spam",
         "SIX chances to win CASH! From 100 to 20,000 pounds txt> CSH11 and send to 87575. Cost 150p/day, 6days, 16+ TsandCs apply Reply HL 4 info",
         "six chances to win cash! from 100 to 20,000 pounds txt> csh11 and send to 87575. cost 150p/day, 6days, 16+ tsandcs apply reply hl 4 info"
        ],
        [
         "12",
         "spam",
         "URGENT! You have won a 1 week FREE membership in our �100,000 Prize Jackpot! Txt the word: CLAIM to No: 81010 T&C www.dbuk.net LCCLTD POBOX 4403LDNW1A7RW18",
         "urgent! you have won a 1 week free membership in our �100,000 prize jackpot! txt the word: claim to no: 81010 t&c www.dbuk.net lccltd pobox 4403ldnw1a7rw18"
        ],
        [
         "13",
         "ham",
         "I've been searching for the right words to thank you for this breather. I promise i wont take your help for granted and will fulfil my promise. You have been wonderful and a blessing at all times.",
         "i've been searching for the right words to thank you for this breather. i promise i wont take your help for granted and will fulfil my promise. you have been wonderful and a blessing at all times."
        ],
        [
         "14",
         "ham",
         "I HAVE A DATE ON SUNDAY WITH WILL!!",
         "i have a date on sunday with will!!"
        ],
        [
         "15",
         "spam",
         "XXXMobileMovieClub: To use your credit, click the WAP link in the next txt message or click here>> http://wap. xxxmobilemovieclub.com?n=QJKGIGHJJGCBL",
         "xxxmobilemovieclub: to use your credit, click the wap link in the next txt message or click here>> http://wap. xxxmobilemovieclub.com?n=qjkgighjjgcbl"
        ],
        [
         "16",
         "ham",
         "Oh k...i'm watching here:)",
         "oh k...i'm watching here:)"
        ],
        [
         "17",
         "ham",
         "Eh u remember how 2 spell his name... Yes i did. He v naughty make until i v wet.",
         "eh u remember how 2 spell his name... yes i did. he v naughty make until i v wet."
        ],
        [
         "18",
         "ham",
         "Fine if that��s the way u feel. That��s the way its gota b",
         "fine if that��s the way u feel. that��s the way its gota b"
        ],
        [
         "19",
         "spam",
         "England v Macedonia - dont miss the goals/team news. Txt ur national team to 87077 eg ENGLAND to 87077 Try:WALES, SCOTLAND 4txt/̼1.20 POBOXox36504W45WQ 16+",
         "england v macedonia - dont miss the goals/team news. txt ur national team to 87077 eg england to 87077 try:wales, scotland 4txt/̼1.20 poboxox36504w45wq 16+"
        ],
        [
         "20",
         "ham",
         "Is that seriously how you spell his name?",
         "is that seriously how you spell his name?"
        ],
        [
         "21",
         "ham",
         "I���m going to try for 2 months ha ha only joking",
         "i���m going to try for 2 months ha ha only joking"
        ],
        [
         "22",
         "ham",
         "So �_ pay first lar... Then when is da stock comin...",
         "so �_ pay first lar... then when is da stock comin..."
        ],
        [
         "23",
         "ham",
         "Aft i finish my lunch then i go str down lor. Ard 3 smth lor. U finish ur lunch already?",
         "aft i finish my lunch then i go str down lor. ard 3 smth lor. u finish ur lunch already?"
        ],
        [
         "24",
         "ham",
         "Ffffffffff. Alright no way I can meet up with you sooner?",
         "ffffffffff. alright no way i can meet up with you sooner?"
        ],
        [
         "25",
         "ham",
         "Just forced myself to eat a slice. I'm really not hungry tho. This sucks. Mark is getting worried. He knows I'm sick when I turn down pizza. Lol",
         "just forced myself to eat a slice. i'm really not hungry tho. this sucks. mark is getting worried. he knows i'm sick when i turn down pizza. lol"
        ],
        [
         "26",
         "ham",
         "Lol your always so convincing.",
         "lol your always so convincing."
        ],
        [
         "27",
         "ham",
         "Did you catch the bus ? Are you frying an egg ? Did you make a tea? Are you eating your mom's left over dinner ? Do you feel my Love ?",
         "did you catch the bus ? are you frying an egg ? did you make a tea? are you eating your mom's left over dinner ? do you feel my love ?"
        ],
        [
         "28",
         "ham",
         "I'm back &amp; we're packing the car now, I'll let you know if there's room",
         "i'm back &amp; we're packing the car now, i'll let you know if there's room"
        ],
        [
         "29",
         "ham",
         "Ahhh. Work. I vaguely remember that! What does it feel like? Lol",
         "ahhh. work. i vaguely remember that! what does it feel like? lol"
        ],
        [
         "30",
         "ham",
         "Wait that's still not all that clear, were you not sure about me being sarcastic or that that's why x doesn't want to live with us",
         "wait that's still not all that clear, were you not sure about me being sarcastic or that that's why x doesn't want to live with us"
        ],
        [
         "31",
         "ham",
         "Yeah he got in at 2 and was v apologetic. n had fallen out and she was actin like spoilt child and he got caught up in that. Till 2! But we won't go there! Not doing too badly cheers. You? ",
         "yeah he got in at 2 and was v apologetic. n had fallen out and she was actin like spoilt child and he got caught up in that. till 2! but we won't go there! not doing too badly cheers. you? "
        ],
        [
         "32",
         "ham",
         "K tell me anything about you.",
         "k tell me anything about you."
        ],
        [
         "33",
         "ham",
         "For fear of fainting with the of all that housework you just did? Quick have a cuppa",
         "for fear of fainting with the of all that housework you just did? quick have a cuppa"
        ],
        [
         "34",
         "spam",
         "Thanks for your subscription to Ringtone UK your mobile will be charged �5/month Please confirm by replying YES or NO. If you reply NO you will not be charged",
         "thanks for your subscription to ringtone uk your mobile will be charged �5/month please confirm by replying yes or no. if you reply no you will not be charged"
        ],
        [
         "35",
         "ham",
         "Yup... Ok i go home look at the timings then i msg �_ again... Xuhui going to learn on 2nd may too but her lesson is at 8am",
         "yup... ok i go home look at the timings then i msg �_ again... xuhui going to learn on 2nd may too but her lesson is at 8am"
        ],
        [
         "36",
         "ham",
         "Oops, I'll let you know when my roommate's done",
         "oops, i'll let you know when my roommate's done"
        ],
        [
         "37",
         "ham",
         "I see the letter B on my car",
         "i see the letter b on my car"
        ],
        [
         "38",
         "ham",
         "Anything lor... U decide...",
         "anything lor... u decide..."
        ],
        [
         "39",
         "ham",
         "Hello! How's you and how did saturday go? I was just texting to see if you'd decided to do anything tomo. Not that i'm trying to invite myself or anything!",
         "hello! how's you and how did saturday go? i was just texting to see if you'd decided to do anything tomo. not that i'm trying to invite myself or anything!"
        ],
        [
         "40",
         "ham",
         "Pls go ahead with watts. I just wanted to be sure. Do have a great weekend. Abiola",
         "pls go ahead with watts. i just wanted to be sure. do have a great weekend. abiola"
        ],
        [
         "41",
         "ham",
         "Did I forget to tell you ? I want you , I need you, I crave you ... But most of all ... I love you my sweet Arabian steed ... Mmmmmm ... Yummy",
         "did i forget to tell you ? i want you , i need you, i crave you ... but most of all ... i love you my sweet arabian steed ... mmmmmm ... yummy"
        ],
        [
         "42",
         "spam",
         "07732584351 - Rodger Burns - MSG = We tried to call you re your reply to our sms for a free nokia mobile + free camcorder. Please call now 08000930705 for delivery tomorrow",
         "07732584351 - rodger burns - msg = we tried to call you re your reply to our sms for a free nokia mobile + free camcorder. please call now 08000930705 for delivery tomorrow"
        ],
        [
         "43",
         "ham",
         "WHO ARE YOU SEEING?",
         "who are you seeing?"
        ],
        [
         "44",
         "ham",
         "Great! I hope you like your man well endowed. I am  &lt;#&gt;  inches...",
         "great! i hope you like your man well endowed. i am  &lt;#&gt;  inches..."
        ],
        [
         "45",
         "ham",
         "No calls..messages..missed calls",
         "no calls..messages..missed calls"
        ],
        [
         "46",
         "ham",
         "Didn't you get hep b immunisation in nigeria.",
         "didn't you get hep b immunisation in nigeria."
        ],
        [
         "47",
         "ham",
         "Fair enough, anything going on?",
         "fair enough, anything going on?"
        ],
        [
         "48",
         "ham",
         "Yeah hopefully, if tyler can't do it I could maybe ask around a bit",
         "yeah hopefully, if tyler can't do it i could maybe ask around a bit"
        ],
        [
         "49",
         "ham",
         "U don't know how stubborn I am. I didn't even want to go to the hospital. I kept telling Mark I'm not a weak sucker. Hospitals are for weak suckers.",
         "u don't know how stubborn i am. i didn't even want to go to the hospital. i kept telling mark i'm not a weak sucker. hospitals are for weak suckers."
        ]
       ],
       "shape": {
        "columns": 3,
        "rows": 5169
       }
      },
      "text/html": [
       "<div>\n",
       "<style scoped>\n",
       "    .dataframe tbody tr th:only-of-type {\n",
       "        vertical-align: middle;\n",
       "    }\n",
       "\n",
       "    .dataframe tbody tr th {\n",
       "        vertical-align: top;\n",
       "    }\n",
       "\n",
       "    .dataframe thead th {\n",
       "        text-align: right;\n",
       "    }\n",
       "</style>\n",
       "<table border=\"1\" class=\"dataframe\">\n",
       "  <thead>\n",
       "    <tr style=\"text-align: right;\">\n",
       "      <th></th>\n",
       "      <th>Label</th>\n",
       "      <th>EmailText</th>\n",
       "      <th>CleanEmailText</th>\n",
       "    </tr>\n",
       "  </thead>\n",
       "  <tbody>\n",
       "    <tr>\n",
       "      <th>0</th>\n",
       "      <td>ham</td>\n",
       "      <td>Go until jurong point, crazy.. Available only ...</td>\n",
       "      <td>go until jurong point, crazy.. available only ...</td>\n",
       "    </tr>\n",
       "    <tr>\n",
       "      <th>1</th>\n",
       "      <td>ham</td>\n",
       "      <td>Ok lar... Joking wif u oni...</td>\n",
       "      <td>ok lar... joking wif u oni...</td>\n",
       "    </tr>\n",
       "    <tr>\n",
       "      <th>2</th>\n",
       "      <td>spam</td>\n",
       "      <td>Free entry in 2 a wkly comp to win FA Cup fina...</td>\n",
       "      <td>free entry in 2 a wkly comp to win fa cup fina...</td>\n",
       "    </tr>\n",
       "    <tr>\n",
       "      <th>3</th>\n",
       "      <td>ham</td>\n",
       "      <td>U dun say so early hor... U c already then say...</td>\n",
       "      <td>u dun say so early hor... u c already then say...</td>\n",
       "    </tr>\n",
       "    <tr>\n",
       "      <th>4</th>\n",
       "      <td>ham</td>\n",
       "      <td>Nah I don't think he goes to usf, he lives aro...</td>\n",
       "      <td>nah i don't think he goes to usf, he lives aro...</td>\n",
       "    </tr>\n",
       "    <tr>\n",
       "      <th>...</th>\n",
       "      <td>...</td>\n",
       "      <td>...</td>\n",
       "      <td>...</td>\n",
       "    </tr>\n",
       "    <tr>\n",
       "      <th>5567</th>\n",
       "      <td>spam</td>\n",
       "      <td>This is the 2nd time we have tried 2 contact u...</td>\n",
       "      <td>this is the 2nd time we have tried 2 contact u...</td>\n",
       "    </tr>\n",
       "    <tr>\n",
       "      <th>5568</th>\n",
       "      <td>ham</td>\n",
       "      <td>Will �_ b going to esplanade fr home?</td>\n",
       "      <td>will �_ b going to esplanade fr home?</td>\n",
       "    </tr>\n",
       "    <tr>\n",
       "      <th>5569</th>\n",
       "      <td>ham</td>\n",
       "      <td>Pity, * was in mood for that. So...any other s...</td>\n",
       "      <td>pity, * was in mood for that. so...any other s...</td>\n",
       "    </tr>\n",
       "    <tr>\n",
       "      <th>5570</th>\n",
       "      <td>ham</td>\n",
       "      <td>The guy did some bitching but I acted like i'd...</td>\n",
       "      <td>the guy did some bitching but i acted like i'd...</td>\n",
       "    </tr>\n",
       "    <tr>\n",
       "      <th>5571</th>\n",
       "      <td>ham</td>\n",
       "      <td>Rofl. Its true to its name</td>\n",
       "      <td>rofl. its true to its name</td>\n",
       "    </tr>\n",
       "  </tbody>\n",
       "</table>\n",
       "<p>5169 rows × 3 columns</p>\n",
       "</div>"
      ],
      "text/plain": [
       "     Label                                          EmailText  \\\n",
       "0      ham  Go until jurong point, crazy.. Available only ...   \n",
       "1      ham                      Ok lar... Joking wif u oni...   \n",
       "2     spam  Free entry in 2 a wkly comp to win FA Cup fina...   \n",
       "3      ham  U dun say so early hor... U c already then say...   \n",
       "4      ham  Nah I don't think he goes to usf, he lives aro...   \n",
       "...    ...                                                ...   \n",
       "5567  spam  This is the 2nd time we have tried 2 contact u...   \n",
       "5568   ham              Will �_ b going to esplanade fr home?   \n",
       "5569   ham  Pity, * was in mood for that. So...any other s...   \n",
       "5570   ham  The guy did some bitching but I acted like i'd...   \n",
       "5571   ham                         Rofl. Its true to its name   \n",
       "\n",
       "                                         CleanEmailText  \n",
       "0     go until jurong point, crazy.. available only ...  \n",
       "1                         ok lar... joking wif u oni...  \n",
       "2     free entry in 2 a wkly comp to win fa cup fina...  \n",
       "3     u dun say so early hor... u c already then say...  \n",
       "4     nah i don't think he goes to usf, he lives aro...  \n",
       "...                                                 ...  \n",
       "5567  this is the 2nd time we have tried 2 contact u...  \n",
       "5568              will �_ b going to esplanade fr home?  \n",
       "5569  pity, * was in mood for that. so...any other s...  \n",
       "5570  the guy did some bitching but i acted like i'd...  \n",
       "5571                         rofl. its true to its name  \n",
       "\n",
       "[5169 rows x 3 columns]"
      ]
     },
     "execution_count": 238,
     "metadata": {},
     "output_type": "execute_result"
    }
   ],
   "source": [
    "df[\"CleanEmailText\"] = df[\"EmailText\"].apply(lambda x: x.lower())\n",
    "df"
   ]
  },
  {
   "cell_type": "markdown",
   "id": "80b9266f",
   "metadata": {},
   "source": [
    "## `2` Removing Links from Dataset"
   ]
  },
  {
   "cell_type": "code",
   "execution_count": 239,
   "id": "f63b28f7",
   "metadata": {},
   "outputs": [
    {
     "data": {
      "application/vnd.microsoft.datawrangler.viewer.v0+json": {
       "columns": [
        {
         "name": "index",
         "rawType": "int64",
         "type": "integer"
        },
        {
         "name": "Label",
         "rawType": "object",
         "type": "string"
        },
        {
         "name": "EmailText",
         "rawType": "object",
         "type": "string"
        },
        {
         "name": "CleanEmailText",
         "rawType": "object",
         "type": "string"
        },
        {
         "name": "links",
         "rawType": "object",
         "type": "unknown"
        }
       ],
       "ref": "b734803a-b8a5-4e4d-a274-b76443543721",
       "rows": [
        [
         "0",
         "ham",
         "Go until jurong point, crazy.. Available only in bugis n great world la e buffet... Cine there got amore wat...",
         "go until jurong point, crazy.. available only in bugis n great world la e buffet... cine there got amore wat...",
         "[]"
        ],
        [
         "1",
         "ham",
         "Ok lar... Joking wif u oni...",
         "ok lar... joking wif u oni...",
         "[]"
        ],
        [
         "2",
         "spam",
         "Free entry in 2 a wkly comp to win FA Cup final tkts 21st May 2005. Text FA to 87121 to receive entry question(std txt rate)T&C's apply 08452810075over18's",
         "free entry in 2 a wkly comp to win fa cup final tkts 21st may 2005. text fa to 87121 to receive entry question(std txt rate)t&c's apply 08452810075over18's",
         "[]"
        ],
        [
         "3",
         "ham",
         "U dun say so early hor... U c already then say...",
         "u dun say so early hor... u c already then say...",
         "[]"
        ],
        [
         "4",
         "ham",
         "Nah I don't think he goes to usf, he lives around here though",
         "nah i don't think he goes to usf, he lives around here though",
         "[]"
        ],
        [
         "5",
         "spam",
         "FreeMsg Hey there darling it's been 3 week's now and no word back! I'd like some fun you up for it still? Tb ok! XxX std chgs to send, �1.50 to rcv",
         "freemsg hey there darling it's been 3 week's now and no word back! i'd like some fun you up for it still? tb ok! xxx std chgs to send, �1.50 to rcv",
         "[]"
        ],
        [
         "6",
         "ham",
         "Even my brother is not like to speak with me. They treat me like aids patent.",
         "even my brother is not like to speak with me. they treat me like aids patent.",
         "[]"
        ],
        [
         "7",
         "ham",
         "As per your request 'Melle Melle (Oru Minnaminunginte Nurungu Vettam)' has been set as your callertune for all Callers. Press *9 to copy your friends Callertune",
         "as per your request 'melle melle (oru minnaminunginte nurungu vettam)' has been set as your callertune for all callers. press *9 to copy your friends callertune",
         "[]"
        ],
        [
         "8",
         "spam",
         "WINNER!! As a valued network customer you have been selected to receivea �900 prize reward! To claim call 09061701461. Claim code KL341. Valid 12 hours only.",
         "winner!! as a valued network customer you have been selected to receivea �900 prize reward! to claim call 09061701461. claim code kl341. valid 12 hours only.",
         "[]"
        ],
        [
         "9",
         "spam",
         "Had your mobile 11 months or more? U R entitled to Update to the latest colour mobiles with camera for Free! Call The Mobile Update Co FREE on 08002986030",
         "had your mobile 11 months or more? u r entitled to update to the latest colour mobiles with camera for free! call the mobile update co free on 08002986030",
         "[]"
        ],
        [
         "10",
         "ham",
         "I'm gonna be home soon and i don't want to talk about this stuff anymore tonight, k? I've cried enough today.",
         "i'm gonna be home soon and i don't want to talk about this stuff anymore tonight, k? i've cried enough today.",
         "[]"
        ],
        [
         "11",
         "spam",
         "SIX chances to win CASH! From 100 to 20,000 pounds txt> CSH11 and send to 87575. Cost 150p/day, 6days, 16+ TsandCs apply Reply HL 4 info",
         "six chances to win cash! from 100 to 20,000 pounds txt> csh11 and send to 87575. cost 150p/day, 6days, 16+ tsandcs apply reply hl 4 info",
         "[]"
        ],
        [
         "12",
         "spam",
         "URGENT! You have won a 1 week FREE membership in our �100,000 Prize Jackpot! Txt the word: CLAIM to No: 81010 T&C www.dbuk.net LCCLTD POBOX 4403LDNW1A7RW18",
         "urgent! you have won a 1 week free membership in our �100,000 prize jackpot! txt the word: claim to no: 81010 t&c www.dbuk.net lccltd pobox 4403ldnw1a7rw18",
         "[]"
        ],
        [
         "13",
         "ham",
         "I've been searching for the right words to thank you for this breather. I promise i wont take your help for granted and will fulfil my promise. You have been wonderful and a blessing at all times.",
         "i've been searching for the right words to thank you for this breather. i promise i wont take your help for granted and will fulfil my promise. you have been wonderful and a blessing at all times.",
         "[]"
        ],
        [
         "14",
         "ham",
         "I HAVE A DATE ON SUNDAY WITH WILL!!",
         "i have a date on sunday with will!!",
         "[]"
        ],
        [
         "15",
         "spam",
         "XXXMobileMovieClub: To use your credit, click the WAP link in the next txt message or click here>> http://wap. xxxmobilemovieclub.com?n=QJKGIGHJJGCBL",
         "xxxmobilemovieclub: to use your credit, click the wap link in the next txt message or click here>> http://wap. xxxmobilemovieclub.com?n=qjkgighjjgcbl",
         "['http://wap.']"
        ],
        [
         "16",
         "ham",
         "Oh k...i'm watching here:)",
         "oh k...i'm watching here:)",
         "[]"
        ],
        [
         "17",
         "ham",
         "Eh u remember how 2 spell his name... Yes i did. He v naughty make until i v wet.",
         "eh u remember how 2 spell his name... yes i did. he v naughty make until i v wet.",
         "[]"
        ],
        [
         "18",
         "ham",
         "Fine if that��s the way u feel. That��s the way its gota b",
         "fine if that��s the way u feel. that��s the way its gota b",
         "[]"
        ],
        [
         "19",
         "spam",
         "England v Macedonia - dont miss the goals/team news. Txt ur national team to 87077 eg ENGLAND to 87077 Try:WALES, SCOTLAND 4txt/̼1.20 POBOXox36504W45WQ 16+",
         "england v macedonia - dont miss the goals/team news. txt ur national team to 87077 eg england to 87077 try:wales, scotland 4txt/̼1.20 poboxox36504w45wq 16+",
         "[]"
        ],
        [
         "20",
         "ham",
         "Is that seriously how you spell his name?",
         "is that seriously how you spell his name?",
         "[]"
        ],
        [
         "21",
         "ham",
         "I���m going to try for 2 months ha ha only joking",
         "i���m going to try for 2 months ha ha only joking",
         "[]"
        ],
        [
         "22",
         "ham",
         "So �_ pay first lar... Then when is da stock comin...",
         "so �_ pay first lar... then when is da stock comin...",
         "[]"
        ],
        [
         "23",
         "ham",
         "Aft i finish my lunch then i go str down lor. Ard 3 smth lor. U finish ur lunch already?",
         "aft i finish my lunch then i go str down lor. ard 3 smth lor. u finish ur lunch already?",
         "[]"
        ],
        [
         "24",
         "ham",
         "Ffffffffff. Alright no way I can meet up with you sooner?",
         "ffffffffff. alright no way i can meet up with you sooner?",
         "[]"
        ],
        [
         "25",
         "ham",
         "Just forced myself to eat a slice. I'm really not hungry tho. This sucks. Mark is getting worried. He knows I'm sick when I turn down pizza. Lol",
         "just forced myself to eat a slice. i'm really not hungry tho. this sucks. mark is getting worried. he knows i'm sick when i turn down pizza. lol",
         "[]"
        ],
        [
         "26",
         "ham",
         "Lol your always so convincing.",
         "lol your always so convincing.",
         "[]"
        ],
        [
         "27",
         "ham",
         "Did you catch the bus ? Are you frying an egg ? Did you make a tea? Are you eating your mom's left over dinner ? Do you feel my Love ?",
         "did you catch the bus ? are you frying an egg ? did you make a tea? are you eating your mom's left over dinner ? do you feel my love ?",
         "[]"
        ],
        [
         "28",
         "ham",
         "I'm back &amp; we're packing the car now, I'll let you know if there's room",
         "i'm back &amp; we're packing the car now, i'll let you know if there's room",
         "[]"
        ],
        [
         "29",
         "ham",
         "Ahhh. Work. I vaguely remember that! What does it feel like? Lol",
         "ahhh. work. i vaguely remember that! what does it feel like? lol",
         "[]"
        ],
        [
         "30",
         "ham",
         "Wait that's still not all that clear, were you not sure about me being sarcastic or that that's why x doesn't want to live with us",
         "wait that's still not all that clear, were you not sure about me being sarcastic or that that's why x doesn't want to live with us",
         "[]"
        ],
        [
         "31",
         "ham",
         "Yeah he got in at 2 and was v apologetic. n had fallen out and she was actin like spoilt child and he got caught up in that. Till 2! But we won't go there! Not doing too badly cheers. You? ",
         "yeah he got in at 2 and was v apologetic. n had fallen out and she was actin like spoilt child and he got caught up in that. till 2! but we won't go there! not doing too badly cheers. you? ",
         "[]"
        ],
        [
         "32",
         "ham",
         "K tell me anything about you.",
         "k tell me anything about you.",
         "[]"
        ],
        [
         "33",
         "ham",
         "For fear of fainting with the of all that housework you just did? Quick have a cuppa",
         "for fear of fainting with the of all that housework you just did? quick have a cuppa",
         "[]"
        ],
        [
         "34",
         "spam",
         "Thanks for your subscription to Ringtone UK your mobile will be charged �5/month Please confirm by replying YES or NO. If you reply NO you will not be charged",
         "thanks for your subscription to ringtone uk your mobile will be charged �5/month please confirm by replying yes or no. if you reply no you will not be charged",
         "[]"
        ],
        [
         "35",
         "ham",
         "Yup... Ok i go home look at the timings then i msg �_ again... Xuhui going to learn on 2nd may too but her lesson is at 8am",
         "yup... ok i go home look at the timings then i msg �_ again... xuhui going to learn on 2nd may too but her lesson is at 8am",
         "[]"
        ],
        [
         "36",
         "ham",
         "Oops, I'll let you know when my roommate's done",
         "oops, i'll let you know when my roommate's done",
         "[]"
        ],
        [
         "37",
         "ham",
         "I see the letter B on my car",
         "i see the letter b on my car",
         "[]"
        ],
        [
         "38",
         "ham",
         "Anything lor... U decide...",
         "anything lor... u decide...",
         "[]"
        ],
        [
         "39",
         "ham",
         "Hello! How's you and how did saturday go? I was just texting to see if you'd decided to do anything tomo. Not that i'm trying to invite myself or anything!",
         "hello! how's you and how did saturday go? i was just texting to see if you'd decided to do anything tomo. not that i'm trying to invite myself or anything!",
         "[]"
        ],
        [
         "40",
         "ham",
         "Pls go ahead with watts. I just wanted to be sure. Do have a great weekend. Abiola",
         "pls go ahead with watts. i just wanted to be sure. do have a great weekend. abiola",
         "[]"
        ],
        [
         "41",
         "ham",
         "Did I forget to tell you ? I want you , I need you, I crave you ... But most of all ... I love you my sweet Arabian steed ... Mmmmmm ... Yummy",
         "did i forget to tell you ? i want you , i need you, i crave you ... but most of all ... i love you my sweet arabian steed ... mmmmmm ... yummy",
         "[]"
        ],
        [
         "42",
         "spam",
         "07732584351 - Rodger Burns - MSG = We tried to call you re your reply to our sms for a free nokia mobile + free camcorder. Please call now 08000930705 for delivery tomorrow",
         "07732584351 - rodger burns - msg = we tried to call you re your reply to our sms for a free nokia mobile + free camcorder. please call now 08000930705 for delivery tomorrow",
         "[]"
        ],
        [
         "43",
         "ham",
         "WHO ARE YOU SEEING?",
         "who are you seeing?",
         "[]"
        ],
        [
         "44",
         "ham",
         "Great! I hope you like your man well endowed. I am  &lt;#&gt;  inches...",
         "great! i hope you like your man well endowed. i am  &lt;#&gt;  inches...",
         "[]"
        ],
        [
         "45",
         "ham",
         "No calls..messages..missed calls",
         "no calls..messages..missed calls",
         "[]"
        ],
        [
         "46",
         "ham",
         "Didn't you get hep b immunisation in nigeria.",
         "didn't you get hep b immunisation in nigeria.",
         "[]"
        ],
        [
         "47",
         "ham",
         "Fair enough, anything going on?",
         "fair enough, anything going on?",
         "[]"
        ],
        [
         "48",
         "ham",
         "Yeah hopefully, if tyler can't do it I could maybe ask around a bit",
         "yeah hopefully, if tyler can't do it i could maybe ask around a bit",
         "[]"
        ],
        [
         "49",
         "ham",
         "U don't know how stubborn I am. I didn't even want to go to the hospital. I kept telling Mark I'm not a weak sucker. Hospitals are for weak suckers.",
         "u don't know how stubborn i am. i didn't even want to go to the hospital. i kept telling mark i'm not a weak sucker. hospitals are for weak suckers.",
         "[]"
        ]
       ],
       "shape": {
        "columns": 4,
        "rows": 5169
       }
      },
      "text/html": [
       "<div>\n",
       "<style scoped>\n",
       "    .dataframe tbody tr th:only-of-type {\n",
       "        vertical-align: middle;\n",
       "    }\n",
       "\n",
       "    .dataframe tbody tr th {\n",
       "        vertical-align: top;\n",
       "    }\n",
       "\n",
       "    .dataframe thead th {\n",
       "        text-align: right;\n",
       "    }\n",
       "</style>\n",
       "<table border=\"1\" class=\"dataframe\">\n",
       "  <thead>\n",
       "    <tr style=\"text-align: right;\">\n",
       "      <th></th>\n",
       "      <th>Label</th>\n",
       "      <th>EmailText</th>\n",
       "      <th>CleanEmailText</th>\n",
       "      <th>links</th>\n",
       "    </tr>\n",
       "  </thead>\n",
       "  <tbody>\n",
       "    <tr>\n",
       "      <th>0</th>\n",
       "      <td>ham</td>\n",
       "      <td>Go until jurong point, crazy.. Available only ...</td>\n",
       "      <td>go until jurong point, crazy.. available only ...</td>\n",
       "      <td>[]</td>\n",
       "    </tr>\n",
       "    <tr>\n",
       "      <th>1</th>\n",
       "      <td>ham</td>\n",
       "      <td>Ok lar... Joking wif u oni...</td>\n",
       "      <td>ok lar... joking wif u oni...</td>\n",
       "      <td>[]</td>\n",
       "    </tr>\n",
       "    <tr>\n",
       "      <th>2</th>\n",
       "      <td>spam</td>\n",
       "      <td>Free entry in 2 a wkly comp to win FA Cup fina...</td>\n",
       "      <td>free entry in 2 a wkly comp to win fa cup fina...</td>\n",
       "      <td>[]</td>\n",
       "    </tr>\n",
       "    <tr>\n",
       "      <th>3</th>\n",
       "      <td>ham</td>\n",
       "      <td>U dun say so early hor... U c already then say...</td>\n",
       "      <td>u dun say so early hor... u c already then say...</td>\n",
       "      <td>[]</td>\n",
       "    </tr>\n",
       "    <tr>\n",
       "      <th>4</th>\n",
       "      <td>ham</td>\n",
       "      <td>Nah I don't think he goes to usf, he lives aro...</td>\n",
       "      <td>nah i don't think he goes to usf, he lives aro...</td>\n",
       "      <td>[]</td>\n",
       "    </tr>\n",
       "    <tr>\n",
       "      <th>...</th>\n",
       "      <td>...</td>\n",
       "      <td>...</td>\n",
       "      <td>...</td>\n",
       "      <td>...</td>\n",
       "    </tr>\n",
       "    <tr>\n",
       "      <th>5567</th>\n",
       "      <td>spam</td>\n",
       "      <td>This is the 2nd time we have tried 2 contact u...</td>\n",
       "      <td>this is the 2nd time we have tried 2 contact u...</td>\n",
       "      <td>[]</td>\n",
       "    </tr>\n",
       "    <tr>\n",
       "      <th>5568</th>\n",
       "      <td>ham</td>\n",
       "      <td>Will �_ b going to esplanade fr home?</td>\n",
       "      <td>will �_ b going to esplanade fr home?</td>\n",
       "      <td>[]</td>\n",
       "    </tr>\n",
       "    <tr>\n",
       "      <th>5569</th>\n",
       "      <td>ham</td>\n",
       "      <td>Pity, * was in mood for that. So...any other s...</td>\n",
       "      <td>pity, * was in mood for that. so...any other s...</td>\n",
       "      <td>[]</td>\n",
       "    </tr>\n",
       "    <tr>\n",
       "      <th>5570</th>\n",
       "      <td>ham</td>\n",
       "      <td>The guy did some bitching but I acted like i'd...</td>\n",
       "      <td>the guy did some bitching but i acted like i'd...</td>\n",
       "      <td>[]</td>\n",
       "    </tr>\n",
       "    <tr>\n",
       "      <th>5571</th>\n",
       "      <td>ham</td>\n",
       "      <td>Rofl. Its true to its name</td>\n",
       "      <td>rofl. its true to its name</td>\n",
       "      <td>[]</td>\n",
       "    </tr>\n",
       "  </tbody>\n",
       "</table>\n",
       "<p>5169 rows × 4 columns</p>\n",
       "</div>"
      ],
      "text/plain": [
       "     Label                                          EmailText  \\\n",
       "0      ham  Go until jurong point, crazy.. Available only ...   \n",
       "1      ham                      Ok lar... Joking wif u oni...   \n",
       "2     spam  Free entry in 2 a wkly comp to win FA Cup fina...   \n",
       "3      ham  U dun say so early hor... U c already then say...   \n",
       "4      ham  Nah I don't think he goes to usf, he lives aro...   \n",
       "...    ...                                                ...   \n",
       "5567  spam  This is the 2nd time we have tried 2 contact u...   \n",
       "5568   ham              Will �_ b going to esplanade fr home?   \n",
       "5569   ham  Pity, * was in mood for that. So...any other s...   \n",
       "5570   ham  The guy did some bitching but I acted like i'd...   \n",
       "5571   ham                         Rofl. Its true to its name   \n",
       "\n",
       "                                         CleanEmailText links  \n",
       "0     go until jurong point, crazy.. available only ...    []  \n",
       "1                         ok lar... joking wif u oni...    []  \n",
       "2     free entry in 2 a wkly comp to win fa cup fina...    []  \n",
       "3     u dun say so early hor... u c already then say...    []  \n",
       "4     nah i don't think he goes to usf, he lives aro...    []  \n",
       "...                                                 ...   ...  \n",
       "5567  this is the 2nd time we have tried 2 contact u...    []  \n",
       "5568              will �_ b going to esplanade fr home?    []  \n",
       "5569  pity, * was in mood for that. so...any other s...    []  \n",
       "5570  the guy did some bitching but i acted like i'd...    []  \n",
       "5571                         rofl. its true to its name    []  \n",
       "\n",
       "[5169 rows x 4 columns]"
      ]
     },
     "execution_count": 239,
     "metadata": {},
     "output_type": "execute_result"
    }
   ],
   "source": [
    "df[\"links\"] = df[\"EmailText\"].apply(lambda x: re.findall(r\"https?\\S+\",x))\n",
    "df"
   ]
  },
  {
   "cell_type": "markdown",
   "id": "cb244d6f",
   "metadata": {},
   "source": [
    "# Intlize object from `Process_column` class \n",
    "\n",
    "> - it's build to update **`CleanEmailText`** Column "
   ]
  },
  {
   "cell_type": "code",
   "execution_count": 240,
   "id": "a9d1f278",
   "metadata": {},
   "outputs": [],
   "source": [
    "Cleaned = Process_column(Column_name=\"CleanEmailText\",Dataset=df)"
   ]
  },
  {
   "cell_type": "markdown",
   "id": "fe812440",
   "metadata": {},
   "source": [
    "## `3` Removing any links "
   ]
  },
  {
   "cell_type": "code",
   "execution_count": 241,
   "id": "0daf488d",
   "metadata": {},
   "outputs": [
    {
     "data": {
      "application/vnd.microsoft.datawrangler.viewer.v0+json": {
       "columns": [
        {
         "name": "index",
         "rawType": "int64",
         "type": "integer"
        },
        {
         "name": "Label",
         "rawType": "object",
         "type": "string"
        },
        {
         "name": "EmailText",
         "rawType": "object",
         "type": "string"
        },
        {
         "name": "CleanEmailText",
         "rawType": "object",
         "type": "string"
        },
        {
         "name": "links",
         "rawType": "object",
         "type": "unknown"
        }
       ],
       "ref": "1937ad21-bfe8-40dd-8286-32192d7e22ed",
       "rows": [
        [
         "0",
         "ham",
         "Go until jurong point, crazy.. Available only in bugis n great world la e buffet... Cine there got amore wat...",
         "go until jurong point, crazy.. available only in bugis n great world la e buffet... cine there got amore wat...",
         "[]"
        ],
        [
         "1",
         "ham",
         "Ok lar... Joking wif u oni...",
         "ok lar... joking wif u oni...",
         "[]"
        ],
        [
         "2",
         "spam",
         "Free entry in 2 a wkly comp to win FA Cup final tkts 21st May 2005. Text FA to 87121 to receive entry question(std txt rate)T&C's apply 08452810075over18's",
         "free entry in 2 a wkly comp to win fa cup final tkts 21st may 2005. text fa to 87121 to receive entry question(std txt rate)t&c's apply 08452810075over18's",
         "[]"
        ],
        [
         "3",
         "ham",
         "U dun say so early hor... U c already then say...",
         "u dun say so early hor... u c already then say...",
         "[]"
        ],
        [
         "4",
         "ham",
         "Nah I don't think he goes to usf, he lives around here though",
         "nah i don't think he goes to usf, he lives around here though",
         "[]"
        ],
        [
         "5",
         "spam",
         "FreeMsg Hey there darling it's been 3 week's now and no word back! I'd like some fun you up for it still? Tb ok! XxX std chgs to send, �1.50 to rcv",
         "freemsg hey there darling it's been 3 week's now and no word back! i'd like some fun you up for it still? tb ok! xxx std chgs to send, �1.50 to rcv",
         "[]"
        ],
        [
         "6",
         "ham",
         "Even my brother is not like to speak with me. They treat me like aids patent.",
         "even my brother is not like to speak with me. they treat me like aids patent.",
         "[]"
        ],
        [
         "7",
         "ham",
         "As per your request 'Melle Melle (Oru Minnaminunginte Nurungu Vettam)' has been set as your callertune for all Callers. Press *9 to copy your friends Callertune",
         "as per your request 'melle melle (oru minnaminunginte nurungu vettam)' has been set as your callertune for all callers. press *9 to copy your friends callertune",
         "[]"
        ],
        [
         "8",
         "spam",
         "WINNER!! As a valued network customer you have been selected to receivea �900 prize reward! To claim call 09061701461. Claim code KL341. Valid 12 hours only.",
         "winner!! as a valued network customer you have been selected to receivea �900 prize reward! to claim call 09061701461. claim code kl341. valid 12 hours only.",
         "[]"
        ],
        [
         "9",
         "spam",
         "Had your mobile 11 months or more? U R entitled to Update to the latest colour mobiles with camera for Free! Call The Mobile Update Co FREE on 08002986030",
         "had your mobile 11 months or more? u r entitled to update to the latest colour mobiles with camera for free! call the mobile update co free on 08002986030",
         "[]"
        ],
        [
         "10",
         "ham",
         "I'm gonna be home soon and i don't want to talk about this stuff anymore tonight, k? I've cried enough today.",
         "i'm gonna be home soon and i don't want to talk about this stuff anymore tonight, k? i've cried enough today.",
         "[]"
        ],
        [
         "11",
         "spam",
         "SIX chances to win CASH! From 100 to 20,000 pounds txt> CSH11 and send to 87575. Cost 150p/day, 6days, 16+ TsandCs apply Reply HL 4 info",
         "six chances to win cash! from 100 to 20,000 pounds txt> csh11 and send to 87575. cost 150p/day, 6days, 16+ tsandcs apply reply hl 4 info",
         "[]"
        ],
        [
         "12",
         "spam",
         "URGENT! You have won a 1 week FREE membership in our �100,000 Prize Jackpot! Txt the word: CLAIM to No: 81010 T&C www.dbuk.net LCCLTD POBOX 4403LDNW1A7RW18",
         "urgent! you have won a 1 week free membership in our �100,000 prize jackpot! txt the word: claim to no: 81010 t&c www.dbuk.net lccltd pobox 4403ldnw1a7rw18",
         "[]"
        ],
        [
         "13",
         "ham",
         "I've been searching for the right words to thank you for this breather. I promise i wont take your help for granted and will fulfil my promise. You have been wonderful and a blessing at all times.",
         "i've been searching for the right words to thank you for this breather. i promise i wont take your help for granted and will fulfil my promise. you have been wonderful and a blessing at all times.",
         "[]"
        ],
        [
         "14",
         "ham",
         "I HAVE A DATE ON SUNDAY WITH WILL!!",
         "i have a date on sunday with will!!",
         "[]"
        ],
        [
         "15",
         "spam",
         "XXXMobileMovieClub: To use your credit, click the WAP link in the next txt message or click here>> http://wap. xxxmobilemovieclub.com?n=QJKGIGHJJGCBL",
         "xxxmobilemovieclub: to use your credit, click the wap link in the next txt message or click here>>   xxxmobilemovieclub.com?n=qjkgighjjgcbl",
         "['http://wap.']"
        ],
        [
         "16",
         "ham",
         "Oh k...i'm watching here:)",
         "oh k...i'm watching here:)",
         "[]"
        ],
        [
         "17",
         "ham",
         "Eh u remember how 2 spell his name... Yes i did. He v naughty make until i v wet.",
         "eh u remember how 2 spell his name... yes i did. he v naughty make until i v wet.",
         "[]"
        ],
        [
         "18",
         "ham",
         "Fine if that��s the way u feel. That��s the way its gota b",
         "fine if that��s the way u feel. that��s the way its gota b",
         "[]"
        ],
        [
         "19",
         "spam",
         "England v Macedonia - dont miss the goals/team news. Txt ur national team to 87077 eg ENGLAND to 87077 Try:WALES, SCOTLAND 4txt/̼1.20 POBOXox36504W45WQ 16+",
         "england v macedonia - dont miss the goals/team news. txt ur national team to 87077 eg england to 87077 try:wales, scotland 4txt/̼1.20 poboxox36504w45wq 16+",
         "[]"
        ],
        [
         "20",
         "ham",
         "Is that seriously how you spell his name?",
         "is that seriously how you spell his name?",
         "[]"
        ],
        [
         "21",
         "ham",
         "I���m going to try for 2 months ha ha only joking",
         "i���m going to try for 2 months ha ha only joking",
         "[]"
        ],
        [
         "22",
         "ham",
         "So �_ pay first lar... Then when is da stock comin...",
         "so �_ pay first lar... then when is da stock comin...",
         "[]"
        ],
        [
         "23",
         "ham",
         "Aft i finish my lunch then i go str down lor. Ard 3 smth lor. U finish ur lunch already?",
         "aft i finish my lunch then i go str down lor. ard 3 smth lor. u finish ur lunch already?",
         "[]"
        ],
        [
         "24",
         "ham",
         "Ffffffffff. Alright no way I can meet up with you sooner?",
         "ffffffffff. alright no way i can meet up with you sooner?",
         "[]"
        ],
        [
         "25",
         "ham",
         "Just forced myself to eat a slice. I'm really not hungry tho. This sucks. Mark is getting worried. He knows I'm sick when I turn down pizza. Lol",
         "just forced myself to eat a slice. i'm really not hungry tho. this sucks. mark is getting worried. he knows i'm sick when i turn down pizza. lol",
         "[]"
        ],
        [
         "26",
         "ham",
         "Lol your always so convincing.",
         "lol your always so convincing.",
         "[]"
        ],
        [
         "27",
         "ham",
         "Did you catch the bus ? Are you frying an egg ? Did you make a tea? Are you eating your mom's left over dinner ? Do you feel my Love ?",
         "did you catch the bus ? are you frying an egg ? did you make a tea? are you eating your mom's left over dinner ? do you feel my love ?",
         "[]"
        ],
        [
         "28",
         "ham",
         "I'm back &amp; we're packing the car now, I'll let you know if there's room",
         "i'm back &amp; we're packing the car now, i'll let you know if there's room",
         "[]"
        ],
        [
         "29",
         "ham",
         "Ahhh. Work. I vaguely remember that! What does it feel like? Lol",
         "ahhh. work. i vaguely remember that! what does it feel like? lol",
         "[]"
        ],
        [
         "30",
         "ham",
         "Wait that's still not all that clear, were you not sure about me being sarcastic or that that's why x doesn't want to live with us",
         "wait that's still not all that clear, were you not sure about me being sarcastic or that that's why x doesn't want to live with us",
         "[]"
        ],
        [
         "31",
         "ham",
         "Yeah he got in at 2 and was v apologetic. n had fallen out and she was actin like spoilt child and he got caught up in that. Till 2! But we won't go there! Not doing too badly cheers. You? ",
         "yeah he got in at 2 and was v apologetic. n had fallen out and she was actin like spoilt child and he got caught up in that. till 2! but we won't go there! not doing too badly cheers. you? ",
         "[]"
        ],
        [
         "32",
         "ham",
         "K tell me anything about you.",
         "k tell me anything about you.",
         "[]"
        ],
        [
         "33",
         "ham",
         "For fear of fainting with the of all that housework you just did? Quick have a cuppa",
         "for fear of fainting with the of all that housework you just did? quick have a cuppa",
         "[]"
        ],
        [
         "34",
         "spam",
         "Thanks for your subscription to Ringtone UK your mobile will be charged �5/month Please confirm by replying YES or NO. If you reply NO you will not be charged",
         "thanks for your subscription to ringtone uk your mobile will be charged �5/month please confirm by replying yes or no. if you reply no you will not be charged",
         "[]"
        ],
        [
         "35",
         "ham",
         "Yup... Ok i go home look at the timings then i msg �_ again... Xuhui going to learn on 2nd may too but her lesson is at 8am",
         "yup... ok i go home look at the timings then i msg �_ again... xuhui going to learn on 2nd may too but her lesson is at 8am",
         "[]"
        ],
        [
         "36",
         "ham",
         "Oops, I'll let you know when my roommate's done",
         "oops, i'll let you know when my roommate's done",
         "[]"
        ],
        [
         "37",
         "ham",
         "I see the letter B on my car",
         "i see the letter b on my car",
         "[]"
        ],
        [
         "38",
         "ham",
         "Anything lor... U decide...",
         "anything lor... u decide...",
         "[]"
        ],
        [
         "39",
         "ham",
         "Hello! How's you and how did saturday go? I was just texting to see if you'd decided to do anything tomo. Not that i'm trying to invite myself or anything!",
         "hello! how's you and how did saturday go? i was just texting to see if you'd decided to do anything tomo. not that i'm trying to invite myself or anything!",
         "[]"
        ],
        [
         "40",
         "ham",
         "Pls go ahead with watts. I just wanted to be sure. Do have a great weekend. Abiola",
         "pls go ahead with watts. i just wanted to be sure. do have a great weekend. abiola",
         "[]"
        ],
        [
         "41",
         "ham",
         "Did I forget to tell you ? I want you , I need you, I crave you ... But most of all ... I love you my sweet Arabian steed ... Mmmmmm ... Yummy",
         "did i forget to tell you ? i want you , i need you, i crave you ... but most of all ... i love you my sweet arabian steed ... mmmmmm ... yummy",
         "[]"
        ],
        [
         "42",
         "spam",
         "07732584351 - Rodger Burns - MSG = We tried to call you re your reply to our sms for a free nokia mobile + free camcorder. Please call now 08000930705 for delivery tomorrow",
         "07732584351 - rodger burns - msg = we tried to call you re your reply to our sms for a free nokia mobile + free camcorder. please call now 08000930705 for delivery tomorrow",
         "[]"
        ],
        [
         "43",
         "ham",
         "WHO ARE YOU SEEING?",
         "who are you seeing?",
         "[]"
        ],
        [
         "44",
         "ham",
         "Great! I hope you like your man well endowed. I am  &lt;#&gt;  inches...",
         "great! i hope you like your man well endowed. i am  &lt;#&gt;  inches...",
         "[]"
        ],
        [
         "45",
         "ham",
         "No calls..messages..missed calls",
         "no calls..messages..missed calls",
         "[]"
        ],
        [
         "46",
         "ham",
         "Didn't you get hep b immunisation in nigeria.",
         "didn't you get hep b immunisation in nigeria.",
         "[]"
        ],
        [
         "47",
         "ham",
         "Fair enough, anything going on?",
         "fair enough, anything going on?",
         "[]"
        ],
        [
         "48",
         "ham",
         "Yeah hopefully, if tyler can't do it I could maybe ask around a bit",
         "yeah hopefully, if tyler can't do it i could maybe ask around a bit",
         "[]"
        ],
        [
         "49",
         "ham",
         "U don't know how stubborn I am. I didn't even want to go to the hospital. I kept telling Mark I'm not a weak sucker. Hospitals are for weak suckers.",
         "u don't know how stubborn i am. i didn't even want to go to the hospital. i kept telling mark i'm not a weak sucker. hospitals are for weak suckers.",
         "[]"
        ]
       ],
       "shape": {
        "columns": 4,
        "rows": 5169
       }
      },
      "text/html": [
       "<div>\n",
       "<style scoped>\n",
       "    .dataframe tbody tr th:only-of-type {\n",
       "        vertical-align: middle;\n",
       "    }\n",
       "\n",
       "    .dataframe tbody tr th {\n",
       "        vertical-align: top;\n",
       "    }\n",
       "\n",
       "    .dataframe thead th {\n",
       "        text-align: right;\n",
       "    }\n",
       "</style>\n",
       "<table border=\"1\" class=\"dataframe\">\n",
       "  <thead>\n",
       "    <tr style=\"text-align: right;\">\n",
       "      <th></th>\n",
       "      <th>Label</th>\n",
       "      <th>EmailText</th>\n",
       "      <th>CleanEmailText</th>\n",
       "      <th>links</th>\n",
       "    </tr>\n",
       "  </thead>\n",
       "  <tbody>\n",
       "    <tr>\n",
       "      <th>0</th>\n",
       "      <td>ham</td>\n",
       "      <td>Go until jurong point, crazy.. Available only ...</td>\n",
       "      <td>go until jurong point, crazy.. available only ...</td>\n",
       "      <td>[]</td>\n",
       "    </tr>\n",
       "    <tr>\n",
       "      <th>1</th>\n",
       "      <td>ham</td>\n",
       "      <td>Ok lar... Joking wif u oni...</td>\n",
       "      <td>ok lar... joking wif u oni...</td>\n",
       "      <td>[]</td>\n",
       "    </tr>\n",
       "    <tr>\n",
       "      <th>2</th>\n",
       "      <td>spam</td>\n",
       "      <td>Free entry in 2 a wkly comp to win FA Cup fina...</td>\n",
       "      <td>free entry in 2 a wkly comp to win fa cup fina...</td>\n",
       "      <td>[]</td>\n",
       "    </tr>\n",
       "    <tr>\n",
       "      <th>3</th>\n",
       "      <td>ham</td>\n",
       "      <td>U dun say so early hor... U c already then say...</td>\n",
       "      <td>u dun say so early hor... u c already then say...</td>\n",
       "      <td>[]</td>\n",
       "    </tr>\n",
       "    <tr>\n",
       "      <th>4</th>\n",
       "      <td>ham</td>\n",
       "      <td>Nah I don't think he goes to usf, he lives aro...</td>\n",
       "      <td>nah i don't think he goes to usf, he lives aro...</td>\n",
       "      <td>[]</td>\n",
       "    </tr>\n",
       "    <tr>\n",
       "      <th>...</th>\n",
       "      <td>...</td>\n",
       "      <td>...</td>\n",
       "      <td>...</td>\n",
       "      <td>...</td>\n",
       "    </tr>\n",
       "    <tr>\n",
       "      <th>5567</th>\n",
       "      <td>spam</td>\n",
       "      <td>This is the 2nd time we have tried 2 contact u...</td>\n",
       "      <td>this is the 2nd time we have tried 2 contact u...</td>\n",
       "      <td>[]</td>\n",
       "    </tr>\n",
       "    <tr>\n",
       "      <th>5568</th>\n",
       "      <td>ham</td>\n",
       "      <td>Will �_ b going to esplanade fr home?</td>\n",
       "      <td>will �_ b going to esplanade fr home?</td>\n",
       "      <td>[]</td>\n",
       "    </tr>\n",
       "    <tr>\n",
       "      <th>5569</th>\n",
       "      <td>ham</td>\n",
       "      <td>Pity, * was in mood for that. So...any other s...</td>\n",
       "      <td>pity, * was in mood for that. so...any other s...</td>\n",
       "      <td>[]</td>\n",
       "    </tr>\n",
       "    <tr>\n",
       "      <th>5570</th>\n",
       "      <td>ham</td>\n",
       "      <td>The guy did some bitching but I acted like i'd...</td>\n",
       "      <td>the guy did some bitching but i acted like i'd...</td>\n",
       "      <td>[]</td>\n",
       "    </tr>\n",
       "    <tr>\n",
       "      <th>5571</th>\n",
       "      <td>ham</td>\n",
       "      <td>Rofl. Its true to its name</td>\n",
       "      <td>rofl. its true to its name</td>\n",
       "      <td>[]</td>\n",
       "    </tr>\n",
       "  </tbody>\n",
       "</table>\n",
       "<p>5169 rows × 4 columns</p>\n",
       "</div>"
      ],
      "text/plain": [
       "     Label                                          EmailText  \\\n",
       "0      ham  Go until jurong point, crazy.. Available only ...   \n",
       "1      ham                      Ok lar... Joking wif u oni...   \n",
       "2     spam  Free entry in 2 a wkly comp to win FA Cup fina...   \n",
       "3      ham  U dun say so early hor... U c already then say...   \n",
       "4      ham  Nah I don't think he goes to usf, he lives aro...   \n",
       "...    ...                                                ...   \n",
       "5567  spam  This is the 2nd time we have tried 2 contact u...   \n",
       "5568   ham              Will �_ b going to esplanade fr home?   \n",
       "5569   ham  Pity, * was in mood for that. So...any other s...   \n",
       "5570   ham  The guy did some bitching but I acted like i'd...   \n",
       "5571   ham                         Rofl. Its true to its name   \n",
       "\n",
       "                                         CleanEmailText links  \n",
       "0     go until jurong point, crazy.. available only ...    []  \n",
       "1                         ok lar... joking wif u oni...    []  \n",
       "2     free entry in 2 a wkly comp to win fa cup fina...    []  \n",
       "3     u dun say so early hor... u c already then say...    []  \n",
       "4     nah i don't think he goes to usf, he lives aro...    []  \n",
       "...                                                 ...   ...  \n",
       "5567  this is the 2nd time we have tried 2 contact u...    []  \n",
       "5568              will �_ b going to esplanade fr home?    []  \n",
       "5569  pity, * was in mood for that. so...any other s...    []  \n",
       "5570  the guy did some bitching but i acted like i'd...    []  \n",
       "5571                         rofl. its true to its name    []  \n",
       "\n",
       "[5169 rows x 4 columns]"
      ]
     },
     "execution_count": 241,
     "metadata": {},
     "output_type": "execute_result"
    }
   ],
   "source": [
    "Cleaned.Updeate_column(lambda x:re.sub(r\"https?\\S+\",\" \",x))\n",
    "df"
   ]
  },
  {
   "cell_type": "code",
   "execution_count": 242,
   "id": "c829567e",
   "metadata": {},
   "outputs": [
    {
     "data": {
      "application/vnd.microsoft.datawrangler.viewer.v0+json": {
       "columns": [
        {
         "name": "index",
         "rawType": "int64",
         "type": "integer"
        },
        {
         "name": "Label",
         "rawType": "object",
         "type": "string"
        },
        {
         "name": "EmailText",
         "rawType": "object",
         "type": "string"
        },
        {
         "name": "CleanEmailText",
         "rawType": "object",
         "type": "string"
        },
        {
         "name": "links",
         "rawType": "object",
         "type": "unknown"
        }
       ],
       "ref": "418f85d8-fe69-4c5d-816e-77518a8cf14f",
       "rows": [
        [
         "15",
         "spam",
         "XXXMobileMovieClub: To use your credit, click the WAP link in the next txt message or click here>> http://wap. xxxmobilemovieclub.com?n=QJKGIGHJJGCBL",
         "xxxmobilemovieclub: to use your credit, click the wap link in the next txt message or click here>>   xxxmobilemovieclub.com?n=qjkgighjjgcbl",
         "['http://wap.']"
        ],
        [
         "304",
         "spam",
         "SMS. ac Blind Date 4U!: Rodds1 is 21/m from Aberdeen, United Kingdom. Check Him out http://img. sms. ac/W/icmb3cktz8r7!-4 no Blind Dates send HIDE",
         "sms. ac blind date 4u!: rodds1 is 21/m from aberdeen, united kingdom. check him out   sms. ac/w/icmb3cktz8r7!-4 no blind dates send hide",
         "['http://img.']"
        ],
        [
         "517",
         "spam",
         "Your credits have been topped up for http://www.bubbletext.com Your renewal Pin is tgxxrz",
         "your credits have been topped up for   your renewal pin is tgxxrz",
         "['http://www.bubbletext.com']"
        ],
        [
         "634",
         "spam",
         "Dear Voucher Holder, 2 claim this weeks offer, at your PC go to http://www.e-tlp.co.uk/expressoffer Ts&Cs apply.2 stop texts txt STOP to 80062.",
         "dear voucher holder, 2 claim this weeks offer, at your pc go to   ts&cs apply.2 stop texts txt stop to 80062.",
         "['http://www.e-tlp.co.uk/expressoffer']"
        ],
        [
         "832",
         "spam",
         "Dear Voucher Holder, To claim this weeks offer, at you PC please go to http://www.e-tlp.co.uk/expressoffer Ts&Cs apply. To stop texts, txt STOP to 80062",
         "dear voucher holder, to claim this weeks offer, at you pc please go to   ts&cs apply. to stop texts, txt stop to 80062",
         "['http://www.e-tlp.co.uk/expressoffer']"
        ],
        [
         "880",
         "spam",
         "Reminder: You have not downloaded the content you have already paid for. Goto http://doit. mymoby. tv/ to collect your content.",
         "reminder: you have not downloaded the content you have already paid for. goto   mymoby. tv/ to collect your content.",
         "['http://doit.']"
        ],
        [
         "1104",
         "spam",
         "Message Important information for O2 user. Today is your lucky day! 2 find out why log onto http://www.urawinner.com there is a fantastic surprise awaiting you",
         "message important information for o2 user. today is your lucky day! 2 find out why log onto   there is a fantastic surprise awaiting you",
         "['http://www.urawinner.com']"
        ],
        [
         "3057",
         "spam",
         "You are now unsubscribed all services. Get tons of sexy babes or hunks straight to your phone! go to http://gotbabes.co.uk. No subscriptions.",
         "you are now unsubscribed all services. get tons of sexy babes or hunks straight to your phone! go to   no subscriptions.",
         "['http://gotbabes.co.uk.']"
        ],
        [
         "3172",
         "spam",
         "Dear Voucher Holder, To claim this weeks offer, at you PC please go to http://www.e-tlp.co.uk/reward. Ts&Cs apply.",
         "dear voucher holder, to claim this weeks offer, at you pc please go to   ts&cs apply.",
         "['http://www.e-tlp.co.uk/reward.']"
        ],
        [
         "3461",
         "spam",
         "Bloomberg -Message center +447797706009 Why wait? Apply for your future http://careers. bloomberg.com",
         "bloomberg -message center +447797706009 why wait? apply for your future   bloomberg.com",
         "['http://careers.']"
        ],
        [
         "3860",
         "spam",
         "Free Msg: Ringtone!From: http://tms. widelive.com/index. wml?id=1b6a5ecef91ff9*37819&first=true18:0430-JUL-05",
         "free msg: ringtone!from:   widelive.com/index. wml?id=1b6a5ecef91ff9*37819&first=true18:0430-jul-05",
         "['http://tms.']"
        ],
        [
         "3883",
         "spam",
         "A link to your picture has been sent. You can also use http://alto18.co.uk/wave/wave.asp?o=44345",
         "a link to your picture has been sent. you can also use  ",
         "['http://alto18.co.uk/wave/wave.asp?o=44345']"
        ],
        [
         "4164",
         "spam",
         "Dear Voucher Holder, To claim this weeks offer, at your PC please go to http://www.wtlp.co.uk/text. Ts&Cs apply.",
         "dear voucher holder, to claim this weeks offer, at your pc please go to   ts&cs apply.",
         "['http://www.wtlp.co.uk/text.']"
        ],
        [
         "4204",
         "spam",
         "IMPORTANT INFORMATION 4 ORANGE USER 0796XXXXXX. TODAY IS UR LUCKY DAY!2 FIND OUT WHY LOG ONTO http://www.urawinner.com THERE'S A FANTASTIC PRIZEAWAITING YOU!",
         "important information 4 orange user 0796xxxxxx. today is ur lucky day!2 find out why log onto   there's a fantastic prizeawaiting you!",
         "['http://www.urawinner.com']"
        ],
        [
         "4256",
         "spam",
         "important information 4 orange user . today is your lucky day!2find out why log onto http://www.urawinner.com THERE'S A FANTASTIC SURPRISE AWAITING YOU!",
         "important information 4 orange user . today is your lucky day!2find out why log onto   there's a fantastic surprise awaiting you!",
         "['http://www.urawinner.com']"
        ],
        [
         "4278",
         "spam",
         "URGENT. Important information for 02 user. Today is your lucky day! 2 find out why , log onto http://www.urawinner.com there is a fantastic surprise awaiting you !",
         "urgent. important information for 02 user. today is your lucky day! 2 find out why , log onto   there is a fantastic surprise awaiting you !",
         "['http://www.urawinner.com']"
        ],
        [
         "4353",
         "spam",
         "important information 4 orange user 0789xxxxxxx. today is your lucky day!2find out why log onto http://www.urawinner.com THERE'S A FANTASTIC SURPRISE AWAITING YOU!",
         "important information 4 orange user 0789xxxxxxx. today is your lucky day!2find out why log onto   there's a fantastic surprise awaiting you!",
         "['http://www.urawinner.com']"
        ],
        [
         "4963",
         "spam",
         "Dear Voucher holder Have your next meal on us. Use the following link on your pc 2 enjoy a 2 4 1 dining experiencehttp://www.vouch4me.com/etlp/dining.asp",
         "dear voucher holder have your next meal on us. use the following link on your pc 2 enjoy a 2 4 1 dining experience ",
         "['http://www.vouch4me.com/etlp/dining.asp']"
        ],
        [
         "5378",
         "spam",
         "Free entry to the gr8prizes wkly comp 4 a chance to win the latest Nokia 8800, PSP or �250 cash every wk.TXT GREAT to 80878 http//www.gr8prizes.com 08715705022",
         "free entry to the gr8prizes wkly comp 4 a chance to win the latest nokia 8800, psp or �250 cash every wk.txt great to 80878   08715705022",
         "['http//www.gr8prizes.com']"
        ],
        [
         "5466",
         "spam",
         "http//tms. widelive.com/index. wml?id=820554ad0a1705572711&first=true��C C Ringtone��",
         "  widelive.com/index. wml?id=820554ad0a1705572711&first=true��c c ringtone��",
         "['http//tms.']"
        ]
       ],
       "shape": {
        "columns": 4,
        "rows": 20
       }
      },
      "text/html": [
       "<div>\n",
       "<style scoped>\n",
       "    .dataframe tbody tr th:only-of-type {\n",
       "        vertical-align: middle;\n",
       "    }\n",
       "\n",
       "    .dataframe tbody tr th {\n",
       "        vertical-align: top;\n",
       "    }\n",
       "\n",
       "    .dataframe thead th {\n",
       "        text-align: right;\n",
       "    }\n",
       "</style>\n",
       "<table border=\"1\" class=\"dataframe\">\n",
       "  <thead>\n",
       "    <tr style=\"text-align: right;\">\n",
       "      <th></th>\n",
       "      <th>Label</th>\n",
       "      <th>EmailText</th>\n",
       "      <th>CleanEmailText</th>\n",
       "      <th>links</th>\n",
       "    </tr>\n",
       "  </thead>\n",
       "  <tbody>\n",
       "    <tr>\n",
       "      <th>15</th>\n",
       "      <td>spam</td>\n",
       "      <td>XXXMobileMovieClub: To use your credit, click ...</td>\n",
       "      <td>xxxmobilemovieclub: to use your credit, click ...</td>\n",
       "      <td>[http://wap.]</td>\n",
       "    </tr>\n",
       "    <tr>\n",
       "      <th>304</th>\n",
       "      <td>spam</td>\n",
       "      <td>SMS. ac Blind Date 4U!: Rodds1 is 21/m from Ab...</td>\n",
       "      <td>sms. ac blind date 4u!: rodds1 is 21/m from ab...</td>\n",
       "      <td>[http://img.]</td>\n",
       "    </tr>\n",
       "    <tr>\n",
       "      <th>517</th>\n",
       "      <td>spam</td>\n",
       "      <td>Your credits have been topped up for http://ww...</td>\n",
       "      <td>your credits have been topped up for   your re...</td>\n",
       "      <td>[http://www.bubbletext.com]</td>\n",
       "    </tr>\n",
       "    <tr>\n",
       "      <th>634</th>\n",
       "      <td>spam</td>\n",
       "      <td>Dear Voucher Holder, 2 claim this weeks offer,...</td>\n",
       "      <td>dear voucher holder, 2 claim this weeks offer,...</td>\n",
       "      <td>[http://www.e-tlp.co.uk/expressoffer]</td>\n",
       "    </tr>\n",
       "    <tr>\n",
       "      <th>832</th>\n",
       "      <td>spam</td>\n",
       "      <td>Dear Voucher Holder, To claim this weeks offer...</td>\n",
       "      <td>dear voucher holder, to claim this weeks offer...</td>\n",
       "      <td>[http://www.e-tlp.co.uk/expressoffer]</td>\n",
       "    </tr>\n",
       "    <tr>\n",
       "      <th>880</th>\n",
       "      <td>spam</td>\n",
       "      <td>Reminder: You have not downloaded the content ...</td>\n",
       "      <td>reminder: you have not downloaded the content ...</td>\n",
       "      <td>[http://doit.]</td>\n",
       "    </tr>\n",
       "    <tr>\n",
       "      <th>1104</th>\n",
       "      <td>spam</td>\n",
       "      <td>Message Important information for O2 user. Tod...</td>\n",
       "      <td>message important information for o2 user. tod...</td>\n",
       "      <td>[http://www.urawinner.com]</td>\n",
       "    </tr>\n",
       "    <tr>\n",
       "      <th>3057</th>\n",
       "      <td>spam</td>\n",
       "      <td>You are now unsubscribed all services. Get ton...</td>\n",
       "      <td>you are now unsubscribed all services. get ton...</td>\n",
       "      <td>[http://gotbabes.co.uk.]</td>\n",
       "    </tr>\n",
       "    <tr>\n",
       "      <th>3172</th>\n",
       "      <td>spam</td>\n",
       "      <td>Dear Voucher Holder, To claim this weeks offer...</td>\n",
       "      <td>dear voucher holder, to claim this weeks offer...</td>\n",
       "      <td>[http://www.e-tlp.co.uk/reward.]</td>\n",
       "    </tr>\n",
       "    <tr>\n",
       "      <th>3461</th>\n",
       "      <td>spam</td>\n",
       "      <td>Bloomberg -Message center +447797706009 Why wa...</td>\n",
       "      <td>bloomberg -message center +447797706009 why wa...</td>\n",
       "      <td>[http://careers.]</td>\n",
       "    </tr>\n",
       "    <tr>\n",
       "      <th>3860</th>\n",
       "      <td>spam</td>\n",
       "      <td>Free Msg: Ringtone!From: http://tms. widelive....</td>\n",
       "      <td>free msg: ringtone!from:   widelive.com/index....</td>\n",
       "      <td>[http://tms.]</td>\n",
       "    </tr>\n",
       "    <tr>\n",
       "      <th>3883</th>\n",
       "      <td>spam</td>\n",
       "      <td>A link to your picture has been sent. You can ...</td>\n",
       "      <td>a link to your picture has been sent. you can ...</td>\n",
       "      <td>[http://alto18.co.uk/wave/wave.asp?o=44345]</td>\n",
       "    </tr>\n",
       "    <tr>\n",
       "      <th>4164</th>\n",
       "      <td>spam</td>\n",
       "      <td>Dear Voucher Holder, To claim this weeks offer...</td>\n",
       "      <td>dear voucher holder, to claim this weeks offer...</td>\n",
       "      <td>[http://www.wtlp.co.uk/text.]</td>\n",
       "    </tr>\n",
       "    <tr>\n",
       "      <th>4204</th>\n",
       "      <td>spam</td>\n",
       "      <td>IMPORTANT INFORMATION 4 ORANGE USER 0796XXXXXX...</td>\n",
       "      <td>important information 4 orange user 0796xxxxxx...</td>\n",
       "      <td>[http://www.urawinner.com]</td>\n",
       "    </tr>\n",
       "    <tr>\n",
       "      <th>4256</th>\n",
       "      <td>spam</td>\n",
       "      <td>important information 4 orange user . today is...</td>\n",
       "      <td>important information 4 orange user . today is...</td>\n",
       "      <td>[http://www.urawinner.com]</td>\n",
       "    </tr>\n",
       "    <tr>\n",
       "      <th>4278</th>\n",
       "      <td>spam</td>\n",
       "      <td>URGENT. Important information for 02 user. Tod...</td>\n",
       "      <td>urgent. important information for 02 user. tod...</td>\n",
       "      <td>[http://www.urawinner.com]</td>\n",
       "    </tr>\n",
       "    <tr>\n",
       "      <th>4353</th>\n",
       "      <td>spam</td>\n",
       "      <td>important information 4 orange user 0789xxxxxx...</td>\n",
       "      <td>important information 4 orange user 0789xxxxxx...</td>\n",
       "      <td>[http://www.urawinner.com]</td>\n",
       "    </tr>\n",
       "    <tr>\n",
       "      <th>4963</th>\n",
       "      <td>spam</td>\n",
       "      <td>Dear Voucher holder Have your next meal on us....</td>\n",
       "      <td>dear voucher holder have your next meal on us....</td>\n",
       "      <td>[http://www.vouch4me.com/etlp/dining.asp]</td>\n",
       "    </tr>\n",
       "    <tr>\n",
       "      <th>5378</th>\n",
       "      <td>spam</td>\n",
       "      <td>Free entry to the gr8prizes wkly comp 4 a chan...</td>\n",
       "      <td>free entry to the gr8prizes wkly comp 4 a chan...</td>\n",
       "      <td>[http//www.gr8prizes.com]</td>\n",
       "    </tr>\n",
       "    <tr>\n",
       "      <th>5466</th>\n",
       "      <td>spam</td>\n",
       "      <td>http//tms. widelive.com/index. wml?id=820554ad...</td>\n",
       "      <td>widelive.com/index. wml?id=820554ad0a1705572...</td>\n",
       "      <td>[http//tms.]</td>\n",
       "    </tr>\n",
       "  </tbody>\n",
       "</table>\n",
       "</div>"
      ],
      "text/plain": [
       "     Label                                          EmailText  \\\n",
       "15    spam  XXXMobileMovieClub: To use your credit, click ...   \n",
       "304   spam  SMS. ac Blind Date 4U!: Rodds1 is 21/m from Ab...   \n",
       "517   spam  Your credits have been topped up for http://ww...   \n",
       "634   spam  Dear Voucher Holder, 2 claim this weeks offer,...   \n",
       "832   spam  Dear Voucher Holder, To claim this weeks offer...   \n",
       "880   spam  Reminder: You have not downloaded the content ...   \n",
       "1104  spam  Message Important information for O2 user. Tod...   \n",
       "3057  spam  You are now unsubscribed all services. Get ton...   \n",
       "3172  spam  Dear Voucher Holder, To claim this weeks offer...   \n",
       "3461  spam  Bloomberg -Message center +447797706009 Why wa...   \n",
       "3860  spam  Free Msg: Ringtone!From: http://tms. widelive....   \n",
       "3883  spam  A link to your picture has been sent. You can ...   \n",
       "4164  spam  Dear Voucher Holder, To claim this weeks offer...   \n",
       "4204  spam  IMPORTANT INFORMATION 4 ORANGE USER 0796XXXXXX...   \n",
       "4256  spam  important information 4 orange user . today is...   \n",
       "4278  spam  URGENT. Important information for 02 user. Tod...   \n",
       "4353  spam  important information 4 orange user 0789xxxxxx...   \n",
       "4963  spam  Dear Voucher holder Have your next meal on us....   \n",
       "5378  spam  Free entry to the gr8prizes wkly comp 4 a chan...   \n",
       "5466  spam  http//tms. widelive.com/index. wml?id=820554ad...   \n",
       "\n",
       "                                         CleanEmailText  \\\n",
       "15    xxxmobilemovieclub: to use your credit, click ...   \n",
       "304   sms. ac blind date 4u!: rodds1 is 21/m from ab...   \n",
       "517   your credits have been topped up for   your re...   \n",
       "634   dear voucher holder, 2 claim this weeks offer,...   \n",
       "832   dear voucher holder, to claim this weeks offer...   \n",
       "880   reminder: you have not downloaded the content ...   \n",
       "1104  message important information for o2 user. tod...   \n",
       "3057  you are now unsubscribed all services. get ton...   \n",
       "3172  dear voucher holder, to claim this weeks offer...   \n",
       "3461  bloomberg -message center +447797706009 why wa...   \n",
       "3860  free msg: ringtone!from:   widelive.com/index....   \n",
       "3883  a link to your picture has been sent. you can ...   \n",
       "4164  dear voucher holder, to claim this weeks offer...   \n",
       "4204  important information 4 orange user 0796xxxxxx...   \n",
       "4256  important information 4 orange user . today is...   \n",
       "4278  urgent. important information for 02 user. tod...   \n",
       "4353  important information 4 orange user 0789xxxxxx...   \n",
       "4963  dear voucher holder have your next meal on us....   \n",
       "5378  free entry to the gr8prizes wkly comp 4 a chan...   \n",
       "5466    widelive.com/index. wml?id=820554ad0a1705572...   \n",
       "\n",
       "                                            links  \n",
       "15                                  [http://wap.]  \n",
       "304                                 [http://img.]  \n",
       "517                   [http://www.bubbletext.com]  \n",
       "634         [http://www.e-tlp.co.uk/expressoffer]  \n",
       "832         [http://www.e-tlp.co.uk/expressoffer]  \n",
       "880                                [http://doit.]  \n",
       "1104                   [http://www.urawinner.com]  \n",
       "3057                     [http://gotbabes.co.uk.]  \n",
       "3172             [http://www.e-tlp.co.uk/reward.]  \n",
       "3461                            [http://careers.]  \n",
       "3860                                [http://tms.]  \n",
       "3883  [http://alto18.co.uk/wave/wave.asp?o=44345]  \n",
       "4164                [http://www.wtlp.co.uk/text.]  \n",
       "4204                   [http://www.urawinner.com]  \n",
       "4256                   [http://www.urawinner.com]  \n",
       "4278                   [http://www.urawinner.com]  \n",
       "4353                   [http://www.urawinner.com]  \n",
       "4963    [http://www.vouch4me.com/etlp/dining.asp]  \n",
       "5378                    [http//www.gr8prizes.com]  \n",
       "5466                                 [http//tms.]  "
      ]
     },
     "execution_count": 242,
     "metadata": {},
     "output_type": "execute_result"
    }
   ],
   "source": [
    "rows_with_links = df[df[\"links\"].apply(lambda x: len(x) > 0)]\n",
    "rows_with_links"
   ]
  },
  {
   "cell_type": "code",
   "execution_count": 243,
   "id": "5b826fb8",
   "metadata": {},
   "outputs": [
    {
     "name": "stdout",
     "output_type": "stream",
     "text": [
      "('XXXMobileMovieClub: To use your credit, click the WAP link in the next txt message or click here>> http://wap. xxxmobilemovieclub.com?n=QJKGIGHJJGCBL', 'xxxmobilemovieclub: to use your credit, click the wap link in the next txt message or click here>>   xxxmobilemovieclub.com?n=qjkgighjjgcbl')\n",
      "('SMS. ac Blind Date 4U!: Rodds1 is 21/m from Aberdeen, United Kingdom. Check Him out http://img. sms. ac/W/icmb3cktz8r7!-4 no Blind Dates send HIDE', 'sms. ac blind date 4u!: rodds1 is 21/m from aberdeen, united kingdom. check him out   sms. ac/w/icmb3cktz8r7!-4 no blind dates send hide')\n",
      "('Your credits have been topped up for http://www.bubbletext.com Your renewal Pin is tgxxrz', 'your credits have been topped up for   your renewal pin is tgxxrz')\n",
      "('Dear Voucher Holder, 2 claim this weeks offer, at your PC go to http://www.e-tlp.co.uk/expressoffer Ts&Cs apply.2 stop texts txt STOP to 80062.', 'dear voucher holder, 2 claim this weeks offer, at your pc go to   ts&cs apply.2 stop texts txt stop to 80062.')\n",
      "('Dear Voucher Holder, To claim this weeks offer, at you PC please go to http://www.e-tlp.co.uk/expressoffer Ts&Cs apply. To stop texts, txt STOP to 80062', 'dear voucher holder, to claim this weeks offer, at you pc please go to   ts&cs apply. to stop texts, txt stop to 80062')\n",
      "('Reminder: You have not downloaded the content you have already paid for. Goto http://doit. mymoby. tv/ to collect your content.', 'reminder: you have not downloaded the content you have already paid for. goto   mymoby. tv/ to collect your content.')\n",
      "('Message Important information for O2 user. Today is your lucky day! 2 find out why log onto http://www.urawinner.com there is a fantastic surprise awaiting you', 'message important information for o2 user. today is your lucky day! 2 find out why log onto   there is a fantastic surprise awaiting you')\n",
      "('You are now unsubscribed all services. Get tons of sexy babes or hunks straight to your phone! go to http://gotbabes.co.uk. No subscriptions.', 'you are now unsubscribed all services. get tons of sexy babes or hunks straight to your phone! go to   no subscriptions.')\n",
      "('Dear Voucher Holder, To claim this weeks offer, at you PC please go to http://www.e-tlp.co.uk/reward. Ts&Cs apply.', 'dear voucher holder, to claim this weeks offer, at you pc please go to   ts&cs apply.')\n",
      "('Bloomberg -Message center +447797706009 Why wait? Apply for your future http://careers. bloomberg.com', 'bloomberg -message center +447797706009 why wait? apply for your future   bloomberg.com')\n",
      "('Free Msg: Ringtone!From: http://tms. widelive.com/index. wml?id=1b6a5ecef91ff9*37819&first=true18:0430-JUL-05', 'free msg: ringtone!from:   widelive.com/index. wml?id=1b6a5ecef91ff9*37819&first=true18:0430-jul-05')\n",
      "('A link to your picture has been sent. You can also use http://alto18.co.uk/wave/wave.asp?o=44345', 'a link to your picture has been sent. you can also use  ')\n",
      "('Dear Voucher Holder, To claim this weeks offer, at your PC please go to http://www.wtlp.co.uk/text. Ts&Cs apply.', 'dear voucher holder, to claim this weeks offer, at your pc please go to   ts&cs apply.')\n",
      "(\"IMPORTANT INFORMATION 4 ORANGE USER 0796XXXXXX. TODAY IS UR LUCKY DAY!2 FIND OUT WHY LOG ONTO http://www.urawinner.com THERE'S A FANTASTIC PRIZEAWAITING YOU!\", \"important information 4 orange user 0796xxxxxx. today is ur lucky day!2 find out why log onto   there's a fantastic prizeawaiting you!\")\n",
      "(\"important information 4 orange user . today is your lucky day!2find out why log onto http://www.urawinner.com THERE'S A FANTASTIC SURPRISE AWAITING YOU!\", \"important information 4 orange user . today is your lucky day!2find out why log onto   there's a fantastic surprise awaiting you!\")\n",
      "('URGENT. Important information for 02 user. Today is your lucky day! 2 find out why , log onto http://www.urawinner.com there is a fantastic surprise awaiting you !', 'urgent. important information for 02 user. today is your lucky day! 2 find out why , log onto   there is a fantastic surprise awaiting you !')\n",
      "(\"important information 4 orange user 0789xxxxxxx. today is your lucky day!2find out why log onto http://www.urawinner.com THERE'S A FANTASTIC SURPRISE AWAITING YOU!\", \"important information 4 orange user 0789xxxxxxx. today is your lucky day!2find out why log onto   there's a fantastic surprise awaiting you!\")\n",
      "('Dear Voucher holder Have your next meal on us. Use the following link on your pc 2 enjoy a 2 4 1 dining experiencehttp://www.vouch4me.com/etlp/dining.asp', 'dear voucher holder have your next meal on us. use the following link on your pc 2 enjoy a 2 4 1 dining experience ')\n",
      "('Free entry to the gr8prizes wkly comp 4 a chance to win the latest Nokia 8800, PSP or �250 cash every wk.TXT GREAT to 80878 http//www.gr8prizes.com 08715705022', 'free entry to the gr8prizes wkly comp 4 a chance to win the latest nokia 8800, psp or �250 cash every wk.txt great to 80878   08715705022')\n",
      "('http//tms. widelive.com/index. wml?id=820554ad0a1705572711&first=true��C C Ringtone��', '  widelive.com/index. wml?id=820554ad0a1705572711&first=true��c c ringtone��')\n"
     ]
    }
   ],
   "source": [
    "for index,row in rows_with_links.iterrows():\n",
    "    print(f\"{row[\"EmailText\"],row[\"CleanEmailText\"]}\",end=\"\\n\")"
   ]
  },
  {
   "cell_type": "markdown",
   "id": "f00b89e4",
   "metadata": {},
   "source": [
    "## `4` Removing Numbers & Punctatuins"
   ]
  },
  {
   "cell_type": "code",
   "execution_count": 244,
   "id": "9258aa63",
   "metadata": {},
   "outputs": [
    {
     "data": {
      "application/vnd.microsoft.datawrangler.viewer.v0+json": {
       "columns": [
        {
         "name": "index",
         "rawType": "int64",
         "type": "integer"
        },
        {
         "name": "Label",
         "rawType": "object",
         "type": "string"
        },
        {
         "name": "EmailText",
         "rawType": "object",
         "type": "string"
        },
        {
         "name": "CleanEmailText",
         "rawType": "object",
         "type": "string"
        },
        {
         "name": "links",
         "rawType": "object",
         "type": "unknown"
        }
       ],
       "ref": "6d657b92-e7b9-4090-8d51-9409ce57aaad",
       "rows": [
        [
         "0",
         "ham",
         "Go until jurong point, crazy.. Available only in bugis n great world la e buffet... Cine there got amore wat...",
         "go until jurong point  crazy   available only in bugis n great world la e buffet    cine there got amore wat   ",
         "[]"
        ],
        [
         "1",
         "ham",
         "Ok lar... Joking wif u oni...",
         "ok lar    joking wif u oni   ",
         "[]"
        ],
        [
         "2",
         "spam",
         "Free entry in 2 a wkly comp to win FA Cup final tkts 21st May 2005. Text FA to 87121 to receive entry question(std txt rate)T&C's apply 08452810075over18's",
         "free entry in   a wkly comp to win fa cup final tkts   st may       text fa to       to receive entry question std txt rate t c s apply            over   s",
         "[]"
        ],
        [
         "3",
         "ham",
         "U dun say so early hor... U c already then say...",
         "u dun say so early hor    u c already then say   ",
         "[]"
        ],
        [
         "4",
         "ham",
         "Nah I don't think he goes to usf, he lives around here though",
         "nah i don t think he goes to usf  he lives around here though",
         "[]"
        ],
        [
         "5",
         "spam",
         "FreeMsg Hey there darling it's been 3 week's now and no word back! I'd like some fun you up for it still? Tb ok! XxX std chgs to send, �1.50 to rcv",
         "freemsg hey there darling it s been   week s now and no word back  i d like some fun you up for it still  tb ok  xxx std chgs to send        to rcv",
         "[]"
        ],
        [
         "6",
         "ham",
         "Even my brother is not like to speak with me. They treat me like aids patent.",
         "even my brother is not like to speak with me  they treat me like aids patent ",
         "[]"
        ],
        [
         "7",
         "ham",
         "As per your request 'Melle Melle (Oru Minnaminunginte Nurungu Vettam)' has been set as your callertune for all Callers. Press *9 to copy your friends Callertune",
         "as per your request  melle melle  oru minnaminunginte nurungu vettam   has been set as your callertune for all callers  press    to copy your friends callertune",
         "[]"
        ],
        [
         "8",
         "spam",
         "WINNER!! As a valued network customer you have been selected to receivea �900 prize reward! To claim call 09061701461. Claim code KL341. Valid 12 hours only.",
         "winner   as a valued network customer you have been selected to receivea      prize reward  to claim call              claim code kl     valid    hours only ",
         "[]"
        ],
        [
         "9",
         "spam",
         "Had your mobile 11 months or more? U R entitled to Update to the latest colour mobiles with camera for Free! Call The Mobile Update Co FREE on 08002986030",
         "had your mobile    months or more  u r entitled to update to the latest colour mobiles with camera for free  call the mobile update co free on            ",
         "[]"
        ],
        [
         "10",
         "ham",
         "I'm gonna be home soon and i don't want to talk about this stuff anymore tonight, k? I've cried enough today.",
         "i m gonna be home soon and i don t want to talk about this stuff anymore tonight  k  i ve cried enough today ",
         "[]"
        ],
        [
         "11",
         "spam",
         "SIX chances to win CASH! From 100 to 20,000 pounds txt> CSH11 and send to 87575. Cost 150p/day, 6days, 16+ TsandCs apply Reply HL 4 info",
         "six chances to win cash  from     to        pounds txt  csh   and send to        cost    p day   days      tsandcs apply reply hl   info",
         "[]"
        ],
        [
         "12",
         "spam",
         "URGENT! You have won a 1 week FREE membership in our �100,000 Prize Jackpot! Txt the word: CLAIM to No: 81010 T&C www.dbuk.net LCCLTD POBOX 4403LDNW1A7RW18",
         "urgent  you have won a   week free membership in our          prize jackpot  txt the word  claim to no        t c www dbuk net lccltd pobox     ldnw a rw  ",
         "[]"
        ],
        [
         "13",
         "ham",
         "I've been searching for the right words to thank you for this breather. I promise i wont take your help for granted and will fulfil my promise. You have been wonderful and a blessing at all times.",
         "i ve been searching for the right words to thank you for this breather  i promise i wont take your help for granted and will fulfil my promise  you have been wonderful and a blessing at all times ",
         "[]"
        ],
        [
         "14",
         "ham",
         "I HAVE A DATE ON SUNDAY WITH WILL!!",
         "i have a date on sunday with will  ",
         "[]"
        ],
        [
         "15",
         "spam",
         "XXXMobileMovieClub: To use your credit, click the WAP link in the next txt message or click here>> http://wap. xxxmobilemovieclub.com?n=QJKGIGHJJGCBL",
         "xxxmobilemovieclub  to use your credit  click the wap link in the next txt message or click here     xxxmobilemovieclub com n qjkgighjjgcbl",
         "['http://wap.']"
        ],
        [
         "16",
         "ham",
         "Oh k...i'm watching here:)",
         "oh k   i m watching here  ",
         "[]"
        ],
        [
         "17",
         "ham",
         "Eh u remember how 2 spell his name... Yes i did. He v naughty make until i v wet.",
         "eh u remember how   spell his name    yes i did  he v naughty make until i v wet ",
         "[]"
        ],
        [
         "18",
         "ham",
         "Fine if that��s the way u feel. That��s the way its gota b",
         "fine if that  s the way u feel  that  s the way its gota b",
         "[]"
        ],
        [
         "19",
         "spam",
         "England v Macedonia - dont miss the goals/team news. Txt ur national team to 87077 eg ENGLAND to 87077 Try:WALES, SCOTLAND 4txt/̼1.20 POBOXox36504W45WQ 16+",
         "england v macedonia   dont miss the goals team news  txt ur national team to       eg england to       try wales  scotland  txt       poboxox     w  wq    ",
         "[]"
        ],
        [
         "20",
         "ham",
         "Is that seriously how you spell his name?",
         "is that seriously how you spell his name ",
         "[]"
        ],
        [
         "21",
         "ham",
         "I���m going to try for 2 months ha ha only joking",
         "i   m going to try for   months ha ha only joking",
         "[]"
        ],
        [
         "22",
         "ham",
         "So �_ pay first lar... Then when is da stock comin...",
         "so    pay first lar    then when is da stock comin   ",
         "[]"
        ],
        [
         "23",
         "ham",
         "Aft i finish my lunch then i go str down lor. Ard 3 smth lor. U finish ur lunch already?",
         "aft i finish my lunch then i go str down lor  ard   smth lor  u finish ur lunch already ",
         "[]"
        ],
        [
         "24",
         "ham",
         "Ffffffffff. Alright no way I can meet up with you sooner?",
         "ffffffffff  alright no way i can meet up with you sooner ",
         "[]"
        ],
        [
         "25",
         "ham",
         "Just forced myself to eat a slice. I'm really not hungry tho. This sucks. Mark is getting worried. He knows I'm sick when I turn down pizza. Lol",
         "just forced myself to eat a slice  i m really not hungry tho  this sucks  mark is getting worried  he knows i m sick when i turn down pizza  lol",
         "[]"
        ],
        [
         "26",
         "ham",
         "Lol your always so convincing.",
         "lol your always so convincing ",
         "[]"
        ],
        [
         "27",
         "ham",
         "Did you catch the bus ? Are you frying an egg ? Did you make a tea? Are you eating your mom's left over dinner ? Do you feel my Love ?",
         "did you catch the bus   are you frying an egg   did you make a tea  are you eating your mom s left over dinner   do you feel my love  ",
         "[]"
        ],
        [
         "28",
         "ham",
         "I'm back &amp; we're packing the car now, I'll let you know if there's room",
         "i m back  amp  we re packing the car now  i ll let you know if there s room",
         "[]"
        ],
        [
         "29",
         "ham",
         "Ahhh. Work. I vaguely remember that! What does it feel like? Lol",
         "ahhh  work  i vaguely remember that  what does it feel like  lol",
         "[]"
        ],
        [
         "30",
         "ham",
         "Wait that's still not all that clear, were you not sure about me being sarcastic or that that's why x doesn't want to live with us",
         "wait that s still not all that clear  were you not sure about me being sarcastic or that that s why x doesn t want to live with us",
         "[]"
        ],
        [
         "31",
         "ham",
         "Yeah he got in at 2 and was v apologetic. n had fallen out and she was actin like spoilt child and he got caught up in that. Till 2! But we won't go there! Not doing too badly cheers. You? ",
         "yeah he got in at   and was v apologetic  n had fallen out and she was actin like spoilt child and he got caught up in that  till    but we won t go there  not doing too badly cheers  you  ",
         "[]"
        ],
        [
         "32",
         "ham",
         "K tell me anything about you.",
         "k tell me anything about you ",
         "[]"
        ],
        [
         "33",
         "ham",
         "For fear of fainting with the of all that housework you just did? Quick have a cuppa",
         "for fear of fainting with the of all that housework you just did  quick have a cuppa",
         "[]"
        ],
        [
         "34",
         "spam",
         "Thanks for your subscription to Ringtone UK your mobile will be charged �5/month Please confirm by replying YES or NO. If you reply NO you will not be charged",
         "thanks for your subscription to ringtone uk your mobile will be charged    month please confirm by replying yes or no  if you reply no you will not be charged",
         "[]"
        ],
        [
         "35",
         "ham",
         "Yup... Ok i go home look at the timings then i msg �_ again... Xuhui going to learn on 2nd may too but her lesson is at 8am",
         "yup    ok i go home look at the timings then i msg    again    xuhui going to learn on  nd may too but her lesson is at  am",
         "[]"
        ],
        [
         "36",
         "ham",
         "Oops, I'll let you know when my roommate's done",
         "oops  i ll let you know when my roommate s done",
         "[]"
        ],
        [
         "37",
         "ham",
         "I see the letter B on my car",
         "i see the letter b on my car",
         "[]"
        ],
        [
         "38",
         "ham",
         "Anything lor... U decide...",
         "anything lor    u decide   ",
         "[]"
        ],
        [
         "39",
         "ham",
         "Hello! How's you and how did saturday go? I was just texting to see if you'd decided to do anything tomo. Not that i'm trying to invite myself or anything!",
         "hello  how s you and how did saturday go  i was just texting to see if you d decided to do anything tomo  not that i m trying to invite myself or anything ",
         "[]"
        ],
        [
         "40",
         "ham",
         "Pls go ahead with watts. I just wanted to be sure. Do have a great weekend. Abiola",
         "pls go ahead with watts  i just wanted to be sure  do have a great weekend  abiola",
         "[]"
        ],
        [
         "41",
         "ham",
         "Did I forget to tell you ? I want you , I need you, I crave you ... But most of all ... I love you my sweet Arabian steed ... Mmmmmm ... Yummy",
         "did i forget to tell you   i want you   i need you  i crave you     but most of all     i love you my sweet arabian steed     mmmmmm     yummy",
         "[]"
        ],
        [
         "42",
         "spam",
         "07732584351 - Rodger Burns - MSG = We tried to call you re your reply to our sms for a free nokia mobile + free camcorder. Please call now 08000930705 for delivery tomorrow",
         "              rodger burns   msg   we tried to call you re your reply to our sms for a free nokia mobile   free camcorder  please call now             for delivery tomorrow",
         "[]"
        ],
        [
         "43",
         "ham",
         "WHO ARE YOU SEEING?",
         "who are you seeing ",
         "[]"
        ],
        [
         "44",
         "ham",
         "Great! I hope you like your man well endowed. I am  &lt;#&gt;  inches...",
         "great  i hope you like your man well endowed  i am   lt   gt   inches   ",
         "[]"
        ],
        [
         "45",
         "ham",
         "No calls..messages..missed calls",
         "no calls  messages  missed calls",
         "[]"
        ],
        [
         "46",
         "ham",
         "Didn't you get hep b immunisation in nigeria.",
         "didn t you get hep b immunisation in nigeria ",
         "[]"
        ],
        [
         "47",
         "ham",
         "Fair enough, anything going on?",
         "fair enough  anything going on ",
         "[]"
        ],
        [
         "48",
         "ham",
         "Yeah hopefully, if tyler can't do it I could maybe ask around a bit",
         "yeah hopefully  if tyler can t do it i could maybe ask around a bit",
         "[]"
        ],
        [
         "49",
         "ham",
         "U don't know how stubborn I am. I didn't even want to go to the hospital. I kept telling Mark I'm not a weak sucker. Hospitals are for weak suckers.",
         "u don t know how stubborn i am  i didn t even want to go to the hospital  i kept telling mark i m not a weak sucker  hospitals are for weak suckers ",
         "[]"
        ]
       ],
       "shape": {
        "columns": 4,
        "rows": 5169
       }
      },
      "text/html": [
       "<div>\n",
       "<style scoped>\n",
       "    .dataframe tbody tr th:only-of-type {\n",
       "        vertical-align: middle;\n",
       "    }\n",
       "\n",
       "    .dataframe tbody tr th {\n",
       "        vertical-align: top;\n",
       "    }\n",
       "\n",
       "    .dataframe thead th {\n",
       "        text-align: right;\n",
       "    }\n",
       "</style>\n",
       "<table border=\"1\" class=\"dataframe\">\n",
       "  <thead>\n",
       "    <tr style=\"text-align: right;\">\n",
       "      <th></th>\n",
       "      <th>Label</th>\n",
       "      <th>EmailText</th>\n",
       "      <th>CleanEmailText</th>\n",
       "      <th>links</th>\n",
       "    </tr>\n",
       "  </thead>\n",
       "  <tbody>\n",
       "    <tr>\n",
       "      <th>0</th>\n",
       "      <td>ham</td>\n",
       "      <td>Go until jurong point, crazy.. Available only ...</td>\n",
       "      <td>go until jurong point  crazy   available only ...</td>\n",
       "      <td>[]</td>\n",
       "    </tr>\n",
       "    <tr>\n",
       "      <th>1</th>\n",
       "      <td>ham</td>\n",
       "      <td>Ok lar... Joking wif u oni...</td>\n",
       "      <td>ok lar    joking wif u oni</td>\n",
       "      <td>[]</td>\n",
       "    </tr>\n",
       "    <tr>\n",
       "      <th>2</th>\n",
       "      <td>spam</td>\n",
       "      <td>Free entry in 2 a wkly comp to win FA Cup fina...</td>\n",
       "      <td>free entry in   a wkly comp to win fa cup fina...</td>\n",
       "      <td>[]</td>\n",
       "    </tr>\n",
       "    <tr>\n",
       "      <th>3</th>\n",
       "      <td>ham</td>\n",
       "      <td>U dun say so early hor... U c already then say...</td>\n",
       "      <td>u dun say so early hor    u c already then say</td>\n",
       "      <td>[]</td>\n",
       "    </tr>\n",
       "    <tr>\n",
       "      <th>4</th>\n",
       "      <td>ham</td>\n",
       "      <td>Nah I don't think he goes to usf, he lives aro...</td>\n",
       "      <td>nah i don t think he goes to usf  he lives aro...</td>\n",
       "      <td>[]</td>\n",
       "    </tr>\n",
       "    <tr>\n",
       "      <th>...</th>\n",
       "      <td>...</td>\n",
       "      <td>...</td>\n",
       "      <td>...</td>\n",
       "      <td>...</td>\n",
       "    </tr>\n",
       "    <tr>\n",
       "      <th>5567</th>\n",
       "      <td>spam</td>\n",
       "      <td>This is the 2nd time we have tried 2 contact u...</td>\n",
       "      <td>this is the  nd time we have tried   contact u...</td>\n",
       "      <td>[]</td>\n",
       "    </tr>\n",
       "    <tr>\n",
       "      <th>5568</th>\n",
       "      <td>ham</td>\n",
       "      <td>Will �_ b going to esplanade fr home?</td>\n",
       "      <td>will    b going to esplanade fr home</td>\n",
       "      <td>[]</td>\n",
       "    </tr>\n",
       "    <tr>\n",
       "      <th>5569</th>\n",
       "      <td>ham</td>\n",
       "      <td>Pity, * was in mood for that. So...any other s...</td>\n",
       "      <td>pity    was in mood for that  so   any other s...</td>\n",
       "      <td>[]</td>\n",
       "    </tr>\n",
       "    <tr>\n",
       "      <th>5570</th>\n",
       "      <td>ham</td>\n",
       "      <td>The guy did some bitching but I acted like i'd...</td>\n",
       "      <td>the guy did some bitching but i acted like i d...</td>\n",
       "      <td>[]</td>\n",
       "    </tr>\n",
       "    <tr>\n",
       "      <th>5571</th>\n",
       "      <td>ham</td>\n",
       "      <td>Rofl. Its true to its name</td>\n",
       "      <td>rofl  its true to its name</td>\n",
       "      <td>[]</td>\n",
       "    </tr>\n",
       "  </tbody>\n",
       "</table>\n",
       "<p>5169 rows × 4 columns</p>\n",
       "</div>"
      ],
      "text/plain": [
       "     Label                                          EmailText  \\\n",
       "0      ham  Go until jurong point, crazy.. Available only ...   \n",
       "1      ham                      Ok lar... Joking wif u oni...   \n",
       "2     spam  Free entry in 2 a wkly comp to win FA Cup fina...   \n",
       "3      ham  U dun say so early hor... U c already then say...   \n",
       "4      ham  Nah I don't think he goes to usf, he lives aro...   \n",
       "...    ...                                                ...   \n",
       "5567  spam  This is the 2nd time we have tried 2 contact u...   \n",
       "5568   ham              Will �_ b going to esplanade fr home?   \n",
       "5569   ham  Pity, * was in mood for that. So...any other s...   \n",
       "5570   ham  The guy did some bitching but I acted like i'd...   \n",
       "5571   ham                         Rofl. Its true to its name   \n",
       "\n",
       "                                         CleanEmailText links  \n",
       "0     go until jurong point  crazy   available only ...    []  \n",
       "1                         ok lar    joking wif u oni       []  \n",
       "2     free entry in   a wkly comp to win fa cup fina...    []  \n",
       "3     u dun say so early hor    u c already then say       []  \n",
       "4     nah i don t think he goes to usf  he lives aro...    []  \n",
       "...                                                 ...   ...  \n",
       "5567  this is the  nd time we have tried   contact u...    []  \n",
       "5568              will    b going to esplanade fr home     []  \n",
       "5569  pity    was in mood for that  so   any other s...    []  \n",
       "5570  the guy did some bitching but i acted like i d...    []  \n",
       "5571                         rofl  its true to its name    []  \n",
       "\n",
       "[5169 rows x 4 columns]"
      ]
     },
     "execution_count": 244,
     "metadata": {},
     "output_type": "execute_result"
    }
   ],
   "source": [
    "Cleaned.Updeate_column(lambda x : re.sub(r\"[^a-zA-Z]\",\" \",x))\n",
    "df"
   ]
  },
  {
   "cell_type": "markdown",
   "id": "039e4e0a",
   "metadata": {},
   "source": [
    "## `5` Removing Any Single Letters"
   ]
  },
  {
   "cell_type": "code",
   "execution_count": 245,
   "id": "20e5842e",
   "metadata": {},
   "outputs": [
    {
     "data": {
      "application/vnd.microsoft.datawrangler.viewer.v0+json": {
       "columns": [
        {
         "name": "index",
         "rawType": "int64",
         "type": "integer"
        },
        {
         "name": "Label",
         "rawType": "object",
         "type": "string"
        },
        {
         "name": "EmailText",
         "rawType": "object",
         "type": "string"
        },
        {
         "name": "CleanEmailText",
         "rawType": "object",
         "type": "string"
        },
        {
         "name": "links",
         "rawType": "object",
         "type": "unknown"
        }
       ],
       "ref": "42e8ccdd-69eb-4cc1-80cf-ca874a419b93",
       "rows": [
        [
         "0",
         "ham",
         "Go until jurong point, crazy.. Available only in bugis n great world la e buffet... Cine there got amore wat...",
         "go until jurong point  crazy   available only in bugis   great world la   buffet    cine there got amore wat   ",
         "[]"
        ],
        [
         "1",
         "ham",
         "Ok lar... Joking wif u oni...",
         "ok lar    joking wif   oni   ",
         "[]"
        ],
        [
         "2",
         "spam",
         "Free entry in 2 a wkly comp to win FA Cup final tkts 21st May 2005. Text FA to 87121 to receive entry question(std txt rate)T&C's apply 08452810075over18's",
         "free entry in     wkly comp to win fa cup final tkts   st may       text fa to       to receive entry question std txt rate       apply            over    ",
         "[]"
        ],
        [
         "3",
         "ham",
         "U dun say so early hor... U c already then say...",
         "  dun say so early hor        already then say   ",
         "[]"
        ],
        [
         "4",
         "ham",
         "Nah I don't think he goes to usf, he lives around here though",
         "nah   don   think he goes to usf  he lives around here though",
         "[]"
        ],
        [
         "5",
         "spam",
         "FreeMsg Hey there darling it's been 3 week's now and no word back! I'd like some fun you up for it still? Tb ok! XxX std chgs to send, �1.50 to rcv",
         "freemsg hey there darling it   been   week   now and no word back      like some fun you up for it still  tb ok  xxx std chgs to send        to rcv",
         "[]"
        ],
        [
         "6",
         "ham",
         "Even my brother is not like to speak with me. They treat me like aids patent.",
         "even my brother is not like to speak with me  they treat me like aids patent ",
         "[]"
        ],
        [
         "7",
         "ham",
         "As per your request 'Melle Melle (Oru Minnaminunginte Nurungu Vettam)' has been set as your callertune for all Callers. Press *9 to copy your friends Callertune",
         "as per your request  melle melle  oru minnaminunginte nurungu vettam   has been set as your callertune for all callers  press    to copy your friends callertune",
         "[]"
        ],
        [
         "8",
         "spam",
         "WINNER!! As a valued network customer you have been selected to receivea �900 prize reward! To claim call 09061701461. Claim code KL341. Valid 12 hours only.",
         "winner   as   valued network customer you have been selected to receivea      prize reward  to claim call              claim code kl     valid    hours only ",
         "[]"
        ],
        [
         "9",
         "spam",
         "Had your mobile 11 months or more? U R entitled to Update to the latest colour mobiles with camera for Free! Call The Mobile Update Co FREE on 08002986030",
         "had your mobile    months or more      entitled to update to the latest colour mobiles with camera for free  call the mobile update co free on            ",
         "[]"
        ],
        [
         "10",
         "ham",
         "I'm gonna be home soon and i don't want to talk about this stuff anymore tonight, k? I've cried enough today.",
         "    gonna be home soon and   don   want to talk about this stuff anymore tonight       ve cried enough today ",
         "[]"
        ],
        [
         "11",
         "spam",
         "SIX chances to win CASH! From 100 to 20,000 pounds txt> CSH11 and send to 87575. Cost 150p/day, 6days, 16+ TsandCs apply Reply HL 4 info",
         "six chances to win cash  from     to        pounds txt  csh   and send to        cost      day   days      tsandcs apply reply hl   info",
         "[]"
        ],
        [
         "12",
         "spam",
         "URGENT! You have won a 1 week FREE membership in our �100,000 Prize Jackpot! Txt the word: CLAIM to No: 81010 T&C www.dbuk.net LCCLTD POBOX 4403LDNW1A7RW18",
         "urgent  you have won     week free membership in our          prize jackpot  txt the word  claim to no            www dbuk net lccltd pobox     ldnw   rw  ",
         "[]"
        ],
        [
         "13",
         "ham",
         "I've been searching for the right words to thank you for this breather. I promise i wont take your help for granted and will fulfil my promise. You have been wonderful and a blessing at all times.",
         "  ve been searching for the right words to thank you for this breather    promise   wont take your help for granted and will fulfil my promise  you have been wonderful and   blessing at all times ",
         "[]"
        ],
        [
         "14",
         "ham",
         "I HAVE A DATE ON SUNDAY WITH WILL!!",
         "  have   date on sunday with will  ",
         "[]"
        ],
        [
         "15",
         "spam",
         "XXXMobileMovieClub: To use your credit, click the WAP link in the next txt message or click here>> http://wap. xxxmobilemovieclub.com?n=QJKGIGHJJGCBL",
         "xxxmobilemovieclub  to use your credit  click the wap link in the next txt message or click here     xxxmobilemovieclub com   qjkgighjjgcbl",
         "['http://wap.']"
        ],
        [
         "16",
         "ham",
         "Oh k...i'm watching here:)",
         "oh         watching here  ",
         "[]"
        ],
        [
         "17",
         "ham",
         "Eh u remember how 2 spell his name... Yes i did. He v naughty make until i v wet.",
         "eh   remember how   spell his name    yes   did  he   naughty make until     wet ",
         "[]"
        ],
        [
         "18",
         "ham",
         "Fine if that��s the way u feel. That��s the way its gota b",
         "fine if that    the way   feel  that    the way its gota  ",
         "[]"
        ],
        [
         "19",
         "spam",
         "England v Macedonia - dont miss the goals/team news. Txt ur national team to 87077 eg ENGLAND to 87077 Try:WALES, SCOTLAND 4txt/̼1.20 POBOXox36504W45WQ 16+",
         "england   macedonia   dont miss the goals team news  txt ur national team to       eg england to       try wales  scotland  txt       poboxox        wq    ",
         "[]"
        ],
        [
         "20",
         "ham",
         "Is that seriously how you spell his name?",
         "is that seriously how you spell his name ",
         "[]"
        ],
        [
         "21",
         "ham",
         "I���m going to try for 2 months ha ha only joking",
         "      going to try for   months ha ha only joking",
         "[]"
        ],
        [
         "22",
         "ham",
         "So �_ pay first lar... Then when is da stock comin...",
         "so    pay first lar    then when is da stock comin   ",
         "[]"
        ],
        [
         "23",
         "ham",
         "Aft i finish my lunch then i go str down lor. Ard 3 smth lor. U finish ur lunch already?",
         "aft   finish my lunch then   go str down lor  ard   smth lor    finish ur lunch already ",
         "[]"
        ],
        [
         "24",
         "ham",
         "Ffffffffff. Alright no way I can meet up with you sooner?",
         "ffffffffff  alright no way   can meet up with you sooner ",
         "[]"
        ],
        [
         "25",
         "ham",
         "Just forced myself to eat a slice. I'm really not hungry tho. This sucks. Mark is getting worried. He knows I'm sick when I turn down pizza. Lol",
         "just forced myself to eat   slice      really not hungry tho  this sucks  mark is getting worried  he knows     sick when   turn down pizza  lol",
         "[]"
        ],
        [
         "26",
         "ham",
         "Lol your always so convincing.",
         "lol your always so convincing ",
         "[]"
        ],
        [
         "27",
         "ham",
         "Did you catch the bus ? Are you frying an egg ? Did you make a tea? Are you eating your mom's left over dinner ? Do you feel my Love ?",
         "did you catch the bus   are you frying an egg   did you make   tea  are you eating your mom   left over dinner   do you feel my love  ",
         "[]"
        ],
        [
         "28",
         "ham",
         "I'm back &amp; we're packing the car now, I'll let you know if there's room",
         "    back  amp  we re packing the car now    ll let you know if there   room",
         "[]"
        ],
        [
         "29",
         "ham",
         "Ahhh. Work. I vaguely remember that! What does it feel like? Lol",
         "ahhh  work    vaguely remember that  what does it feel like  lol",
         "[]"
        ],
        [
         "30",
         "ham",
         "Wait that's still not all that clear, were you not sure about me being sarcastic or that that's why x doesn't want to live with us",
         "wait that   still not all that clear  were you not sure about me being sarcastic or that that   why   doesn   want to live with us",
         "[]"
        ],
        [
         "31",
         "ham",
         "Yeah he got in at 2 and was v apologetic. n had fallen out and she was actin like spoilt child and he got caught up in that. Till 2! But we won't go there! Not doing too badly cheers. You? ",
         "yeah he got in at   and was   apologetic    had fallen out and she was actin like spoilt child and he got caught up in that  till    but we won   go there  not doing too badly cheers  you  ",
         "[]"
        ],
        [
         "32",
         "ham",
         "K tell me anything about you.",
         "  tell me anything about you ",
         "[]"
        ],
        [
         "33",
         "ham",
         "For fear of fainting with the of all that housework you just did? Quick have a cuppa",
         "for fear of fainting with the of all that housework you just did  quick have   cuppa",
         "[]"
        ],
        [
         "34",
         "spam",
         "Thanks for your subscription to Ringtone UK your mobile will be charged �5/month Please confirm by replying YES or NO. If you reply NO you will not be charged",
         "thanks for your subscription to ringtone uk your mobile will be charged    month please confirm by replying yes or no  if you reply no you will not be charged",
         "[]"
        ],
        [
         "35",
         "ham",
         "Yup... Ok i go home look at the timings then i msg �_ again... Xuhui going to learn on 2nd may too but her lesson is at 8am",
         "yup    ok   go home look at the timings then   msg    again    xuhui going to learn on  nd may too but her lesson is at  am",
         "[]"
        ],
        [
         "36",
         "ham",
         "Oops, I'll let you know when my roommate's done",
         "oops    ll let you know when my roommate   done",
         "[]"
        ],
        [
         "37",
         "ham",
         "I see the letter B on my car",
         "  see the letter   on my car",
         "[]"
        ],
        [
         "38",
         "ham",
         "Anything lor... U decide...",
         "anything lor      decide   ",
         "[]"
        ],
        [
         "39",
         "ham",
         "Hello! How's you and how did saturday go? I was just texting to see if you'd decided to do anything tomo. Not that i'm trying to invite myself or anything!",
         "hello  how   you and how did saturday go    was just texting to see if you   decided to do anything tomo  not that     trying to invite myself or anything ",
         "[]"
        ],
        [
         "40",
         "ham",
         "Pls go ahead with watts. I just wanted to be sure. Do have a great weekend. Abiola",
         "pls go ahead with watts    just wanted to be sure  do have   great weekend  abiola",
         "[]"
        ],
        [
         "41",
         "ham",
         "Did I forget to tell you ? I want you , I need you, I crave you ... But most of all ... I love you my sweet Arabian steed ... Mmmmmm ... Yummy",
         "did   forget to tell you     want you     need you    crave you     but most of all       love you my sweet arabian steed     mmmmmm     yummy",
         "[]"
        ],
        [
         "42",
         "spam",
         "07732584351 - Rodger Burns - MSG = We tried to call you re your reply to our sms for a free nokia mobile + free camcorder. Please call now 08000930705 for delivery tomorrow",
         "              rodger burns   msg   we tried to call you re your reply to our sms for   free nokia mobile   free camcorder  please call now             for delivery tomorrow",
         "[]"
        ],
        [
         "43",
         "ham",
         "WHO ARE YOU SEEING?",
         "who are you seeing ",
         "[]"
        ],
        [
         "44",
         "ham",
         "Great! I hope you like your man well endowed. I am  &lt;#&gt;  inches...",
         "great    hope you like your man well endowed    am   lt   gt   inches   ",
         "[]"
        ],
        [
         "45",
         "ham",
         "No calls..messages..missed calls",
         "no calls  messages  missed calls",
         "[]"
        ],
        [
         "46",
         "ham",
         "Didn't you get hep b immunisation in nigeria.",
         "didn   you get hep   immunisation in nigeria ",
         "[]"
        ],
        [
         "47",
         "ham",
         "Fair enough, anything going on?",
         "fair enough  anything going on ",
         "[]"
        ],
        [
         "48",
         "ham",
         "Yeah hopefully, if tyler can't do it I could maybe ask around a bit",
         "yeah hopefully  if tyler can   do it   could maybe ask around   bit",
         "[]"
        ],
        [
         "49",
         "ham",
         "U don't know how stubborn I am. I didn't even want to go to the hospital. I kept telling Mark I'm not a weak sucker. Hospitals are for weak suckers.",
         "  don   know how stubborn   am    didn   even want to go to the hospital    kept telling mark     not   weak sucker  hospitals are for weak suckers ",
         "[]"
        ]
       ],
       "shape": {
        "columns": 4,
        "rows": 5169
       }
      },
      "text/html": [
       "<div>\n",
       "<style scoped>\n",
       "    .dataframe tbody tr th:only-of-type {\n",
       "        vertical-align: middle;\n",
       "    }\n",
       "\n",
       "    .dataframe tbody tr th {\n",
       "        vertical-align: top;\n",
       "    }\n",
       "\n",
       "    .dataframe thead th {\n",
       "        text-align: right;\n",
       "    }\n",
       "</style>\n",
       "<table border=\"1\" class=\"dataframe\">\n",
       "  <thead>\n",
       "    <tr style=\"text-align: right;\">\n",
       "      <th></th>\n",
       "      <th>Label</th>\n",
       "      <th>EmailText</th>\n",
       "      <th>CleanEmailText</th>\n",
       "      <th>links</th>\n",
       "    </tr>\n",
       "  </thead>\n",
       "  <tbody>\n",
       "    <tr>\n",
       "      <th>0</th>\n",
       "      <td>ham</td>\n",
       "      <td>Go until jurong point, crazy.. Available only ...</td>\n",
       "      <td>go until jurong point  crazy   available only ...</td>\n",
       "      <td>[]</td>\n",
       "    </tr>\n",
       "    <tr>\n",
       "      <th>1</th>\n",
       "      <td>ham</td>\n",
       "      <td>Ok lar... Joking wif u oni...</td>\n",
       "      <td>ok lar    joking wif   oni</td>\n",
       "      <td>[]</td>\n",
       "    </tr>\n",
       "    <tr>\n",
       "      <th>2</th>\n",
       "      <td>spam</td>\n",
       "      <td>Free entry in 2 a wkly comp to win FA Cup fina...</td>\n",
       "      <td>free entry in     wkly comp to win fa cup fina...</td>\n",
       "      <td>[]</td>\n",
       "    </tr>\n",
       "    <tr>\n",
       "      <th>3</th>\n",
       "      <td>ham</td>\n",
       "      <td>U dun say so early hor... U c already then say...</td>\n",
       "      <td>dun say so early hor        already then say</td>\n",
       "      <td>[]</td>\n",
       "    </tr>\n",
       "    <tr>\n",
       "      <th>4</th>\n",
       "      <td>ham</td>\n",
       "      <td>Nah I don't think he goes to usf, he lives aro...</td>\n",
       "      <td>nah   don   think he goes to usf  he lives aro...</td>\n",
       "      <td>[]</td>\n",
       "    </tr>\n",
       "    <tr>\n",
       "      <th>...</th>\n",
       "      <td>...</td>\n",
       "      <td>...</td>\n",
       "      <td>...</td>\n",
       "      <td>...</td>\n",
       "    </tr>\n",
       "    <tr>\n",
       "      <th>5567</th>\n",
       "      <td>spam</td>\n",
       "      <td>This is the 2nd time we have tried 2 contact u...</td>\n",
       "      <td>this is the  nd time we have tried   contact  ...</td>\n",
       "      <td>[]</td>\n",
       "    </tr>\n",
       "    <tr>\n",
       "      <th>5568</th>\n",
       "      <td>ham</td>\n",
       "      <td>Will �_ b going to esplanade fr home?</td>\n",
       "      <td>will      going to esplanade fr home</td>\n",
       "      <td>[]</td>\n",
       "    </tr>\n",
       "    <tr>\n",
       "      <th>5569</th>\n",
       "      <td>ham</td>\n",
       "      <td>Pity, * was in mood for that. So...any other s...</td>\n",
       "      <td>pity    was in mood for that  so   any other s...</td>\n",
       "      <td>[]</td>\n",
       "    </tr>\n",
       "    <tr>\n",
       "      <th>5570</th>\n",
       "      <td>ham</td>\n",
       "      <td>The guy did some bitching but I acted like i'd...</td>\n",
       "      <td>the guy did some bitching but   acted like    ...</td>\n",
       "      <td>[]</td>\n",
       "    </tr>\n",
       "    <tr>\n",
       "      <th>5571</th>\n",
       "      <td>ham</td>\n",
       "      <td>Rofl. Its true to its name</td>\n",
       "      <td>rofl  its true to its name</td>\n",
       "      <td>[]</td>\n",
       "    </tr>\n",
       "  </tbody>\n",
       "</table>\n",
       "<p>5169 rows × 4 columns</p>\n",
       "</div>"
      ],
      "text/plain": [
       "     Label                                          EmailText  \\\n",
       "0      ham  Go until jurong point, crazy.. Available only ...   \n",
       "1      ham                      Ok lar... Joking wif u oni...   \n",
       "2     spam  Free entry in 2 a wkly comp to win FA Cup fina...   \n",
       "3      ham  U dun say so early hor... U c already then say...   \n",
       "4      ham  Nah I don't think he goes to usf, he lives aro...   \n",
       "...    ...                                                ...   \n",
       "5567  spam  This is the 2nd time we have tried 2 contact u...   \n",
       "5568   ham              Will �_ b going to esplanade fr home?   \n",
       "5569   ham  Pity, * was in mood for that. So...any other s...   \n",
       "5570   ham  The guy did some bitching but I acted like i'd...   \n",
       "5571   ham                         Rofl. Its true to its name   \n",
       "\n",
       "                                         CleanEmailText links  \n",
       "0     go until jurong point  crazy   available only ...    []  \n",
       "1                         ok lar    joking wif   oni       []  \n",
       "2     free entry in     wkly comp to win fa cup fina...    []  \n",
       "3       dun say so early hor        already then say       []  \n",
       "4     nah   don   think he goes to usf  he lives aro...    []  \n",
       "...                                                 ...   ...  \n",
       "5567  this is the  nd time we have tried   contact  ...    []  \n",
       "5568              will      going to esplanade fr home     []  \n",
       "5569  pity    was in mood for that  so   any other s...    []  \n",
       "5570  the guy did some bitching but   acted like    ...    []  \n",
       "5571                         rofl  its true to its name    []  \n",
       "\n",
       "[5169 rows x 4 columns]"
      ]
     },
     "execution_count": 245,
     "metadata": {},
     "output_type": "execute_result"
    }
   ],
   "source": [
    "Cleaned.Updeate_column(func=lambda x: re.sub(r\"\\b[a-zA-Z]{1}\\b\",\" \",x))\n",
    "df"
   ]
  },
  {
   "cell_type": "markdown",
   "id": "ffd7901e",
   "metadata": {},
   "source": [
    "## `6` Tokonizing Data"
   ]
  },
  {
   "cell_type": "code",
   "execution_count": 246,
   "id": "de3810af",
   "metadata": {},
   "outputs": [
    {
     "data": {
      "application/vnd.microsoft.datawrangler.viewer.v0+json": {
       "columns": [
        {
         "name": "index",
         "rawType": "int64",
         "type": "integer"
        },
        {
         "name": "Label",
         "rawType": "object",
         "type": "string"
        },
        {
         "name": "EmailText",
         "rawType": "object",
         "type": "string"
        },
        {
         "name": "CleanEmailText",
         "rawType": "object",
         "type": "unknown"
        },
        {
         "name": "links",
         "rawType": "object",
         "type": "unknown"
        }
       ],
       "ref": "b6d57d4a-e97e-4fc4-b752-f3c974a26b5f",
       "rows": [
        [
         "0",
         "ham",
         "Go until jurong point, crazy.. Available only in bugis n great world la e buffet... Cine there got amore wat...",
         "['go', 'until', 'jurong', 'point', 'crazy', 'available', 'only', 'in', 'bugis', 'great', 'world', 'la', 'buffet', 'cine', 'there', 'got', 'amore', 'wat']",
         "[]"
        ],
        [
         "1",
         "ham",
         "Ok lar... Joking wif u oni...",
         "['ok', 'lar', 'joking', 'wif', 'oni']",
         "[]"
        ],
        [
         "2",
         "spam",
         "Free entry in 2 a wkly comp to win FA Cup final tkts 21st May 2005. Text FA to 87121 to receive entry question(std txt rate)T&C's apply 08452810075over18's",
         "['free', 'entry', 'in', 'wkly', 'comp', 'to', 'win', 'fa', 'cup', 'final', 'tkts', 'st', 'may', 'text', 'fa', 'to', 'to', 'receive', 'entry', 'question', 'std', 'txt', 'rate', 'apply', 'over']",
         "[]"
        ],
        [
         "3",
         "ham",
         "U dun say so early hor... U c already then say...",
         "['dun', 'say', 'so', 'early', 'hor', 'already', 'then', 'say']",
         "[]"
        ],
        [
         "4",
         "ham",
         "Nah I don't think he goes to usf, he lives around here though",
         "['nah', 'don', 'think', 'he', 'goes', 'to', 'usf', 'he', 'lives', 'around', 'here', 'though']",
         "[]"
        ],
        [
         "5",
         "spam",
         "FreeMsg Hey there darling it's been 3 week's now and no word back! I'd like some fun you up for it still? Tb ok! XxX std chgs to send, �1.50 to rcv",
         "['freemsg', 'hey', 'there', 'darling', 'it', 'been', 'week', 'now', 'and', 'no', 'word', 'back', 'like', 'some', 'fun', 'you', 'up', 'for', 'it', 'still', 'tb', 'ok', 'xxx', 'std', 'chgs', 'to', 'send', 'to', 'rcv']",
         "[]"
        ],
        [
         "6",
         "ham",
         "Even my brother is not like to speak with me. They treat me like aids patent.",
         "['even', 'my', 'brother', 'is', 'not', 'like', 'to', 'speak', 'with', 'me', 'they', 'treat', 'me', 'like', 'aids', 'patent']",
         "[]"
        ],
        [
         "7",
         "ham",
         "As per your request 'Melle Melle (Oru Minnaminunginte Nurungu Vettam)' has been set as your callertune for all Callers. Press *9 to copy your friends Callertune",
         "['as', 'per', 'your', 'request', 'melle', 'melle', 'oru', 'minnaminunginte', 'nurungu', 'vettam', 'has', 'been', 'set', 'as', 'your', 'callertune', 'for', 'all', 'callers', 'press', 'to', 'copy', 'your', 'friends', 'callertune']",
         "[]"
        ],
        [
         "8",
         "spam",
         "WINNER!! As a valued network customer you have been selected to receivea �900 prize reward! To claim call 09061701461. Claim code KL341. Valid 12 hours only.",
         "['winner', 'as', 'valued', 'network', 'customer', 'you', 'have', 'been', 'selected', 'to', 'receivea', 'prize', 'reward', 'to', 'claim', 'call', 'claim', 'code', 'kl', 'valid', 'hours', 'only']",
         "[]"
        ],
        [
         "9",
         "spam",
         "Had your mobile 11 months or more? U R entitled to Update to the latest colour mobiles with camera for Free! Call The Mobile Update Co FREE on 08002986030",
         "['had', 'your', 'mobile', 'months', 'or', 'more', 'entitled', 'to', 'update', 'to', 'the', 'latest', 'colour', 'mobiles', 'with', 'camera', 'for', 'free', 'call', 'the', 'mobile', 'update', 'co', 'free', 'on']",
         "[]"
        ],
        [
         "10",
         "ham",
         "I'm gonna be home soon and i don't want to talk about this stuff anymore tonight, k? I've cried enough today.",
         "['gon', 'na', 'be', 'home', 'soon', 'and', 'don', 'want', 'to', 'talk', 'about', 'this', 'stuff', 'anymore', 'tonight', 've', 'cried', 'enough', 'today']",
         "[]"
        ],
        [
         "11",
         "spam",
         "SIX chances to win CASH! From 100 to 20,000 pounds txt> CSH11 and send to 87575. Cost 150p/day, 6days, 16+ TsandCs apply Reply HL 4 info",
         "['six', 'chances', 'to', 'win', 'cash', 'from', 'to', 'pounds', 'txt', 'csh', 'and', 'send', 'to', 'cost', 'day', 'days', 'tsandcs', 'apply', 'reply', 'hl', 'info']",
         "[]"
        ],
        [
         "12",
         "spam",
         "URGENT! You have won a 1 week FREE membership in our �100,000 Prize Jackpot! Txt the word: CLAIM to No: 81010 T&C www.dbuk.net LCCLTD POBOX 4403LDNW1A7RW18",
         "['urgent', 'you', 'have', 'won', 'week', 'free', 'membership', 'in', 'our', 'prize', 'jackpot', 'txt', 'the', 'word', 'claim', 'to', 'no', 'www', 'dbuk', 'net', 'lccltd', 'pobox', 'ldnw', 'rw']",
         "[]"
        ],
        [
         "13",
         "ham",
         "I've been searching for the right words to thank you for this breather. I promise i wont take your help for granted and will fulfil my promise. You have been wonderful and a blessing at all times.",
         "['ve', 'been', 'searching', 'for', 'the', 'right', 'words', 'to', 'thank', 'you', 'for', 'this', 'breather', 'promise', 'wont', 'take', 'your', 'help', 'for', 'granted', 'and', 'will', 'fulfil', 'my', 'promise', 'you', 'have', 'been', 'wonderful', 'and', 'blessing', 'at', 'all', 'times']",
         "[]"
        ],
        [
         "14",
         "ham",
         "I HAVE A DATE ON SUNDAY WITH WILL!!",
         "['have', 'date', 'on', 'sunday', 'with', 'will']",
         "[]"
        ],
        [
         "15",
         "spam",
         "XXXMobileMovieClub: To use your credit, click the WAP link in the next txt message or click here>> http://wap. xxxmobilemovieclub.com?n=QJKGIGHJJGCBL",
         "['xxxmobilemovieclub', 'to', 'use', 'your', 'credit', 'click', 'the', 'wap', 'link', 'in', 'the', 'next', 'txt', 'message', 'or', 'click', 'here', 'xxxmobilemovieclub', 'com', 'qjkgighjjgcbl']",
         "['http://wap.']"
        ],
        [
         "16",
         "ham",
         "Oh k...i'm watching here:)",
         "['oh', 'watching', 'here']",
         "[]"
        ],
        [
         "17",
         "ham",
         "Eh u remember how 2 spell his name... Yes i did. He v naughty make until i v wet.",
         "['eh', 'remember', 'how', 'spell', 'his', 'name', 'yes', 'did', 'he', 'naughty', 'make', 'until', 'wet']",
         "[]"
        ],
        [
         "18",
         "ham",
         "Fine if that��s the way u feel. That��s the way its gota b",
         "['fine', 'if', 'that', 'the', 'way', 'feel', 'that', 'the', 'way', 'its', 'gota']",
         "[]"
        ],
        [
         "19",
         "spam",
         "England v Macedonia - dont miss the goals/team news. Txt ur national team to 87077 eg ENGLAND to 87077 Try:WALES, SCOTLAND 4txt/̼1.20 POBOXox36504W45WQ 16+",
         "['england', 'macedonia', 'dont', 'miss', 'the', 'goals', 'team', 'news', 'txt', 'ur', 'national', 'team', 'to', 'eg', 'england', 'to', 'try', 'wales', 'scotland', 'txt', 'poboxox', 'wq']",
         "[]"
        ],
        [
         "20",
         "ham",
         "Is that seriously how you spell his name?",
         "['is', 'that', 'seriously', 'how', 'you', 'spell', 'his', 'name']",
         "[]"
        ],
        [
         "21",
         "ham",
         "I���m going to try for 2 months ha ha only joking",
         "['going', 'to', 'try', 'for', 'months', 'ha', 'ha', 'only', 'joking']",
         "[]"
        ],
        [
         "22",
         "ham",
         "So �_ pay first lar... Then when is da stock comin...",
         "['so', 'pay', 'first', 'lar', 'then', 'when', 'is', 'da', 'stock', 'comin']",
         "[]"
        ],
        [
         "23",
         "ham",
         "Aft i finish my lunch then i go str down lor. Ard 3 smth lor. U finish ur lunch already?",
         "['aft', 'finish', 'my', 'lunch', 'then', 'go', 'str', 'down', 'lor', 'ard', 'smth', 'lor', 'finish', 'ur', 'lunch', 'already']",
         "[]"
        ],
        [
         "24",
         "ham",
         "Ffffffffff. Alright no way I can meet up with you sooner?",
         "['ffffffffff', 'alright', 'no', 'way', 'can', 'meet', 'up', 'with', 'you', 'sooner']",
         "[]"
        ],
        [
         "25",
         "ham",
         "Just forced myself to eat a slice. I'm really not hungry tho. This sucks. Mark is getting worried. He knows I'm sick when I turn down pizza. Lol",
         "['just', 'forced', 'myself', 'to', 'eat', 'slice', 'really', 'not', 'hungry', 'tho', 'this', 'sucks', 'mark', 'is', 'getting', 'worried', 'he', 'knows', 'sick', 'when', 'turn', 'down', 'pizza', 'lol']",
         "[]"
        ],
        [
         "26",
         "ham",
         "Lol your always so convincing.",
         "['lol', 'your', 'always', 'so', 'convincing']",
         "[]"
        ],
        [
         "27",
         "ham",
         "Did you catch the bus ? Are you frying an egg ? Did you make a tea? Are you eating your mom's left over dinner ? Do you feel my Love ?",
         "['did', 'you', 'catch', 'the', 'bus', 'are', 'you', 'frying', 'an', 'egg', 'did', 'you', 'make', 'tea', 'are', 'you', 'eating', 'your', 'mom', 'left', 'over', 'dinner', 'do', 'you', 'feel', 'my', 'love']",
         "[]"
        ],
        [
         "28",
         "ham",
         "I'm back &amp; we're packing the car now, I'll let you know if there's room",
         "['back', 'amp', 'we', 're', 'packing', 'the', 'car', 'now', 'll', 'let', 'you', 'know', 'if', 'there', 'room']",
         "[]"
        ],
        [
         "29",
         "ham",
         "Ahhh. Work. I vaguely remember that! What does it feel like? Lol",
         "['ahhh', 'work', 'vaguely', 'remember', 'that', 'what', 'does', 'it', 'feel', 'like', 'lol']",
         "[]"
        ],
        [
         "30",
         "ham",
         "Wait that's still not all that clear, were you not sure about me being sarcastic or that that's why x doesn't want to live with us",
         "['wait', 'that', 'still', 'not', 'all', 'that', 'clear', 'were', 'you', 'not', 'sure', 'about', 'me', 'being', 'sarcastic', 'or', 'that', 'that', 'why', 'doesn', 'want', 'to', 'live', 'with', 'us']",
         "[]"
        ],
        [
         "31",
         "ham",
         "Yeah he got in at 2 and was v apologetic. n had fallen out and she was actin like spoilt child and he got caught up in that. Till 2! But we won't go there! Not doing too badly cheers. You? ",
         "['yeah', 'he', 'got', 'in', 'at', 'and', 'was', 'apologetic', 'had', 'fallen', 'out', 'and', 'she', 'was', 'actin', 'like', 'spoilt', 'child', 'and', 'he', 'got', 'caught', 'up', 'in', 'that', 'till', 'but', 'we', 'won', 'go', 'there', 'not', 'doing', 'too', 'badly', 'cheers', 'you']",
         "[]"
        ],
        [
         "32",
         "ham",
         "K tell me anything about you.",
         "['tell', 'me', 'anything', 'about', 'you']",
         "[]"
        ],
        [
         "33",
         "ham",
         "For fear of fainting with the of all that housework you just did? Quick have a cuppa",
         "['for', 'fear', 'of', 'fainting', 'with', 'the', 'of', 'all', 'that', 'housework', 'you', 'just', 'did', 'quick', 'have', 'cuppa']",
         "[]"
        ],
        [
         "34",
         "spam",
         "Thanks for your subscription to Ringtone UK your mobile will be charged �5/month Please confirm by replying YES or NO. If you reply NO you will not be charged",
         "['thanks', 'for', 'your', 'subscription', 'to', 'ringtone', 'uk', 'your', 'mobile', 'will', 'be', 'charged', 'month', 'please', 'confirm', 'by', 'replying', 'yes', 'or', 'no', 'if', 'you', 'reply', 'no', 'you', 'will', 'not', 'be', 'charged']",
         "[]"
        ],
        [
         "35",
         "ham",
         "Yup... Ok i go home look at the timings then i msg �_ again... Xuhui going to learn on 2nd may too but her lesson is at 8am",
         "['yup', 'ok', 'go', 'home', 'look', 'at', 'the', 'timings', 'then', 'msg', 'again', 'xuhui', 'going', 'to', 'learn', 'on', 'nd', 'may', 'too', 'but', 'her', 'lesson', 'is', 'at', 'am']",
         "[]"
        ],
        [
         "36",
         "ham",
         "Oops, I'll let you know when my roommate's done",
         "['oops', 'll', 'let', 'you', 'know', 'when', 'my', 'roommate', 'done']",
         "[]"
        ],
        [
         "37",
         "ham",
         "I see the letter B on my car",
         "['see', 'the', 'letter', 'on', 'my', 'car']",
         "[]"
        ],
        [
         "38",
         "ham",
         "Anything lor... U decide...",
         "['anything', 'lor', 'decide']",
         "[]"
        ],
        [
         "39",
         "ham",
         "Hello! How's you and how did saturday go? I was just texting to see if you'd decided to do anything tomo. Not that i'm trying to invite myself or anything!",
         "['hello', 'how', 'you', 'and', 'how', 'did', 'saturday', 'go', 'was', 'just', 'texting', 'to', 'see', 'if', 'you', 'decided', 'to', 'do', 'anything', 'tomo', 'not', 'that', 'trying', 'to', 'invite', 'myself', 'or', 'anything']",
         "[]"
        ],
        [
         "40",
         "ham",
         "Pls go ahead with watts. I just wanted to be sure. Do have a great weekend. Abiola",
         "['pls', 'go', 'ahead', 'with', 'watts', 'just', 'wanted', 'to', 'be', 'sure', 'do', 'have', 'great', 'weekend', 'abiola']",
         "[]"
        ],
        [
         "41",
         "ham",
         "Did I forget to tell you ? I want you , I need you, I crave you ... But most of all ... I love you my sweet Arabian steed ... Mmmmmm ... Yummy",
         "['did', 'forget', 'to', 'tell', 'you', 'want', 'you', 'need', 'you', 'crave', 'you', 'but', 'most', 'of', 'all', 'love', 'you', 'my', 'sweet', 'arabian', 'steed', 'mmmmmm', 'yummy']",
         "[]"
        ],
        [
         "42",
         "spam",
         "07732584351 - Rodger Burns - MSG = We tried to call you re your reply to our sms for a free nokia mobile + free camcorder. Please call now 08000930705 for delivery tomorrow",
         "['rodger', 'burns', 'msg', 'we', 'tried', 'to', 'call', 'you', 're', 'your', 'reply', 'to', 'our', 'sms', 'for', 'free', 'nokia', 'mobile', 'free', 'camcorder', 'please', 'call', 'now', 'for', 'delivery', 'tomorrow']",
         "[]"
        ],
        [
         "43",
         "ham",
         "WHO ARE YOU SEEING?",
         "['who', 'are', 'you', 'seeing']",
         "[]"
        ],
        [
         "44",
         "ham",
         "Great! I hope you like your man well endowed. I am  &lt;#&gt;  inches...",
         "['great', 'hope', 'you', 'like', 'your', 'man', 'well', 'endowed', 'am', 'lt', 'gt', 'inches']",
         "[]"
        ],
        [
         "45",
         "ham",
         "No calls..messages..missed calls",
         "['no', 'calls', 'messages', 'missed', 'calls']",
         "[]"
        ],
        [
         "46",
         "ham",
         "Didn't you get hep b immunisation in nigeria.",
         "['didn', 'you', 'get', 'hep', 'immunisation', 'in', 'nigeria']",
         "[]"
        ],
        [
         "47",
         "ham",
         "Fair enough, anything going on?",
         "['fair', 'enough', 'anything', 'going', 'on']",
         "[]"
        ],
        [
         "48",
         "ham",
         "Yeah hopefully, if tyler can't do it I could maybe ask around a bit",
         "['yeah', 'hopefully', 'if', 'tyler', 'can', 'do', 'it', 'could', 'maybe', 'ask', 'around', 'bit']",
         "[]"
        ],
        [
         "49",
         "ham",
         "U don't know how stubborn I am. I didn't even want to go to the hospital. I kept telling Mark I'm not a weak sucker. Hospitals are for weak suckers.",
         "['don', 'know', 'how', 'stubborn', 'am', 'didn', 'even', 'want', 'to', 'go', 'to', 'the', 'hospital', 'kept', 'telling', 'mark', 'not', 'weak', 'sucker', 'hospitals', 'are', 'for', 'weak', 'suckers']",
         "[]"
        ]
       ],
       "shape": {
        "columns": 4,
        "rows": 5169
       }
      },
      "text/html": [
       "<div>\n",
       "<style scoped>\n",
       "    .dataframe tbody tr th:only-of-type {\n",
       "        vertical-align: middle;\n",
       "    }\n",
       "\n",
       "    .dataframe tbody tr th {\n",
       "        vertical-align: top;\n",
       "    }\n",
       "\n",
       "    .dataframe thead th {\n",
       "        text-align: right;\n",
       "    }\n",
       "</style>\n",
       "<table border=\"1\" class=\"dataframe\">\n",
       "  <thead>\n",
       "    <tr style=\"text-align: right;\">\n",
       "      <th></th>\n",
       "      <th>Label</th>\n",
       "      <th>EmailText</th>\n",
       "      <th>CleanEmailText</th>\n",
       "      <th>links</th>\n",
       "    </tr>\n",
       "  </thead>\n",
       "  <tbody>\n",
       "    <tr>\n",
       "      <th>0</th>\n",
       "      <td>ham</td>\n",
       "      <td>Go until jurong point, crazy.. Available only ...</td>\n",
       "      <td>[go, until, jurong, point, crazy, available, o...</td>\n",
       "      <td>[]</td>\n",
       "    </tr>\n",
       "    <tr>\n",
       "      <th>1</th>\n",
       "      <td>ham</td>\n",
       "      <td>Ok lar... Joking wif u oni...</td>\n",
       "      <td>[ok, lar, joking, wif, oni]</td>\n",
       "      <td>[]</td>\n",
       "    </tr>\n",
       "    <tr>\n",
       "      <th>2</th>\n",
       "      <td>spam</td>\n",
       "      <td>Free entry in 2 a wkly comp to win FA Cup fina...</td>\n",
       "      <td>[free, entry, in, wkly, comp, to, win, fa, cup...</td>\n",
       "      <td>[]</td>\n",
       "    </tr>\n",
       "    <tr>\n",
       "      <th>3</th>\n",
       "      <td>ham</td>\n",
       "      <td>U dun say so early hor... U c already then say...</td>\n",
       "      <td>[dun, say, so, early, hor, already, then, say]</td>\n",
       "      <td>[]</td>\n",
       "    </tr>\n",
       "    <tr>\n",
       "      <th>4</th>\n",
       "      <td>ham</td>\n",
       "      <td>Nah I don't think he goes to usf, he lives aro...</td>\n",
       "      <td>[nah, don, think, he, goes, to, usf, he, lives...</td>\n",
       "      <td>[]</td>\n",
       "    </tr>\n",
       "    <tr>\n",
       "      <th>...</th>\n",
       "      <td>...</td>\n",
       "      <td>...</td>\n",
       "      <td>...</td>\n",
       "      <td>...</td>\n",
       "    </tr>\n",
       "    <tr>\n",
       "      <th>5567</th>\n",
       "      <td>spam</td>\n",
       "      <td>This is the 2nd time we have tried 2 contact u...</td>\n",
       "      <td>[this, is, the, nd, time, we, have, tried, con...</td>\n",
       "      <td>[]</td>\n",
       "    </tr>\n",
       "    <tr>\n",
       "      <th>5568</th>\n",
       "      <td>ham</td>\n",
       "      <td>Will �_ b going to esplanade fr home?</td>\n",
       "      <td>[will, going, to, esplanade, fr, home]</td>\n",
       "      <td>[]</td>\n",
       "    </tr>\n",
       "    <tr>\n",
       "      <th>5569</th>\n",
       "      <td>ham</td>\n",
       "      <td>Pity, * was in mood for that. So...any other s...</td>\n",
       "      <td>[pity, was, in, mood, for, that, so, any, othe...</td>\n",
       "      <td>[]</td>\n",
       "    </tr>\n",
       "    <tr>\n",
       "      <th>5570</th>\n",
       "      <td>ham</td>\n",
       "      <td>The guy did some bitching but I acted like i'd...</td>\n",
       "      <td>[the, guy, did, some, bitching, but, acted, li...</td>\n",
       "      <td>[]</td>\n",
       "    </tr>\n",
       "    <tr>\n",
       "      <th>5571</th>\n",
       "      <td>ham</td>\n",
       "      <td>Rofl. Its true to its name</td>\n",
       "      <td>[rofl, its, true, to, its, name]</td>\n",
       "      <td>[]</td>\n",
       "    </tr>\n",
       "  </tbody>\n",
       "</table>\n",
       "<p>5169 rows × 4 columns</p>\n",
       "</div>"
      ],
      "text/plain": [
       "     Label                                          EmailText  \\\n",
       "0      ham  Go until jurong point, crazy.. Available only ...   \n",
       "1      ham                      Ok lar... Joking wif u oni...   \n",
       "2     spam  Free entry in 2 a wkly comp to win FA Cup fina...   \n",
       "3      ham  U dun say so early hor... U c already then say...   \n",
       "4      ham  Nah I don't think he goes to usf, he lives aro...   \n",
       "...    ...                                                ...   \n",
       "5567  spam  This is the 2nd time we have tried 2 contact u...   \n",
       "5568   ham              Will �_ b going to esplanade fr home?   \n",
       "5569   ham  Pity, * was in mood for that. So...any other s...   \n",
       "5570   ham  The guy did some bitching but I acted like i'd...   \n",
       "5571   ham                         Rofl. Its true to its name   \n",
       "\n",
       "                                         CleanEmailText links  \n",
       "0     [go, until, jurong, point, crazy, available, o...    []  \n",
       "1                           [ok, lar, joking, wif, oni]    []  \n",
       "2     [free, entry, in, wkly, comp, to, win, fa, cup...    []  \n",
       "3        [dun, say, so, early, hor, already, then, say]    []  \n",
       "4     [nah, don, think, he, goes, to, usf, he, lives...    []  \n",
       "...                                                 ...   ...  \n",
       "5567  [this, is, the, nd, time, we, have, tried, con...    []  \n",
       "5568             [will, going, to, esplanade, fr, home]    []  \n",
       "5569  [pity, was, in, mood, for, that, so, any, othe...    []  \n",
       "5570  [the, guy, did, some, bitching, but, acted, li...    []  \n",
       "5571                   [rofl, its, true, to, its, name]    []  \n",
       "\n",
       "[5169 rows x 4 columns]"
      ]
     },
     "execution_count": 246,
     "metadata": {},
     "output_type": "execute_result"
    }
   ],
   "source": [
    "Cleaned.Updeate_column(lambda x: word_tokenize(x))\n",
    "df"
   ]
  },
  {
   "cell_type": "markdown",
   "id": "d7f5ca9a",
   "metadata": {},
   "source": [
    "## `7` removing StopWords in **`en`**"
   ]
  },
  {
   "cell_type": "code",
   "execution_count": 247,
   "id": "4a91e70f",
   "metadata": {},
   "outputs": [
    {
     "name": "stdout",
     "output_type": "stream",
     "text": [
      "Number of Stop Words in English = 198\n"
     ]
    }
   ],
   "source": [
    "# nltk.download(\"stopwords\")\n",
    "Stopwords__ = stopwords.words(\"english\")\n",
    "print(f\"Number of Stop Words in English = {len(Stopwords__)}\")"
   ]
  },
  {
   "cell_type": "code",
   "execution_count": 248,
   "id": "5c1c8d63",
   "metadata": {},
   "outputs": [],
   "source": [
    "def Remove_Stopwords(text):\n",
    "    return [word for word in text if word not in Stopwords__]"
   ]
  },
  {
   "cell_type": "code",
   "execution_count": 249,
   "id": "1793c3a7",
   "metadata": {},
   "outputs": [
    {
     "data": {
      "application/vnd.microsoft.datawrangler.viewer.v0+json": {
       "columns": [
        {
         "name": "index",
         "rawType": "int64",
         "type": "integer"
        },
        {
         "name": "Label",
         "rawType": "object",
         "type": "string"
        },
        {
         "name": "EmailText",
         "rawType": "object",
         "type": "string"
        },
        {
         "name": "CleanEmailText",
         "rawType": "object",
         "type": "unknown"
        },
        {
         "name": "links",
         "rawType": "object",
         "type": "unknown"
        }
       ],
       "ref": "fa0445bd-d3ce-4891-8d54-67297251fcb6",
       "rows": [
        [
         "0",
         "ham",
         "Go until jurong point, crazy.. Available only in bugis n great world la e buffet... Cine there got amore wat...",
         "['go', 'jurong', 'point', 'crazy', 'available', 'bugis', 'great', 'world', 'la', 'buffet', 'cine', 'got', 'amore', 'wat']",
         "[]"
        ],
        [
         "1",
         "ham",
         "Ok lar... Joking wif u oni...",
         "['ok', 'lar', 'joking', 'wif', 'oni']",
         "[]"
        ],
        [
         "2",
         "spam",
         "Free entry in 2 a wkly comp to win FA Cup final tkts 21st May 2005. Text FA to 87121 to receive entry question(std txt rate)T&C's apply 08452810075over18's",
         "['free', 'entry', 'wkly', 'comp', 'win', 'fa', 'cup', 'final', 'tkts', 'st', 'may', 'text', 'fa', 'receive', 'entry', 'question', 'std', 'txt', 'rate', 'apply']",
         "[]"
        ],
        [
         "3",
         "ham",
         "U dun say so early hor... U c already then say...",
         "['dun', 'say', 'early', 'hor', 'already', 'say']",
         "[]"
        ],
        [
         "4",
         "ham",
         "Nah I don't think he goes to usf, he lives around here though",
         "['nah', 'think', 'goes', 'usf', 'lives', 'around', 'though']",
         "[]"
        ],
        [
         "5",
         "spam",
         "FreeMsg Hey there darling it's been 3 week's now and no word back! I'd like some fun you up for it still? Tb ok! XxX std chgs to send, �1.50 to rcv",
         "['freemsg', 'hey', 'darling', 'week', 'word', 'back', 'like', 'fun', 'still', 'tb', 'ok', 'xxx', 'std', 'chgs', 'send', 'rcv']",
         "[]"
        ],
        [
         "6",
         "ham",
         "Even my brother is not like to speak with me. They treat me like aids patent.",
         "['even', 'brother', 'like', 'speak', 'treat', 'like', 'aids', 'patent']",
         "[]"
        ],
        [
         "7",
         "ham",
         "As per your request 'Melle Melle (Oru Minnaminunginte Nurungu Vettam)' has been set as your callertune for all Callers. Press *9 to copy your friends Callertune",
         "['per', 'request', 'melle', 'melle', 'oru', 'minnaminunginte', 'nurungu', 'vettam', 'set', 'callertune', 'callers', 'press', 'copy', 'friends', 'callertune']",
         "[]"
        ],
        [
         "8",
         "spam",
         "WINNER!! As a valued network customer you have been selected to receivea �900 prize reward! To claim call 09061701461. Claim code KL341. Valid 12 hours only.",
         "['winner', 'valued', 'network', 'customer', 'selected', 'receivea', 'prize', 'reward', 'claim', 'call', 'claim', 'code', 'kl', 'valid', 'hours']",
         "[]"
        ],
        [
         "9",
         "spam",
         "Had your mobile 11 months or more? U R entitled to Update to the latest colour mobiles with camera for Free! Call The Mobile Update Co FREE on 08002986030",
         "['mobile', 'months', 'entitled', 'update', 'latest', 'colour', 'mobiles', 'camera', 'free', 'call', 'mobile', 'update', 'co', 'free']",
         "[]"
        ],
        [
         "10",
         "ham",
         "I'm gonna be home soon and i don't want to talk about this stuff anymore tonight, k? I've cried enough today.",
         "['gon', 'na', 'home', 'soon', 'want', 'talk', 'stuff', 'anymore', 'tonight', 'cried', 'enough', 'today']",
         "[]"
        ],
        [
         "11",
         "spam",
         "SIX chances to win CASH! From 100 to 20,000 pounds txt> CSH11 and send to 87575. Cost 150p/day, 6days, 16+ TsandCs apply Reply HL 4 info",
         "['six', 'chances', 'win', 'cash', 'pounds', 'txt', 'csh', 'send', 'cost', 'day', 'days', 'tsandcs', 'apply', 'reply', 'hl', 'info']",
         "[]"
        ],
        [
         "12",
         "spam",
         "URGENT! You have won a 1 week FREE membership in our �100,000 Prize Jackpot! Txt the word: CLAIM to No: 81010 T&C www.dbuk.net LCCLTD POBOX 4403LDNW1A7RW18",
         "['urgent', 'week', 'free', 'membership', 'prize', 'jackpot', 'txt', 'word', 'claim', 'www', 'dbuk', 'net', 'lccltd', 'pobox', 'ldnw', 'rw']",
         "[]"
        ],
        [
         "13",
         "ham",
         "I've been searching for the right words to thank you for this breather. I promise i wont take your help for granted and will fulfil my promise. You have been wonderful and a blessing at all times.",
         "['searching', 'right', 'words', 'thank', 'breather', 'promise', 'wont', 'take', 'help', 'granted', 'fulfil', 'promise', 'wonderful', 'blessing', 'times']",
         "[]"
        ],
        [
         "14",
         "ham",
         "I HAVE A DATE ON SUNDAY WITH WILL!!",
         "['date', 'sunday']",
         "[]"
        ],
        [
         "15",
         "spam",
         "XXXMobileMovieClub: To use your credit, click the WAP link in the next txt message or click here>> http://wap. xxxmobilemovieclub.com?n=QJKGIGHJJGCBL",
         "['xxxmobilemovieclub', 'use', 'credit', 'click', 'wap', 'link', 'next', 'txt', 'message', 'click', 'xxxmobilemovieclub', 'com', 'qjkgighjjgcbl']",
         "['http://wap.']"
        ],
        [
         "16",
         "ham",
         "Oh k...i'm watching here:)",
         "['oh', 'watching']",
         "[]"
        ],
        [
         "17",
         "ham",
         "Eh u remember how 2 spell his name... Yes i did. He v naughty make until i v wet.",
         "['eh', 'remember', 'spell', 'name', 'yes', 'naughty', 'make', 'wet']",
         "[]"
        ],
        [
         "18",
         "ham",
         "Fine if that��s the way u feel. That��s the way its gota b",
         "['fine', 'way', 'feel', 'way', 'gota']",
         "[]"
        ],
        [
         "19",
         "spam",
         "England v Macedonia - dont miss the goals/team news. Txt ur national team to 87077 eg ENGLAND to 87077 Try:WALES, SCOTLAND 4txt/̼1.20 POBOXox36504W45WQ 16+",
         "['england', 'macedonia', 'dont', 'miss', 'goals', 'team', 'news', 'txt', 'ur', 'national', 'team', 'eg', 'england', 'try', 'wales', 'scotland', 'txt', 'poboxox', 'wq']",
         "[]"
        ],
        [
         "20",
         "ham",
         "Is that seriously how you spell his name?",
         "['seriously', 'spell', 'name']",
         "[]"
        ],
        [
         "21",
         "ham",
         "I���m going to try for 2 months ha ha only joking",
         "['going', 'try', 'months', 'ha', 'ha', 'joking']",
         "[]"
        ],
        [
         "22",
         "ham",
         "So �_ pay first lar... Then when is da stock comin...",
         "['pay', 'first', 'lar', 'da', 'stock', 'comin']",
         "[]"
        ],
        [
         "23",
         "ham",
         "Aft i finish my lunch then i go str down lor. Ard 3 smth lor. U finish ur lunch already?",
         "['aft', 'finish', 'lunch', 'go', 'str', 'lor', 'ard', 'smth', 'lor', 'finish', 'ur', 'lunch', 'already']",
         "[]"
        ],
        [
         "24",
         "ham",
         "Ffffffffff. Alright no way I can meet up with you sooner?",
         "['ffffffffff', 'alright', 'way', 'meet', 'sooner']",
         "[]"
        ],
        [
         "25",
         "ham",
         "Just forced myself to eat a slice. I'm really not hungry tho. This sucks. Mark is getting worried. He knows I'm sick when I turn down pizza. Lol",
         "['forced', 'eat', 'slice', 'really', 'hungry', 'tho', 'sucks', 'mark', 'getting', 'worried', 'knows', 'sick', 'turn', 'pizza', 'lol']",
         "[]"
        ],
        [
         "26",
         "ham",
         "Lol your always so convincing.",
         "['lol', 'always', 'convincing']",
         "[]"
        ],
        [
         "27",
         "ham",
         "Did you catch the bus ? Are you frying an egg ? Did you make a tea? Are you eating your mom's left over dinner ? Do you feel my Love ?",
         "['catch', 'bus', 'frying', 'egg', 'make', 'tea', 'eating', 'mom', 'left', 'dinner', 'feel', 'love']",
         "[]"
        ],
        [
         "28",
         "ham",
         "I'm back &amp; we're packing the car now, I'll let you know if there's room",
         "['back', 'amp', 'packing', 'car', 'let', 'know', 'room']",
         "[]"
        ],
        [
         "29",
         "ham",
         "Ahhh. Work. I vaguely remember that! What does it feel like? Lol",
         "['ahhh', 'work', 'vaguely', 'remember', 'feel', 'like', 'lol']",
         "[]"
        ],
        [
         "30",
         "ham",
         "Wait that's still not all that clear, were you not sure about me being sarcastic or that that's why x doesn't want to live with us",
         "['wait', 'still', 'clear', 'sure', 'sarcastic', 'want', 'live', 'us']",
         "[]"
        ],
        [
         "31",
         "ham",
         "Yeah he got in at 2 and was v apologetic. n had fallen out and she was actin like spoilt child and he got caught up in that. Till 2! But we won't go there! Not doing too badly cheers. You? ",
         "['yeah', 'got', 'apologetic', 'fallen', 'actin', 'like', 'spoilt', 'child', 'got', 'caught', 'till', 'go', 'badly', 'cheers']",
         "[]"
        ],
        [
         "32",
         "ham",
         "K tell me anything about you.",
         "['tell', 'anything']",
         "[]"
        ],
        [
         "33",
         "ham",
         "For fear of fainting with the of all that housework you just did? Quick have a cuppa",
         "['fear', 'fainting', 'housework', 'quick', 'cuppa']",
         "[]"
        ],
        [
         "34",
         "spam",
         "Thanks for your subscription to Ringtone UK your mobile will be charged �5/month Please confirm by replying YES or NO. If you reply NO you will not be charged",
         "['thanks', 'subscription', 'ringtone', 'uk', 'mobile', 'charged', 'month', 'please', 'confirm', 'replying', 'yes', 'reply', 'charged']",
         "[]"
        ],
        [
         "35",
         "ham",
         "Yup... Ok i go home look at the timings then i msg �_ again... Xuhui going to learn on 2nd may too but her lesson is at 8am",
         "['yup', 'ok', 'go', 'home', 'look', 'timings', 'msg', 'xuhui', 'going', 'learn', 'nd', 'may', 'lesson']",
         "[]"
        ],
        [
         "36",
         "ham",
         "Oops, I'll let you know when my roommate's done",
         "['oops', 'let', 'know', 'roommate', 'done']",
         "[]"
        ],
        [
         "37",
         "ham",
         "I see the letter B on my car",
         "['see', 'letter', 'car']",
         "[]"
        ],
        [
         "38",
         "ham",
         "Anything lor... U decide...",
         "['anything', 'lor', 'decide']",
         "[]"
        ],
        [
         "39",
         "ham",
         "Hello! How's you and how did saturday go? I was just texting to see if you'd decided to do anything tomo. Not that i'm trying to invite myself or anything!",
         "['hello', 'saturday', 'go', 'texting', 'see', 'decided', 'anything', 'tomo', 'trying', 'invite', 'anything']",
         "[]"
        ],
        [
         "40",
         "ham",
         "Pls go ahead with watts. I just wanted to be sure. Do have a great weekend. Abiola",
         "['pls', 'go', 'ahead', 'watts', 'wanted', 'sure', 'great', 'weekend', 'abiola']",
         "[]"
        ],
        [
         "41",
         "ham",
         "Did I forget to tell you ? I want you , I need you, I crave you ... But most of all ... I love you my sweet Arabian steed ... Mmmmmm ... Yummy",
         "['forget', 'tell', 'want', 'need', 'crave', 'love', 'sweet', 'arabian', 'steed', 'mmmmmm', 'yummy']",
         "[]"
        ],
        [
         "42",
         "spam",
         "07732584351 - Rodger Burns - MSG = We tried to call you re your reply to our sms for a free nokia mobile + free camcorder. Please call now 08000930705 for delivery tomorrow",
         "['rodger', 'burns', 'msg', 'tried', 'call', 'reply', 'sms', 'free', 'nokia', 'mobile', 'free', 'camcorder', 'please', 'call', 'delivery', 'tomorrow']",
         "[]"
        ],
        [
         "43",
         "ham",
         "WHO ARE YOU SEEING?",
         "['seeing']",
         "[]"
        ],
        [
         "44",
         "ham",
         "Great! I hope you like your man well endowed. I am  &lt;#&gt;  inches...",
         "['great', 'hope', 'like', 'man', 'well', 'endowed', 'lt', 'gt', 'inches']",
         "[]"
        ],
        [
         "45",
         "ham",
         "No calls..messages..missed calls",
         "['calls', 'messages', 'missed', 'calls']",
         "[]"
        ],
        [
         "46",
         "ham",
         "Didn't you get hep b immunisation in nigeria.",
         "['get', 'hep', 'immunisation', 'nigeria']",
         "[]"
        ],
        [
         "47",
         "ham",
         "Fair enough, anything going on?",
         "['fair', 'enough', 'anything', 'going']",
         "[]"
        ],
        [
         "48",
         "ham",
         "Yeah hopefully, if tyler can't do it I could maybe ask around a bit",
         "['yeah', 'hopefully', 'tyler', 'could', 'maybe', 'ask', 'around', 'bit']",
         "[]"
        ],
        [
         "49",
         "ham",
         "U don't know how stubborn I am. I didn't even want to go to the hospital. I kept telling Mark I'm not a weak sucker. Hospitals are for weak suckers.",
         "['know', 'stubborn', 'even', 'want', 'go', 'hospital', 'kept', 'telling', 'mark', 'weak', 'sucker', 'hospitals', 'weak', 'suckers']",
         "[]"
        ]
       ],
       "shape": {
        "columns": 4,
        "rows": 5169
       }
      },
      "text/html": [
       "<div>\n",
       "<style scoped>\n",
       "    .dataframe tbody tr th:only-of-type {\n",
       "        vertical-align: middle;\n",
       "    }\n",
       "\n",
       "    .dataframe tbody tr th {\n",
       "        vertical-align: top;\n",
       "    }\n",
       "\n",
       "    .dataframe thead th {\n",
       "        text-align: right;\n",
       "    }\n",
       "</style>\n",
       "<table border=\"1\" class=\"dataframe\">\n",
       "  <thead>\n",
       "    <tr style=\"text-align: right;\">\n",
       "      <th></th>\n",
       "      <th>Label</th>\n",
       "      <th>EmailText</th>\n",
       "      <th>CleanEmailText</th>\n",
       "      <th>links</th>\n",
       "    </tr>\n",
       "  </thead>\n",
       "  <tbody>\n",
       "    <tr>\n",
       "      <th>0</th>\n",
       "      <td>ham</td>\n",
       "      <td>Go until jurong point, crazy.. Available only ...</td>\n",
       "      <td>[go, jurong, point, crazy, available, bugis, g...</td>\n",
       "      <td>[]</td>\n",
       "    </tr>\n",
       "    <tr>\n",
       "      <th>1</th>\n",
       "      <td>ham</td>\n",
       "      <td>Ok lar... Joking wif u oni...</td>\n",
       "      <td>[ok, lar, joking, wif, oni]</td>\n",
       "      <td>[]</td>\n",
       "    </tr>\n",
       "    <tr>\n",
       "      <th>2</th>\n",
       "      <td>spam</td>\n",
       "      <td>Free entry in 2 a wkly comp to win FA Cup fina...</td>\n",
       "      <td>[free, entry, wkly, comp, win, fa, cup, final,...</td>\n",
       "      <td>[]</td>\n",
       "    </tr>\n",
       "    <tr>\n",
       "      <th>3</th>\n",
       "      <td>ham</td>\n",
       "      <td>U dun say so early hor... U c already then say...</td>\n",
       "      <td>[dun, say, early, hor, already, say]</td>\n",
       "      <td>[]</td>\n",
       "    </tr>\n",
       "    <tr>\n",
       "      <th>4</th>\n",
       "      <td>ham</td>\n",
       "      <td>Nah I don't think he goes to usf, he lives aro...</td>\n",
       "      <td>[nah, think, goes, usf, lives, around, though]</td>\n",
       "      <td>[]</td>\n",
       "    </tr>\n",
       "    <tr>\n",
       "      <th>...</th>\n",
       "      <td>...</td>\n",
       "      <td>...</td>\n",
       "      <td>...</td>\n",
       "      <td>...</td>\n",
       "    </tr>\n",
       "    <tr>\n",
       "      <th>5567</th>\n",
       "      <td>spam</td>\n",
       "      <td>This is the 2nd time we have tried 2 contact u...</td>\n",
       "      <td>[nd, time, tried, contact, pound, prize, claim...</td>\n",
       "      <td>[]</td>\n",
       "    </tr>\n",
       "    <tr>\n",
       "      <th>5568</th>\n",
       "      <td>ham</td>\n",
       "      <td>Will �_ b going to esplanade fr home?</td>\n",
       "      <td>[going, esplanade, fr, home]</td>\n",
       "      <td>[]</td>\n",
       "    </tr>\n",
       "    <tr>\n",
       "      <th>5569</th>\n",
       "      <td>ham</td>\n",
       "      <td>Pity, * was in mood for that. So...any other s...</td>\n",
       "      <td>[pity, mood, suggestions]</td>\n",
       "      <td>[]</td>\n",
       "    </tr>\n",
       "    <tr>\n",
       "      <th>5570</th>\n",
       "      <td>ham</td>\n",
       "      <td>The guy did some bitching but I acted like i'd...</td>\n",
       "      <td>[guy, bitching, acted, like, interested, buyin...</td>\n",
       "      <td>[]</td>\n",
       "    </tr>\n",
       "    <tr>\n",
       "      <th>5571</th>\n",
       "      <td>ham</td>\n",
       "      <td>Rofl. Its true to its name</td>\n",
       "      <td>[rofl, true, name]</td>\n",
       "      <td>[]</td>\n",
       "    </tr>\n",
       "  </tbody>\n",
       "</table>\n",
       "<p>5169 rows × 4 columns</p>\n",
       "</div>"
      ],
      "text/plain": [
       "     Label                                          EmailText  \\\n",
       "0      ham  Go until jurong point, crazy.. Available only ...   \n",
       "1      ham                      Ok lar... Joking wif u oni...   \n",
       "2     spam  Free entry in 2 a wkly comp to win FA Cup fina...   \n",
       "3      ham  U dun say so early hor... U c already then say...   \n",
       "4      ham  Nah I don't think he goes to usf, he lives aro...   \n",
       "...    ...                                                ...   \n",
       "5567  spam  This is the 2nd time we have tried 2 contact u...   \n",
       "5568   ham              Will �_ b going to esplanade fr home?   \n",
       "5569   ham  Pity, * was in mood for that. So...any other s...   \n",
       "5570   ham  The guy did some bitching but I acted like i'd...   \n",
       "5571   ham                         Rofl. Its true to its name   \n",
       "\n",
       "                                         CleanEmailText links  \n",
       "0     [go, jurong, point, crazy, available, bugis, g...    []  \n",
       "1                           [ok, lar, joking, wif, oni]    []  \n",
       "2     [free, entry, wkly, comp, win, fa, cup, final,...    []  \n",
       "3                  [dun, say, early, hor, already, say]    []  \n",
       "4        [nah, think, goes, usf, lives, around, though]    []  \n",
       "...                                                 ...   ...  \n",
       "5567  [nd, time, tried, contact, pound, prize, claim...    []  \n",
       "5568                       [going, esplanade, fr, home]    []  \n",
       "5569                          [pity, mood, suggestions]    []  \n",
       "5570  [guy, bitching, acted, like, interested, buyin...    []  \n",
       "5571                                 [rofl, true, name]    []  \n",
       "\n",
       "[5169 rows x 4 columns]"
      ]
     },
     "execution_count": 249,
     "metadata": {},
     "output_type": "execute_result"
    }
   ],
   "source": [
    "Cleaned.Updeate_column(Remove_Stopwords)\n",
    "df"
   ]
  },
  {
   "cell_type": "markdown",
   "id": "c66bf3e0",
   "metadata": {},
   "source": [
    "## `8` Leamtaizing data "
   ]
  },
  {
   "cell_type": "code",
   "execution_count": 250,
   "id": "f52bf38e",
   "metadata": {},
   "outputs": [
    {
     "data": {
      "application/vnd.microsoft.datawrangler.viewer.v0+json": {
       "columns": [
        {
         "name": "index",
         "rawType": "int64",
         "type": "integer"
        },
        {
         "name": "Label",
         "rawType": "object",
         "type": "string"
        },
        {
         "name": "EmailText",
         "rawType": "object",
         "type": "string"
        },
        {
         "name": "CleanEmailText",
         "rawType": "object",
         "type": "unknown"
        },
        {
         "name": "links",
         "rawType": "object",
         "type": "unknown"
        }
       ],
       "ref": "c34d4955-f191-45c9-91d3-2937856ffcb8",
       "rows": [
        [
         "0",
         "ham",
         "Go until jurong point, crazy.. Available only in bugis n great world la e buffet... Cine there got amore wat...",
         "['go', 'jurong', 'point', 'crazy', 'available', 'bugis', 'great', 'world', 'la', 'buffet', 'cine', 'get', 'amore', 'wat']",
         "[]"
        ],
        [
         "1",
         "ham",
         "Ok lar... Joking wif u oni...",
         "['ok', 'lar', 'joke', 'wif', 'oni']",
         "[]"
        ],
        [
         "2",
         "spam",
         "Free entry in 2 a wkly comp to win FA Cup final tkts 21st May 2005. Text FA to 87121 to receive entry question(std txt rate)T&C's apply 08452810075over18's",
         "['free', 'entry', 'wkly', 'comp', 'win', 'fa', 'cup', 'final', 'tkts', 'st', 'may', 'text', 'fa', 'receive', 'entry', 'question', 'std', 'txt', 'rate', 'apply']",
         "[]"
        ],
        [
         "3",
         "ham",
         "U dun say so early hor... U c already then say...",
         "['dun', 'say', 'early', 'hor', 'already', 'say']",
         "[]"
        ],
        [
         "4",
         "ham",
         "Nah I don't think he goes to usf, he lives around here though",
         "['nah', 'think', 'go', 'usf', 'live', 'around', 'though']",
         "[]"
        ],
        [
         "5",
         "spam",
         "FreeMsg Hey there darling it's been 3 week's now and no word back! I'd like some fun you up for it still? Tb ok! XxX std chgs to send, �1.50 to rcv",
         "['freemsg', 'hey', 'darling', 'week', 'word', 'back', 'like', 'fun', 'still', 'tb', 'ok', 'xxx', 'std', 'chgs', 'send', 'rcv']",
         "[]"
        ],
        [
         "6",
         "ham",
         "Even my brother is not like to speak with me. They treat me like aids patent.",
         "['even', 'brother', 'like', 'speak', 'treat', 'like', 'aid', 'patent']",
         "[]"
        ],
        [
         "7",
         "ham",
         "As per your request 'Melle Melle (Oru Minnaminunginte Nurungu Vettam)' has been set as your callertune for all Callers. Press *9 to copy your friends Callertune",
         "['per', 'request', 'melle', 'melle', 'oru', 'minnaminunginte', 'nurungu', 'vettam', 'set', 'callertune', 'callers', 'press', 'copy', 'friends', 'callertune']",
         "[]"
        ],
        [
         "8",
         "spam",
         "WINNER!! As a valued network customer you have been selected to receivea �900 prize reward! To claim call 09061701461. Claim code KL341. Valid 12 hours only.",
         "['winner', 'value', 'network', 'customer', 'select', 'receivea', 'prize', 'reward', 'claim', 'call', 'claim', 'code', 'kl', 'valid', 'hours']",
         "[]"
        ],
        [
         "9",
         "spam",
         "Had your mobile 11 months or more? U R entitled to Update to the latest colour mobiles with camera for Free! Call The Mobile Update Co FREE on 08002986030",
         "['mobile', 'months', 'entitle', 'update', 'latest', 'colour', 'mobiles', 'camera', 'free', 'call', 'mobile', 'update', 'co', 'free']",
         "[]"
        ],
        [
         "10",
         "ham",
         "I'm gonna be home soon and i don't want to talk about this stuff anymore tonight, k? I've cried enough today.",
         "['gon', 'na', 'home', 'soon', 'want', 'talk', 'stuff', 'anymore', 'tonight', 'cry', 'enough', 'today']",
         "[]"
        ],
        [
         "11",
         "spam",
         "SIX chances to win CASH! From 100 to 20,000 pounds txt> CSH11 and send to 87575. Cost 150p/day, 6days, 16+ TsandCs apply Reply HL 4 info",
         "['six', 'chance', 'win', 'cash', 'pound', 'txt', 'csh', 'send', 'cost', 'day', 'days', 'tsandcs', 'apply', 'reply', 'hl', 'info']",
         "[]"
        ],
        [
         "12",
         "spam",
         "URGENT! You have won a 1 week FREE membership in our �100,000 Prize Jackpot! Txt the word: CLAIM to No: 81010 T&C www.dbuk.net LCCLTD POBOX 4403LDNW1A7RW18",
         "['urgent', 'week', 'free', 'membership', 'prize', 'jackpot', 'txt', 'word', 'claim', 'www', 'dbuk', 'net', 'lccltd', 'pobox', 'ldnw', 'rw']",
         "[]"
        ],
        [
         "13",
         "ham",
         "I've been searching for the right words to thank you for this breather. I promise i wont take your help for granted and will fulfil my promise. You have been wonderful and a blessing at all times.",
         "['search', 'right', 'word', 'thank', 'breather', 'promise', 'wont', 'take', 'help', 'grant', 'fulfil', 'promise', 'wonderful', 'bless', 'time']",
         "[]"
        ],
        [
         "14",
         "ham",
         "I HAVE A DATE ON SUNDAY WITH WILL!!",
         "['date', 'sunday']",
         "[]"
        ],
        [
         "15",
         "spam",
         "XXXMobileMovieClub: To use your credit, click the WAP link in the next txt message or click here>> http://wap. xxxmobilemovieclub.com?n=QJKGIGHJJGCBL",
         "['xxxmobilemovieclub', 'use', 'credit', 'click', 'wap', 'link', 'next', 'txt', 'message', 'click', 'xxxmobilemovieclub', 'com', 'qjkgighjjgcbl']",
         "['http://wap.']"
        ],
        [
         "16",
         "ham",
         "Oh k...i'm watching here:)",
         "['oh', 'watch']",
         "[]"
        ],
        [
         "17",
         "ham",
         "Eh u remember how 2 spell his name... Yes i did. He v naughty make until i v wet.",
         "['eh', 'remember', 'spell', 'name', 'yes', 'naughty', 'make', 'wet']",
         "[]"
        ],
        [
         "18",
         "ham",
         "Fine if that��s the way u feel. That��s the way its gota b",
         "['fine', 'way', 'feel', 'way', 'gota']",
         "[]"
        ],
        [
         "19",
         "spam",
         "England v Macedonia - dont miss the goals/team news. Txt ur national team to 87077 eg ENGLAND to 87077 Try:WALES, SCOTLAND 4txt/̼1.20 POBOXox36504W45WQ 16+",
         "['england', 'macedonia', 'dont', 'miss', 'goals', 'team', 'news', 'txt', 'ur', 'national', 'team', 'eg', 'england', 'try', 'wales', 'scotland', 'txt', 'poboxox', 'wq']",
         "[]"
        ],
        [
         "20",
         "ham",
         "Is that seriously how you spell his name?",
         "['seriously', 'spell', 'name']",
         "[]"
        ],
        [
         "21",
         "ham",
         "I���m going to try for 2 months ha ha only joking",
         "['go', 'try', 'months', 'ha', 'ha', 'joke']",
         "[]"
        ],
        [
         "22",
         "ham",
         "So �_ pay first lar... Then when is da stock comin...",
         "['pay', 'first', 'lar', 'da', 'stock', 'comin']",
         "[]"
        ],
        [
         "23",
         "ham",
         "Aft i finish my lunch then i go str down lor. Ard 3 smth lor. U finish ur lunch already?",
         "['aft', 'finish', 'lunch', 'go', 'str', 'lor', 'ard', 'smth', 'lor', 'finish', 'ur', 'lunch', 'already']",
         "[]"
        ],
        [
         "24",
         "ham",
         "Ffffffffff. Alright no way I can meet up with you sooner?",
         "['ffffffffff', 'alright', 'way', 'meet', 'sooner']",
         "[]"
        ],
        [
         "25",
         "ham",
         "Just forced myself to eat a slice. I'm really not hungry tho. This sucks. Mark is getting worried. He knows I'm sick when I turn down pizza. Lol",
         "['force', 'eat', 'slice', 'really', 'hungry', 'tho', 'suck', 'mark', 'get', 'worry', 'know', 'sick', 'turn', 'pizza', 'lol']",
         "[]"
        ],
        [
         "26",
         "ham",
         "Lol your always so convincing.",
         "['lol', 'always', 'convince']",
         "[]"
        ],
        [
         "27",
         "ham",
         "Did you catch the bus ? Are you frying an egg ? Did you make a tea? Are you eating your mom's left over dinner ? Do you feel my Love ?",
         "['catch', 'bus', 'fry', 'egg', 'make', 'tea', 'eat', 'mom', 'leave', 'dinner', 'feel', 'love']",
         "[]"
        ],
        [
         "28",
         "ham",
         "I'm back &amp; we're packing the car now, I'll let you know if there's room",
         "['back', 'amp', 'pack', 'car', 'let', 'know', 'room']",
         "[]"
        ],
        [
         "29",
         "ham",
         "Ahhh. Work. I vaguely remember that! What does it feel like? Lol",
         "['ahhh', 'work', 'vaguely', 'remember', 'feel', 'like', 'lol']",
         "[]"
        ],
        [
         "30",
         "ham",
         "Wait that's still not all that clear, were you not sure about me being sarcastic or that that's why x doesn't want to live with us",
         "['wait', 'still', 'clear', 'sure', 'sarcastic', 'want', 'live', 'us']",
         "[]"
        ],
        [
         "31",
         "ham",
         "Yeah he got in at 2 and was v apologetic. n had fallen out and she was actin like spoilt child and he got caught up in that. Till 2! But we won't go there! Not doing too badly cheers. You? ",
         "['yeah', 'get', 'apologetic', 'fall', 'actin', 'like', 'spoil', 'child', 'get', 'catch', 'till', 'go', 'badly', 'cheer']",
         "[]"
        ],
        [
         "32",
         "ham",
         "K tell me anything about you.",
         "['tell', 'anything']",
         "[]"
        ],
        [
         "33",
         "ham",
         "For fear of fainting with the of all that housework you just did? Quick have a cuppa",
         "['fear', 'faint', 'housework', 'quick', 'cuppa']",
         "[]"
        ],
        [
         "34",
         "spam",
         "Thanks for your subscription to Ringtone UK your mobile will be charged �5/month Please confirm by replying YES or NO. If you reply NO you will not be charged",
         "['thank', 'subscription', 'ringtone', 'uk', 'mobile', 'charge', 'month', 'please', 'confirm', 'reply', 'yes', 'reply', 'charge']",
         "[]"
        ],
        [
         "35",
         "ham",
         "Yup... Ok i go home look at the timings then i msg �_ again... Xuhui going to learn on 2nd may too but her lesson is at 8am",
         "['yup', 'ok', 'go', 'home', 'look', 'timings', 'msg', 'xuhui', 'go', 'learn', 'nd', 'may', 'lesson']",
         "[]"
        ],
        [
         "36",
         "ham",
         "Oops, I'll let you know when my roommate's done",
         "['oops', 'let', 'know', 'roommate', 'do']",
         "[]"
        ],
        [
         "37",
         "ham",
         "I see the letter B on my car",
         "['see', 'letter', 'car']",
         "[]"
        ],
        [
         "38",
         "ham",
         "Anything lor... U decide...",
         "['anything', 'lor', 'decide']",
         "[]"
        ],
        [
         "39",
         "ham",
         "Hello! How's you and how did saturday go? I was just texting to see if you'd decided to do anything tomo. Not that i'm trying to invite myself or anything!",
         "['hello', 'saturday', 'go', 'texting', 'see', 'decide', 'anything', 'tomo', 'try', 'invite', 'anything']",
         "[]"
        ],
        [
         "40",
         "ham",
         "Pls go ahead with watts. I just wanted to be sure. Do have a great weekend. Abiola",
         "['pls', 'go', 'ahead', 'watts', 'want', 'sure', 'great', 'weekend', 'abiola']",
         "[]"
        ],
        [
         "41",
         "ham",
         "Did I forget to tell you ? I want you , I need you, I crave you ... But most of all ... I love you my sweet Arabian steed ... Mmmmmm ... Yummy",
         "['forget', 'tell', 'want', 'need', 'crave', 'love', 'sweet', 'arabian', 'steed', 'mmmmmm', 'yummy']",
         "[]"
        ],
        [
         "42",
         "spam",
         "07732584351 - Rodger Burns - MSG = We tried to call you re your reply to our sms for a free nokia mobile + free camcorder. Please call now 08000930705 for delivery tomorrow",
         "['rodger', 'burn', 'msg', 'try', 'call', 'reply', 'sms', 'free', 'nokia', 'mobile', 'free', 'camcorder', 'please', 'call', 'delivery', 'tomorrow']",
         "[]"
        ],
        [
         "43",
         "ham",
         "WHO ARE YOU SEEING?",
         "['see']",
         "[]"
        ],
        [
         "44",
         "ham",
         "Great! I hope you like your man well endowed. I am  &lt;#&gt;  inches...",
         "['great', 'hope', 'like', 'man', 'well', 'endow', 'lt', 'gt', 'inch']",
         "[]"
        ],
        [
         "45",
         "ham",
         "No calls..messages..missed calls",
         "['call', 'message', 'miss', 'call']",
         "[]"
        ],
        [
         "46",
         "ham",
         "Didn't you get hep b immunisation in nigeria.",
         "['get', 'hep', 'immunisation', 'nigeria']",
         "[]"
        ],
        [
         "47",
         "ham",
         "Fair enough, anything going on?",
         "['fair', 'enough', 'anything', 'go']",
         "[]"
        ],
        [
         "48",
         "ham",
         "Yeah hopefully, if tyler can't do it I could maybe ask around a bit",
         "['yeah', 'hopefully', 'tyler', 'could', 'maybe', 'ask', 'around', 'bite']",
         "[]"
        ],
        [
         "49",
         "ham",
         "U don't know how stubborn I am. I didn't even want to go to the hospital. I kept telling Mark I'm not a weak sucker. Hospitals are for weak suckers.",
         "['know', 'stubborn', 'even', 'want', 'go', 'hospital', 'keep', 'tell', 'mark', 'weak', 'sucker', 'hospitals', 'weak', 'suckers']",
         "[]"
        ]
       ],
       "shape": {
        "columns": 4,
        "rows": 5169
       }
      },
      "text/html": [
       "<div>\n",
       "<style scoped>\n",
       "    .dataframe tbody tr th:only-of-type {\n",
       "        vertical-align: middle;\n",
       "    }\n",
       "\n",
       "    .dataframe tbody tr th {\n",
       "        vertical-align: top;\n",
       "    }\n",
       "\n",
       "    .dataframe thead th {\n",
       "        text-align: right;\n",
       "    }\n",
       "</style>\n",
       "<table border=\"1\" class=\"dataframe\">\n",
       "  <thead>\n",
       "    <tr style=\"text-align: right;\">\n",
       "      <th></th>\n",
       "      <th>Label</th>\n",
       "      <th>EmailText</th>\n",
       "      <th>CleanEmailText</th>\n",
       "      <th>links</th>\n",
       "    </tr>\n",
       "  </thead>\n",
       "  <tbody>\n",
       "    <tr>\n",
       "      <th>0</th>\n",
       "      <td>ham</td>\n",
       "      <td>Go until jurong point, crazy.. Available only ...</td>\n",
       "      <td>[go, jurong, point, crazy, available, bugis, g...</td>\n",
       "      <td>[]</td>\n",
       "    </tr>\n",
       "    <tr>\n",
       "      <th>1</th>\n",
       "      <td>ham</td>\n",
       "      <td>Ok lar... Joking wif u oni...</td>\n",
       "      <td>[ok, lar, joke, wif, oni]</td>\n",
       "      <td>[]</td>\n",
       "    </tr>\n",
       "    <tr>\n",
       "      <th>2</th>\n",
       "      <td>spam</td>\n",
       "      <td>Free entry in 2 a wkly comp to win FA Cup fina...</td>\n",
       "      <td>[free, entry, wkly, comp, win, fa, cup, final,...</td>\n",
       "      <td>[]</td>\n",
       "    </tr>\n",
       "    <tr>\n",
       "      <th>3</th>\n",
       "      <td>ham</td>\n",
       "      <td>U dun say so early hor... U c already then say...</td>\n",
       "      <td>[dun, say, early, hor, already, say]</td>\n",
       "      <td>[]</td>\n",
       "    </tr>\n",
       "    <tr>\n",
       "      <th>4</th>\n",
       "      <td>ham</td>\n",
       "      <td>Nah I don't think he goes to usf, he lives aro...</td>\n",
       "      <td>[nah, think, go, usf, live, around, though]</td>\n",
       "      <td>[]</td>\n",
       "    </tr>\n",
       "    <tr>\n",
       "      <th>...</th>\n",
       "      <td>...</td>\n",
       "      <td>...</td>\n",
       "      <td>...</td>\n",
       "      <td>...</td>\n",
       "    </tr>\n",
       "    <tr>\n",
       "      <th>5567</th>\n",
       "      <td>spam</td>\n",
       "      <td>This is the 2nd time we have tried 2 contact u...</td>\n",
       "      <td>[nd, time, try, contact, pound, prize, claim, ...</td>\n",
       "      <td>[]</td>\n",
       "    </tr>\n",
       "    <tr>\n",
       "      <th>5568</th>\n",
       "      <td>ham</td>\n",
       "      <td>Will �_ b going to esplanade fr home?</td>\n",
       "      <td>[go, esplanade, fr, home]</td>\n",
       "      <td>[]</td>\n",
       "    </tr>\n",
       "    <tr>\n",
       "      <th>5569</th>\n",
       "      <td>ham</td>\n",
       "      <td>Pity, * was in mood for that. So...any other s...</td>\n",
       "      <td>[pity, mood, suggestions]</td>\n",
       "      <td>[]</td>\n",
       "    </tr>\n",
       "    <tr>\n",
       "      <th>5570</th>\n",
       "      <td>ham</td>\n",
       "      <td>The guy did some bitching but I acted like i'd...</td>\n",
       "      <td>[guy, bitch, act, like, interest, buy, somethi...</td>\n",
       "      <td>[]</td>\n",
       "    </tr>\n",
       "    <tr>\n",
       "      <th>5571</th>\n",
       "      <td>ham</td>\n",
       "      <td>Rofl. Its true to its name</td>\n",
       "      <td>[rofl, true, name]</td>\n",
       "      <td>[]</td>\n",
       "    </tr>\n",
       "  </tbody>\n",
       "</table>\n",
       "<p>5169 rows × 4 columns</p>\n",
       "</div>"
      ],
      "text/plain": [
       "     Label                                          EmailText  \\\n",
       "0      ham  Go until jurong point, crazy.. Available only ...   \n",
       "1      ham                      Ok lar... Joking wif u oni...   \n",
       "2     spam  Free entry in 2 a wkly comp to win FA Cup fina...   \n",
       "3      ham  U dun say so early hor... U c already then say...   \n",
       "4      ham  Nah I don't think he goes to usf, he lives aro...   \n",
       "...    ...                                                ...   \n",
       "5567  spam  This is the 2nd time we have tried 2 contact u...   \n",
       "5568   ham              Will �_ b going to esplanade fr home?   \n",
       "5569   ham  Pity, * was in mood for that. So...any other s...   \n",
       "5570   ham  The guy did some bitching but I acted like i'd...   \n",
       "5571   ham                         Rofl. Its true to its name   \n",
       "\n",
       "                                         CleanEmailText links  \n",
       "0     [go, jurong, point, crazy, available, bugis, g...    []  \n",
       "1                             [ok, lar, joke, wif, oni]    []  \n",
       "2     [free, entry, wkly, comp, win, fa, cup, final,...    []  \n",
       "3                  [dun, say, early, hor, already, say]    []  \n",
       "4           [nah, think, go, usf, live, around, though]    []  \n",
       "...                                                 ...   ...  \n",
       "5567  [nd, time, try, contact, pound, prize, claim, ...    []  \n",
       "5568                          [go, esplanade, fr, home]    []  \n",
       "5569                          [pity, mood, suggestions]    []  \n",
       "5570  [guy, bitch, act, like, interest, buy, somethi...    []  \n",
       "5571                                 [rofl, true, name]    []  \n",
       "\n",
       "[5169 rows x 4 columns]"
      ]
     },
     "execution_count": 250,
     "metadata": {},
     "output_type": "execute_result"
    }
   ],
   "source": [
    "from nltk.stem import WordNetLemmatizer\n",
    "\n",
    "Lemmarizer = WordNetLemmatizer()\n",
    "def Lemmatizong_data(text:list):\n",
    "    return [Lemmarizer.lemmatize(word=word,pos=\"v\") for word in text]\n",
    "\n",
    "Cleaned.Updeate_column(Lemmatizong_data)\n",
    "df\n"
   ]
  },
  {
   "cell_type": "markdown",
   "id": "e74bdf95",
   "metadata": {},
   "source": [
    "## `9` Trans Data ot String"
   ]
  },
  {
   "cell_type": "code",
   "execution_count": 251,
   "id": "076d95ff",
   "metadata": {},
   "outputs": [
    {
     "data": {
      "application/vnd.microsoft.datawrangler.viewer.v0+json": {
       "columns": [
        {
         "name": "index",
         "rawType": "int64",
         "type": "integer"
        },
        {
         "name": "Label",
         "rawType": "object",
         "type": "string"
        },
        {
         "name": "EmailText",
         "rawType": "object",
         "type": "string"
        },
        {
         "name": "CleanEmailText",
         "rawType": "object",
         "type": "string"
        },
        {
         "name": "links",
         "rawType": "object",
         "type": "unknown"
        }
       ],
       "ref": "08c5912a-5863-4c98-b91e-18d13d4d5633",
       "rows": [
        [
         "0",
         "ham",
         "Go until jurong point, crazy.. Available only in bugis n great world la e buffet... Cine there got amore wat...",
         "go jurong point crazy available bugis great world la buffet cine get amore wat",
         "[]"
        ],
        [
         "1",
         "ham",
         "Ok lar... Joking wif u oni...",
         "ok lar joke wif oni",
         "[]"
        ],
        [
         "2",
         "spam",
         "Free entry in 2 a wkly comp to win FA Cup final tkts 21st May 2005. Text FA to 87121 to receive entry question(std txt rate)T&C's apply 08452810075over18's",
         "free entry wkly comp win fa cup final tkts st may text fa receive entry question std txt rate apply",
         "[]"
        ],
        [
         "3",
         "ham",
         "U dun say so early hor... U c already then say...",
         "dun say early hor already say",
         "[]"
        ],
        [
         "4",
         "ham",
         "Nah I don't think he goes to usf, he lives around here though",
         "nah think go usf live around though",
         "[]"
        ],
        [
         "5",
         "spam",
         "FreeMsg Hey there darling it's been 3 week's now and no word back! I'd like some fun you up for it still? Tb ok! XxX std chgs to send, �1.50 to rcv",
         "freemsg hey darling week word back like fun still tb ok xxx std chgs send rcv",
         "[]"
        ],
        [
         "6",
         "ham",
         "Even my brother is not like to speak with me. They treat me like aids patent.",
         "even brother like speak treat like aid patent",
         "[]"
        ],
        [
         "7",
         "ham",
         "As per your request 'Melle Melle (Oru Minnaminunginte Nurungu Vettam)' has been set as your callertune for all Callers. Press *9 to copy your friends Callertune",
         "per request melle melle oru minnaminunginte nurungu vettam set callertune callers press copy friends callertune",
         "[]"
        ],
        [
         "8",
         "spam",
         "WINNER!! As a valued network customer you have been selected to receivea �900 prize reward! To claim call 09061701461. Claim code KL341. Valid 12 hours only.",
         "winner value network customer select receivea prize reward claim call claim code kl valid hours",
         "[]"
        ],
        [
         "9",
         "spam",
         "Had your mobile 11 months or more? U R entitled to Update to the latest colour mobiles with camera for Free! Call The Mobile Update Co FREE on 08002986030",
         "mobile months entitle update latest colour mobiles camera free call mobile update co free",
         "[]"
        ],
        [
         "10",
         "ham",
         "I'm gonna be home soon and i don't want to talk about this stuff anymore tonight, k? I've cried enough today.",
         "gon na home soon want talk stuff anymore tonight cry enough today",
         "[]"
        ],
        [
         "11",
         "spam",
         "SIX chances to win CASH! From 100 to 20,000 pounds txt> CSH11 and send to 87575. Cost 150p/day, 6days, 16+ TsandCs apply Reply HL 4 info",
         "six chance win cash pound txt csh send cost day days tsandcs apply reply hl info",
         "[]"
        ],
        [
         "12",
         "spam",
         "URGENT! You have won a 1 week FREE membership in our �100,000 Prize Jackpot! Txt the word: CLAIM to No: 81010 T&C www.dbuk.net LCCLTD POBOX 4403LDNW1A7RW18",
         "urgent week free membership prize jackpot txt word claim www dbuk net lccltd pobox ldnw rw",
         "[]"
        ],
        [
         "13",
         "ham",
         "I've been searching for the right words to thank you for this breather. I promise i wont take your help for granted and will fulfil my promise. You have been wonderful and a blessing at all times.",
         "search right word thank breather promise wont take help grant fulfil promise wonderful bless time",
         "[]"
        ],
        [
         "14",
         "ham",
         "I HAVE A DATE ON SUNDAY WITH WILL!!",
         "date sunday",
         "[]"
        ],
        [
         "15",
         "spam",
         "XXXMobileMovieClub: To use your credit, click the WAP link in the next txt message or click here>> http://wap. xxxmobilemovieclub.com?n=QJKGIGHJJGCBL",
         "xxxmobilemovieclub use credit click wap link next txt message click xxxmobilemovieclub com qjkgighjjgcbl",
         "['http://wap.']"
        ],
        [
         "16",
         "ham",
         "Oh k...i'm watching here:)",
         "oh watch",
         "[]"
        ],
        [
         "17",
         "ham",
         "Eh u remember how 2 spell his name... Yes i did. He v naughty make until i v wet.",
         "eh remember spell name yes naughty make wet",
         "[]"
        ],
        [
         "18",
         "ham",
         "Fine if that��s the way u feel. That��s the way its gota b",
         "fine way feel way gota",
         "[]"
        ],
        [
         "19",
         "spam",
         "England v Macedonia - dont miss the goals/team news. Txt ur national team to 87077 eg ENGLAND to 87077 Try:WALES, SCOTLAND 4txt/̼1.20 POBOXox36504W45WQ 16+",
         "england macedonia dont miss goals team news txt ur national team eg england try wales scotland txt poboxox wq",
         "[]"
        ],
        [
         "20",
         "ham",
         "Is that seriously how you spell his name?",
         "seriously spell name",
         "[]"
        ],
        [
         "21",
         "ham",
         "I���m going to try for 2 months ha ha only joking",
         "go try months ha ha joke",
         "[]"
        ],
        [
         "22",
         "ham",
         "So �_ pay first lar... Then when is da stock comin...",
         "pay first lar da stock comin",
         "[]"
        ],
        [
         "23",
         "ham",
         "Aft i finish my lunch then i go str down lor. Ard 3 smth lor. U finish ur lunch already?",
         "aft finish lunch go str lor ard smth lor finish ur lunch already",
         "[]"
        ],
        [
         "24",
         "ham",
         "Ffffffffff. Alright no way I can meet up with you sooner?",
         "ffffffffff alright way meet sooner",
         "[]"
        ],
        [
         "25",
         "ham",
         "Just forced myself to eat a slice. I'm really not hungry tho. This sucks. Mark is getting worried. He knows I'm sick when I turn down pizza. Lol",
         "force eat slice really hungry tho suck mark get worry know sick turn pizza lol",
         "[]"
        ],
        [
         "26",
         "ham",
         "Lol your always so convincing.",
         "lol always convince",
         "[]"
        ],
        [
         "27",
         "ham",
         "Did you catch the bus ? Are you frying an egg ? Did you make a tea? Are you eating your mom's left over dinner ? Do you feel my Love ?",
         "catch bus fry egg make tea eat mom leave dinner feel love",
         "[]"
        ],
        [
         "28",
         "ham",
         "I'm back &amp; we're packing the car now, I'll let you know if there's room",
         "back amp pack car let know room",
         "[]"
        ],
        [
         "29",
         "ham",
         "Ahhh. Work. I vaguely remember that! What does it feel like? Lol",
         "ahhh work vaguely remember feel like lol",
         "[]"
        ],
        [
         "30",
         "ham",
         "Wait that's still not all that clear, were you not sure about me being sarcastic or that that's why x doesn't want to live with us",
         "wait still clear sure sarcastic want live us",
         "[]"
        ],
        [
         "31",
         "ham",
         "Yeah he got in at 2 and was v apologetic. n had fallen out and she was actin like spoilt child and he got caught up in that. Till 2! But we won't go there! Not doing too badly cheers. You? ",
         "yeah get apologetic fall actin like spoil child get catch till go badly cheer",
         "[]"
        ],
        [
         "32",
         "ham",
         "K tell me anything about you.",
         "tell anything",
         "[]"
        ],
        [
         "33",
         "ham",
         "For fear of fainting with the of all that housework you just did? Quick have a cuppa",
         "fear faint housework quick cuppa",
         "[]"
        ],
        [
         "34",
         "spam",
         "Thanks for your subscription to Ringtone UK your mobile will be charged �5/month Please confirm by replying YES or NO. If you reply NO you will not be charged",
         "thank subscription ringtone uk mobile charge month please confirm reply yes reply charge",
         "[]"
        ],
        [
         "35",
         "ham",
         "Yup... Ok i go home look at the timings then i msg �_ again... Xuhui going to learn on 2nd may too but her lesson is at 8am",
         "yup ok go home look timings msg xuhui go learn nd may lesson",
         "[]"
        ],
        [
         "36",
         "ham",
         "Oops, I'll let you know when my roommate's done",
         "oops let know roommate do",
         "[]"
        ],
        [
         "37",
         "ham",
         "I see the letter B on my car",
         "see letter car",
         "[]"
        ],
        [
         "38",
         "ham",
         "Anything lor... U decide...",
         "anything lor decide",
         "[]"
        ],
        [
         "39",
         "ham",
         "Hello! How's you and how did saturday go? I was just texting to see if you'd decided to do anything tomo. Not that i'm trying to invite myself or anything!",
         "hello saturday go texting see decide anything tomo try invite anything",
         "[]"
        ],
        [
         "40",
         "ham",
         "Pls go ahead with watts. I just wanted to be sure. Do have a great weekend. Abiola",
         "pls go ahead watts want sure great weekend abiola",
         "[]"
        ],
        [
         "41",
         "ham",
         "Did I forget to tell you ? I want you , I need you, I crave you ... But most of all ... I love you my sweet Arabian steed ... Mmmmmm ... Yummy",
         "forget tell want need crave love sweet arabian steed mmmmmm yummy",
         "[]"
        ],
        [
         "42",
         "spam",
         "07732584351 - Rodger Burns - MSG = We tried to call you re your reply to our sms for a free nokia mobile + free camcorder. Please call now 08000930705 for delivery tomorrow",
         "rodger burn msg try call reply sms free nokia mobile free camcorder please call delivery tomorrow",
         "[]"
        ],
        [
         "43",
         "ham",
         "WHO ARE YOU SEEING?",
         "see",
         "[]"
        ],
        [
         "44",
         "ham",
         "Great! I hope you like your man well endowed. I am  &lt;#&gt;  inches...",
         "great hope like man well endow lt gt inch",
         "[]"
        ],
        [
         "45",
         "ham",
         "No calls..messages..missed calls",
         "call message miss call",
         "[]"
        ],
        [
         "46",
         "ham",
         "Didn't you get hep b immunisation in nigeria.",
         "get hep immunisation nigeria",
         "[]"
        ],
        [
         "47",
         "ham",
         "Fair enough, anything going on?",
         "fair enough anything go",
         "[]"
        ],
        [
         "48",
         "ham",
         "Yeah hopefully, if tyler can't do it I could maybe ask around a bit",
         "yeah hopefully tyler could maybe ask around bite",
         "[]"
        ],
        [
         "49",
         "ham",
         "U don't know how stubborn I am. I didn't even want to go to the hospital. I kept telling Mark I'm not a weak sucker. Hospitals are for weak suckers.",
         "know stubborn even want go hospital keep tell mark weak sucker hospitals weak suckers",
         "[]"
        ]
       ],
       "shape": {
        "columns": 4,
        "rows": 5169
       }
      },
      "text/html": [
       "<div>\n",
       "<style scoped>\n",
       "    .dataframe tbody tr th:only-of-type {\n",
       "        vertical-align: middle;\n",
       "    }\n",
       "\n",
       "    .dataframe tbody tr th {\n",
       "        vertical-align: top;\n",
       "    }\n",
       "\n",
       "    .dataframe thead th {\n",
       "        text-align: right;\n",
       "    }\n",
       "</style>\n",
       "<table border=\"1\" class=\"dataframe\">\n",
       "  <thead>\n",
       "    <tr style=\"text-align: right;\">\n",
       "      <th></th>\n",
       "      <th>Label</th>\n",
       "      <th>EmailText</th>\n",
       "      <th>CleanEmailText</th>\n",
       "      <th>links</th>\n",
       "    </tr>\n",
       "  </thead>\n",
       "  <tbody>\n",
       "    <tr>\n",
       "      <th>0</th>\n",
       "      <td>ham</td>\n",
       "      <td>Go until jurong point, crazy.. Available only ...</td>\n",
       "      <td>go jurong point crazy available bugis great wo...</td>\n",
       "      <td>[]</td>\n",
       "    </tr>\n",
       "    <tr>\n",
       "      <th>1</th>\n",
       "      <td>ham</td>\n",
       "      <td>Ok lar... Joking wif u oni...</td>\n",
       "      <td>ok lar joke wif oni</td>\n",
       "      <td>[]</td>\n",
       "    </tr>\n",
       "    <tr>\n",
       "      <th>2</th>\n",
       "      <td>spam</td>\n",
       "      <td>Free entry in 2 a wkly comp to win FA Cup fina...</td>\n",
       "      <td>free entry wkly comp win fa cup final tkts st ...</td>\n",
       "      <td>[]</td>\n",
       "    </tr>\n",
       "    <tr>\n",
       "      <th>3</th>\n",
       "      <td>ham</td>\n",
       "      <td>U dun say so early hor... U c already then say...</td>\n",
       "      <td>dun say early hor already say</td>\n",
       "      <td>[]</td>\n",
       "    </tr>\n",
       "    <tr>\n",
       "      <th>4</th>\n",
       "      <td>ham</td>\n",
       "      <td>Nah I don't think he goes to usf, he lives aro...</td>\n",
       "      <td>nah think go usf live around though</td>\n",
       "      <td>[]</td>\n",
       "    </tr>\n",
       "    <tr>\n",
       "      <th>...</th>\n",
       "      <td>...</td>\n",
       "      <td>...</td>\n",
       "      <td>...</td>\n",
       "      <td>...</td>\n",
       "    </tr>\n",
       "    <tr>\n",
       "      <th>5567</th>\n",
       "      <td>spam</td>\n",
       "      <td>This is the 2nd time we have tried 2 contact u...</td>\n",
       "      <td>nd time try contact pound prize claim easy cal...</td>\n",
       "      <td>[]</td>\n",
       "    </tr>\n",
       "    <tr>\n",
       "      <th>5568</th>\n",
       "      <td>ham</td>\n",
       "      <td>Will �_ b going to esplanade fr home?</td>\n",
       "      <td>go esplanade fr home</td>\n",
       "      <td>[]</td>\n",
       "    </tr>\n",
       "    <tr>\n",
       "      <th>5569</th>\n",
       "      <td>ham</td>\n",
       "      <td>Pity, * was in mood for that. So...any other s...</td>\n",
       "      <td>pity mood suggestions</td>\n",
       "      <td>[]</td>\n",
       "    </tr>\n",
       "    <tr>\n",
       "      <th>5570</th>\n",
       "      <td>ham</td>\n",
       "      <td>The guy did some bitching but I acted like i'd...</td>\n",
       "      <td>guy bitch act like interest buy something else...</td>\n",
       "      <td>[]</td>\n",
       "    </tr>\n",
       "    <tr>\n",
       "      <th>5571</th>\n",
       "      <td>ham</td>\n",
       "      <td>Rofl. Its true to its name</td>\n",
       "      <td>rofl true name</td>\n",
       "      <td>[]</td>\n",
       "    </tr>\n",
       "  </tbody>\n",
       "</table>\n",
       "<p>5169 rows × 4 columns</p>\n",
       "</div>"
      ],
      "text/plain": [
       "     Label                                          EmailText  \\\n",
       "0      ham  Go until jurong point, crazy.. Available only ...   \n",
       "1      ham                      Ok lar... Joking wif u oni...   \n",
       "2     spam  Free entry in 2 a wkly comp to win FA Cup fina...   \n",
       "3      ham  U dun say so early hor... U c already then say...   \n",
       "4      ham  Nah I don't think he goes to usf, he lives aro...   \n",
       "...    ...                                                ...   \n",
       "5567  spam  This is the 2nd time we have tried 2 contact u...   \n",
       "5568   ham              Will �_ b going to esplanade fr home?   \n",
       "5569   ham  Pity, * was in mood for that. So...any other s...   \n",
       "5570   ham  The guy did some bitching but I acted like i'd...   \n",
       "5571   ham                         Rofl. Its true to its name   \n",
       "\n",
       "                                         CleanEmailText links  \n",
       "0     go jurong point crazy available bugis great wo...    []  \n",
       "1                                   ok lar joke wif oni    []  \n",
       "2     free entry wkly comp win fa cup final tkts st ...    []  \n",
       "3                         dun say early hor already say    []  \n",
       "4                   nah think go usf live around though    []  \n",
       "...                                                 ...   ...  \n",
       "5567  nd time try contact pound prize claim easy cal...    []  \n",
       "5568                               go esplanade fr home    []  \n",
       "5569                              pity mood suggestions    []  \n",
       "5570  guy bitch act like interest buy something else...    []  \n",
       "5571                                     rofl true name    []  \n",
       "\n",
       "[5169 rows x 4 columns]"
      ]
     },
     "execution_count": 251,
     "metadata": {},
     "output_type": "execute_result"
    }
   ],
   "source": [
    "def to_string(text:list):\n",
    "    return \" \".join(text)\n",
    "\n",
    "Cleaned.Updeate_column(to_string)\n",
    "df"
   ]
  },
  {
   "cell_type": "markdown",
   "id": "eceb731c",
   "metadata": {},
   "source": [
    "## 🟢 Finlaly we reach to **Model Preperation** "
   ]
  },
  {
   "cell_type": "code",
   "execution_count": 252,
   "id": "38a17913",
   "metadata": {},
   "outputs": [],
   "source": [
    "from sklearn.feature_extraction.text import TfidfVectorizer\n",
    "from sklearn.svm import SVC\n",
    "from sklearn.naive_bayes import MultinomialNB\n",
    "from sklearn.tree import DecisionTreeClassifier\n",
    "from sklearn.metrics import accuracy_score , confusion_matrix , classification_report\n",
    "from sklearn.model_selection import train_test_split"
   ]
  },
  {
   "cell_type": "code",
   "execution_count": 253,
   "id": "2ba2b173",
   "metadata": {},
   "outputs": [],
   "source": [
    "X = df[\"CleanEmailText\"]\n",
    "Y = df[\"Label\"]"
   ]
  },
  {
   "cell_type": "code",
   "execution_count": 254,
   "id": "6908a588",
   "metadata": {},
   "outputs": [],
   "source": [
    "x_train,x_text,y_train,y_test = train_test_split(X,Y,test_size=0.3,shuffle=True,random_state=42)"
   ]
  },
  {
   "cell_type": "code",
   "execution_count": 255,
   "id": "18986d11",
   "metadata": {},
   "outputs": [],
   "source": [
    "tfidf = TfidfVectorizer()\n",
    "x_train = tfidf.fit_transform(x_train)\n",
    "x_test = tfidf.transform(x_text)\n"
   ]
  },
  {
   "cell_type": "code",
   "execution_count": 256,
   "id": "fa8722a5",
   "metadata": {},
   "outputs": [
    {
     "name": "stdout",
     "output_type": "stream",
     "text": [
      "number of Features = 5390\n"
     ]
    }
   ],
   "source": [
    "print(f\"number of Features = {len(tfidf.get_feature_names_out())}\")"
   ]
  },
  {
   "cell_type": "markdown",
   "id": "eb9e119e",
   "metadata": {},
   "source": [
    "# ✅ Support Vector Machine"
   ]
  },
  {
   "cell_type": "code",
   "execution_count": 257,
   "id": "d7e127f5",
   "metadata": {},
   "outputs": [
    {
     "data": {
      "text/html": [
       "<style>#sk-container-id-6 {\n",
       "  /* Definition of color scheme common for light and dark mode */\n",
       "  --sklearn-color-text: #000;\n",
       "  --sklearn-color-text-muted: #666;\n",
       "  --sklearn-color-line: gray;\n",
       "  /* Definition of color scheme for unfitted estimators */\n",
       "  --sklearn-color-unfitted-level-0: #fff5e6;\n",
       "  --sklearn-color-unfitted-level-1: #f6e4d2;\n",
       "  --sklearn-color-unfitted-level-2: #ffe0b3;\n",
       "  --sklearn-color-unfitted-level-3: chocolate;\n",
       "  /* Definition of color scheme for fitted estimators */\n",
       "  --sklearn-color-fitted-level-0: #f0f8ff;\n",
       "  --sklearn-color-fitted-level-1: #d4ebff;\n",
       "  --sklearn-color-fitted-level-2: #b3dbfd;\n",
       "  --sklearn-color-fitted-level-3: cornflowerblue;\n",
       "\n",
       "  /* Specific color for light theme */\n",
       "  --sklearn-color-text-on-default-background: var(--sg-text-color, var(--theme-code-foreground, var(--jp-content-font-color1, black)));\n",
       "  --sklearn-color-background: var(--sg-background-color, var(--theme-background, var(--jp-layout-color0, white)));\n",
       "  --sklearn-color-border-box: var(--sg-text-color, var(--theme-code-foreground, var(--jp-content-font-color1, black)));\n",
       "  --sklearn-color-icon: #696969;\n",
       "\n",
       "  @media (prefers-color-scheme: dark) {\n",
       "    /* Redefinition of color scheme for dark theme */\n",
       "    --sklearn-color-text-on-default-background: var(--sg-text-color, var(--theme-code-foreground, var(--jp-content-font-color1, white)));\n",
       "    --sklearn-color-background: var(--sg-background-color, var(--theme-background, var(--jp-layout-color0, #111)));\n",
       "    --sklearn-color-border-box: var(--sg-text-color, var(--theme-code-foreground, var(--jp-content-font-color1, white)));\n",
       "    --sklearn-color-icon: #878787;\n",
       "  }\n",
       "}\n",
       "\n",
       "#sk-container-id-6 {\n",
       "  color: var(--sklearn-color-text);\n",
       "}\n",
       "\n",
       "#sk-container-id-6 pre {\n",
       "  padding: 0;\n",
       "}\n",
       "\n",
       "#sk-container-id-6 input.sk-hidden--visually {\n",
       "  border: 0;\n",
       "  clip: rect(1px 1px 1px 1px);\n",
       "  clip: rect(1px, 1px, 1px, 1px);\n",
       "  height: 1px;\n",
       "  margin: -1px;\n",
       "  overflow: hidden;\n",
       "  padding: 0;\n",
       "  position: absolute;\n",
       "  width: 1px;\n",
       "}\n",
       "\n",
       "#sk-container-id-6 div.sk-dashed-wrapped {\n",
       "  border: 1px dashed var(--sklearn-color-line);\n",
       "  margin: 0 0.4em 0.5em 0.4em;\n",
       "  box-sizing: border-box;\n",
       "  padding-bottom: 0.4em;\n",
       "  background-color: var(--sklearn-color-background);\n",
       "}\n",
       "\n",
       "#sk-container-id-6 div.sk-container {\n",
       "  /* jupyter's `normalize.less` sets `[hidden] { display: none; }`\n",
       "     but bootstrap.min.css set `[hidden] { display: none !important; }`\n",
       "     so we also need the `!important` here to be able to override the\n",
       "     default hidden behavior on the sphinx rendered scikit-learn.org.\n",
       "     See: https://github.com/scikit-learn/scikit-learn/issues/21755 */\n",
       "  display: inline-block !important;\n",
       "  position: relative;\n",
       "}\n",
       "\n",
       "#sk-container-id-6 div.sk-text-repr-fallback {\n",
       "  display: none;\n",
       "}\n",
       "\n",
       "div.sk-parallel-item,\n",
       "div.sk-serial,\n",
       "div.sk-item {\n",
       "  /* draw centered vertical line to link estimators */\n",
       "  background-image: linear-gradient(var(--sklearn-color-text-on-default-background), var(--sklearn-color-text-on-default-background));\n",
       "  background-size: 2px 100%;\n",
       "  background-repeat: no-repeat;\n",
       "  background-position: center center;\n",
       "}\n",
       "\n",
       "/* Parallel-specific style estimator block */\n",
       "\n",
       "#sk-container-id-6 div.sk-parallel-item::after {\n",
       "  content: \"\";\n",
       "  width: 100%;\n",
       "  border-bottom: 2px solid var(--sklearn-color-text-on-default-background);\n",
       "  flex-grow: 1;\n",
       "}\n",
       "\n",
       "#sk-container-id-6 div.sk-parallel {\n",
       "  display: flex;\n",
       "  align-items: stretch;\n",
       "  justify-content: center;\n",
       "  background-color: var(--sklearn-color-background);\n",
       "  position: relative;\n",
       "}\n",
       "\n",
       "#sk-container-id-6 div.sk-parallel-item {\n",
       "  display: flex;\n",
       "  flex-direction: column;\n",
       "}\n",
       "\n",
       "#sk-container-id-6 div.sk-parallel-item:first-child::after {\n",
       "  align-self: flex-end;\n",
       "  width: 50%;\n",
       "}\n",
       "\n",
       "#sk-container-id-6 div.sk-parallel-item:last-child::after {\n",
       "  align-self: flex-start;\n",
       "  width: 50%;\n",
       "}\n",
       "\n",
       "#sk-container-id-6 div.sk-parallel-item:only-child::after {\n",
       "  width: 0;\n",
       "}\n",
       "\n",
       "/* Serial-specific style estimator block */\n",
       "\n",
       "#sk-container-id-6 div.sk-serial {\n",
       "  display: flex;\n",
       "  flex-direction: column;\n",
       "  align-items: center;\n",
       "  background-color: var(--sklearn-color-background);\n",
       "  padding-right: 1em;\n",
       "  padding-left: 1em;\n",
       "}\n",
       "\n",
       "\n",
       "/* Toggleable style: style used for estimator/Pipeline/ColumnTransformer box that is\n",
       "clickable and can be expanded/collapsed.\n",
       "- Pipeline and ColumnTransformer use this feature and define the default style\n",
       "- Estimators will overwrite some part of the style using the `sk-estimator` class\n",
       "*/\n",
       "\n",
       "/* Pipeline and ColumnTransformer style (default) */\n",
       "\n",
       "#sk-container-id-6 div.sk-toggleable {\n",
       "  /* Default theme specific background. It is overwritten whether we have a\n",
       "  specific estimator or a Pipeline/ColumnTransformer */\n",
       "  background-color: var(--sklearn-color-background);\n",
       "}\n",
       "\n",
       "/* Toggleable label */\n",
       "#sk-container-id-6 label.sk-toggleable__label {\n",
       "  cursor: pointer;\n",
       "  display: flex;\n",
       "  width: 100%;\n",
       "  margin-bottom: 0;\n",
       "  padding: 0.5em;\n",
       "  box-sizing: border-box;\n",
       "  text-align: center;\n",
       "  align-items: start;\n",
       "  justify-content: space-between;\n",
       "  gap: 0.5em;\n",
       "}\n",
       "\n",
       "#sk-container-id-6 label.sk-toggleable__label .caption {\n",
       "  font-size: 0.6rem;\n",
       "  font-weight: lighter;\n",
       "  color: var(--sklearn-color-text-muted);\n",
       "}\n",
       "\n",
       "#sk-container-id-6 label.sk-toggleable__label-arrow:before {\n",
       "  /* Arrow on the left of the label */\n",
       "  content: \"▸\";\n",
       "  float: left;\n",
       "  margin-right: 0.25em;\n",
       "  color: var(--sklearn-color-icon);\n",
       "}\n",
       "\n",
       "#sk-container-id-6 label.sk-toggleable__label-arrow:hover:before {\n",
       "  color: var(--sklearn-color-text);\n",
       "}\n",
       "\n",
       "/* Toggleable content - dropdown */\n",
       "\n",
       "#sk-container-id-6 div.sk-toggleable__content {\n",
       "  max-height: 0;\n",
       "  max-width: 0;\n",
       "  overflow: hidden;\n",
       "  text-align: left;\n",
       "  /* unfitted */\n",
       "  background-color: var(--sklearn-color-unfitted-level-0);\n",
       "}\n",
       "\n",
       "#sk-container-id-6 div.sk-toggleable__content.fitted {\n",
       "  /* fitted */\n",
       "  background-color: var(--sklearn-color-fitted-level-0);\n",
       "}\n",
       "\n",
       "#sk-container-id-6 div.sk-toggleable__content pre {\n",
       "  margin: 0.2em;\n",
       "  border-radius: 0.25em;\n",
       "  color: var(--sklearn-color-text);\n",
       "  /* unfitted */\n",
       "  background-color: var(--sklearn-color-unfitted-level-0);\n",
       "}\n",
       "\n",
       "#sk-container-id-6 div.sk-toggleable__content.fitted pre {\n",
       "  /* unfitted */\n",
       "  background-color: var(--sklearn-color-fitted-level-0);\n",
       "}\n",
       "\n",
       "#sk-container-id-6 input.sk-toggleable__control:checked~div.sk-toggleable__content {\n",
       "  /* Expand drop-down */\n",
       "  max-height: 200px;\n",
       "  max-width: 100%;\n",
       "  overflow: auto;\n",
       "}\n",
       "\n",
       "#sk-container-id-6 input.sk-toggleable__control:checked~label.sk-toggleable__label-arrow:before {\n",
       "  content: \"▾\";\n",
       "}\n",
       "\n",
       "/* Pipeline/ColumnTransformer-specific style */\n",
       "\n",
       "#sk-container-id-6 div.sk-label input.sk-toggleable__control:checked~label.sk-toggleable__label {\n",
       "  color: var(--sklearn-color-text);\n",
       "  background-color: var(--sklearn-color-unfitted-level-2);\n",
       "}\n",
       "\n",
       "#sk-container-id-6 div.sk-label.fitted input.sk-toggleable__control:checked~label.sk-toggleable__label {\n",
       "  background-color: var(--sklearn-color-fitted-level-2);\n",
       "}\n",
       "\n",
       "/* Estimator-specific style */\n",
       "\n",
       "/* Colorize estimator box */\n",
       "#sk-container-id-6 div.sk-estimator input.sk-toggleable__control:checked~label.sk-toggleable__label {\n",
       "  /* unfitted */\n",
       "  background-color: var(--sklearn-color-unfitted-level-2);\n",
       "}\n",
       "\n",
       "#sk-container-id-6 div.sk-estimator.fitted input.sk-toggleable__control:checked~label.sk-toggleable__label {\n",
       "  /* fitted */\n",
       "  background-color: var(--sklearn-color-fitted-level-2);\n",
       "}\n",
       "\n",
       "#sk-container-id-6 div.sk-label label.sk-toggleable__label,\n",
       "#sk-container-id-6 div.sk-label label {\n",
       "  /* The background is the default theme color */\n",
       "  color: var(--sklearn-color-text-on-default-background);\n",
       "}\n",
       "\n",
       "/* On hover, darken the color of the background */\n",
       "#sk-container-id-6 div.sk-label:hover label.sk-toggleable__label {\n",
       "  color: var(--sklearn-color-text);\n",
       "  background-color: var(--sklearn-color-unfitted-level-2);\n",
       "}\n",
       "\n",
       "/* Label box, darken color on hover, fitted */\n",
       "#sk-container-id-6 div.sk-label.fitted:hover label.sk-toggleable__label.fitted {\n",
       "  color: var(--sklearn-color-text);\n",
       "  background-color: var(--sklearn-color-fitted-level-2);\n",
       "}\n",
       "\n",
       "/* Estimator label */\n",
       "\n",
       "#sk-container-id-6 div.sk-label label {\n",
       "  font-family: monospace;\n",
       "  font-weight: bold;\n",
       "  display: inline-block;\n",
       "  line-height: 1.2em;\n",
       "}\n",
       "\n",
       "#sk-container-id-6 div.sk-label-container {\n",
       "  text-align: center;\n",
       "}\n",
       "\n",
       "/* Estimator-specific */\n",
       "#sk-container-id-6 div.sk-estimator {\n",
       "  font-family: monospace;\n",
       "  border: 1px dotted var(--sklearn-color-border-box);\n",
       "  border-radius: 0.25em;\n",
       "  box-sizing: border-box;\n",
       "  margin-bottom: 0.5em;\n",
       "  /* unfitted */\n",
       "  background-color: var(--sklearn-color-unfitted-level-0);\n",
       "}\n",
       "\n",
       "#sk-container-id-6 div.sk-estimator.fitted {\n",
       "  /* fitted */\n",
       "  background-color: var(--sklearn-color-fitted-level-0);\n",
       "}\n",
       "\n",
       "/* on hover */\n",
       "#sk-container-id-6 div.sk-estimator:hover {\n",
       "  /* unfitted */\n",
       "  background-color: var(--sklearn-color-unfitted-level-2);\n",
       "}\n",
       "\n",
       "#sk-container-id-6 div.sk-estimator.fitted:hover {\n",
       "  /* fitted */\n",
       "  background-color: var(--sklearn-color-fitted-level-2);\n",
       "}\n",
       "\n",
       "/* Specification for estimator info (e.g. \"i\" and \"?\") */\n",
       "\n",
       "/* Common style for \"i\" and \"?\" */\n",
       "\n",
       ".sk-estimator-doc-link,\n",
       "a:link.sk-estimator-doc-link,\n",
       "a:visited.sk-estimator-doc-link {\n",
       "  float: right;\n",
       "  font-size: smaller;\n",
       "  line-height: 1em;\n",
       "  font-family: monospace;\n",
       "  background-color: var(--sklearn-color-background);\n",
       "  border-radius: 1em;\n",
       "  height: 1em;\n",
       "  width: 1em;\n",
       "  text-decoration: none !important;\n",
       "  margin-left: 0.5em;\n",
       "  text-align: center;\n",
       "  /* unfitted */\n",
       "  border: var(--sklearn-color-unfitted-level-1) 1pt solid;\n",
       "  color: var(--sklearn-color-unfitted-level-1);\n",
       "}\n",
       "\n",
       ".sk-estimator-doc-link.fitted,\n",
       "a:link.sk-estimator-doc-link.fitted,\n",
       "a:visited.sk-estimator-doc-link.fitted {\n",
       "  /* fitted */\n",
       "  border: var(--sklearn-color-fitted-level-1) 1pt solid;\n",
       "  color: var(--sklearn-color-fitted-level-1);\n",
       "}\n",
       "\n",
       "/* On hover */\n",
       "div.sk-estimator:hover .sk-estimator-doc-link:hover,\n",
       ".sk-estimator-doc-link:hover,\n",
       "div.sk-label-container:hover .sk-estimator-doc-link:hover,\n",
       ".sk-estimator-doc-link:hover {\n",
       "  /* unfitted */\n",
       "  background-color: var(--sklearn-color-unfitted-level-3);\n",
       "  color: var(--sklearn-color-background);\n",
       "  text-decoration: none;\n",
       "}\n",
       "\n",
       "div.sk-estimator.fitted:hover .sk-estimator-doc-link.fitted:hover,\n",
       ".sk-estimator-doc-link.fitted:hover,\n",
       "div.sk-label-container:hover .sk-estimator-doc-link.fitted:hover,\n",
       ".sk-estimator-doc-link.fitted:hover {\n",
       "  /* fitted */\n",
       "  background-color: var(--sklearn-color-fitted-level-3);\n",
       "  color: var(--sklearn-color-background);\n",
       "  text-decoration: none;\n",
       "}\n",
       "\n",
       "/* Span, style for the box shown on hovering the info icon */\n",
       ".sk-estimator-doc-link span {\n",
       "  display: none;\n",
       "  z-index: 9999;\n",
       "  position: relative;\n",
       "  font-weight: normal;\n",
       "  right: .2ex;\n",
       "  padding: .5ex;\n",
       "  margin: .5ex;\n",
       "  width: min-content;\n",
       "  min-width: 20ex;\n",
       "  max-width: 50ex;\n",
       "  color: var(--sklearn-color-text);\n",
       "  box-shadow: 2pt 2pt 4pt #999;\n",
       "  /* unfitted */\n",
       "  background: var(--sklearn-color-unfitted-level-0);\n",
       "  border: .5pt solid var(--sklearn-color-unfitted-level-3);\n",
       "}\n",
       "\n",
       ".sk-estimator-doc-link.fitted span {\n",
       "  /* fitted */\n",
       "  background: var(--sklearn-color-fitted-level-0);\n",
       "  border: var(--sklearn-color-fitted-level-3);\n",
       "}\n",
       "\n",
       ".sk-estimator-doc-link:hover span {\n",
       "  display: block;\n",
       "}\n",
       "\n",
       "/* \"?\"-specific style due to the `<a>` HTML tag */\n",
       "\n",
       "#sk-container-id-6 a.estimator_doc_link {\n",
       "  float: right;\n",
       "  font-size: 1rem;\n",
       "  line-height: 1em;\n",
       "  font-family: monospace;\n",
       "  background-color: var(--sklearn-color-background);\n",
       "  border-radius: 1rem;\n",
       "  height: 1rem;\n",
       "  width: 1rem;\n",
       "  text-decoration: none;\n",
       "  /* unfitted */\n",
       "  color: var(--sklearn-color-unfitted-level-1);\n",
       "  border: var(--sklearn-color-unfitted-level-1) 1pt solid;\n",
       "}\n",
       "\n",
       "#sk-container-id-6 a.estimator_doc_link.fitted {\n",
       "  /* fitted */\n",
       "  border: var(--sklearn-color-fitted-level-1) 1pt solid;\n",
       "  color: var(--sklearn-color-fitted-level-1);\n",
       "}\n",
       "\n",
       "/* On hover */\n",
       "#sk-container-id-6 a.estimator_doc_link:hover {\n",
       "  /* unfitted */\n",
       "  background-color: var(--sklearn-color-unfitted-level-3);\n",
       "  color: var(--sklearn-color-background);\n",
       "  text-decoration: none;\n",
       "}\n",
       "\n",
       "#sk-container-id-6 a.estimator_doc_link.fitted:hover {\n",
       "  /* fitted */\n",
       "  background-color: var(--sklearn-color-fitted-level-3);\n",
       "}\n",
       "</style><div id=\"sk-container-id-6\" class=\"sk-top-container\"><div class=\"sk-text-repr-fallback\"><pre>SVC(random_state=42)</pre><b>In a Jupyter environment, please rerun this cell to show the HTML representation or trust the notebook. <br />On GitHub, the HTML representation is unable to render, please try loading this page with nbviewer.org.</b></div><div class=\"sk-container\" hidden><div class=\"sk-item\"><div class=\"sk-estimator  sk-toggleable\"><input class=\"sk-toggleable__control sk-hidden--visually\" id=\"sk-estimator-id-6\" type=\"checkbox\" checked><label for=\"sk-estimator-id-6\" class=\"sk-toggleable__label  sk-toggleable__label-arrow\"><div><div>SVC</div></div><div><a class=\"sk-estimator-doc-link \" rel=\"noreferrer\" target=\"_blank\" href=\"https://scikit-learn.org/1.6/modules/generated/sklearn.svm.SVC.html\">?<span>Documentation for SVC</span></a><span class=\"sk-estimator-doc-link \">i<span>Not fitted</span></span></div></label><div class=\"sk-toggleable__content \"><pre>SVC(random_state=42)</pre></div> </div></div></div></div>"
      ],
      "text/plain": [
       "SVC(random_state=42)"
      ]
     },
     "execution_count": 257,
     "metadata": {},
     "output_type": "execute_result"
    }
   ],
   "source": [
    "svc = SVC(random_state=42)\n",
    "svc"
   ]
  },
  {
   "cell_type": "code",
   "execution_count": 258,
   "id": "29977d10",
   "metadata": {},
   "outputs": [],
   "source": [
    "svc.fit(x_train,y_train)\n",
    "y_predicted = svc.predict(x_test)"
   ]
  },
  {
   "cell_type": "code",
   "execution_count": 259,
   "id": "166aced5",
   "metadata": {},
   "outputs": [
    {
     "name": "stdout",
     "output_type": "stream",
     "text": [
      "SVM Accurecy score = 98.07%\n"
     ]
    }
   ],
   "source": [
    "acc = accuracy_score(y_true=y_test,y_pred=y_predicted)\n",
    "print(f\"SVM Accurecy score = {acc * 100:.02f}%\")"
   ]
  },
  {
   "cell_type": "code",
   "execution_count": 260,
   "id": "78cd9511",
   "metadata": {},
   "outputs": [
    {
     "name": "stdout",
     "output_type": "stream",
     "text": [
      "              precision    recall  f1-score   support\n",
      "\n",
      "         ham       0.98      1.00      0.99      1331\n",
      "        spam       1.00      0.86      0.93       220\n",
      "\n",
      "    accuracy                           0.98      1551\n",
      "   macro avg       0.99      0.93      0.96      1551\n",
      "weighted avg       0.98      0.98      0.98      1551\n",
      "\n"
     ]
    }
   ],
   "source": [
    "print(classification_report(y_test,y_predicted))"
   ]
  },
  {
   "cell_type": "code",
   "execution_count": 261,
   "id": "be1a5d9c",
   "metadata": {},
   "outputs": [
    {
     "data": {
      "image/png": "[encoded data removed]",
      "text/plain": [
       "<Figure size 640x480 with 2 Axes>"
      ]
     },
     "metadata": {},
     "output_type": "display_data"
    }
   ],
   "source": [
    "class_names = ['ham', 'spam']  \n",
    "conf = confusion_matrix(y_true=y_test,y_pred=y_predicted)\n",
    "sns.heatmap(conf,annot=True,fmt=\"1.0f\",xticklabels=class_names, yticklabels=class_names)\n",
    "plt.title(\"Confusion Matrix For Support Vector Machine \")\n",
    "plt.show()"
   ]
  },
  {
   "cell_type": "markdown",
   "id": "467ed1fa",
   "metadata": {},
   "source": [
    "# 🟢 Decision Tree Classifier"
   ]
  },
  {
   "cell_type": "code",
   "execution_count": 262,
   "id": "1dbe3b33",
   "metadata": {},
   "outputs": [],
   "source": [
    "Dt = DecisionTreeClassifier(random_state=42)\n",
    "Dt.fit(x_train,y_train)\n",
    "y_predicted = Dt.predict(x_test)"
   ]
  },
  {
   "cell_type": "code",
   "execution_count": 263,
   "id": "42cbccd4",
   "metadata": {},
   "outputs": [
    {
     "name": "stdout",
     "output_type": "stream",
     "text": [
      "Decision Tree Classifier Accurecy score = 96.00%\n"
     ]
    }
   ],
   "source": [
    "acc = accuracy_score(y_true=y_test,y_pred=y_predicted)\n",
    "print(f\"Decision Tree Classifier Accurecy score = {acc * 100:.02f}%\")"
   ]
  },
  {
   "cell_type": "code",
   "execution_count": 264,
   "id": "02c04cf1",
   "metadata": {},
   "outputs": [
    {
     "name": "stdout",
     "output_type": "stream",
     "text": [
      "              precision    recall  f1-score   support\n",
      "\n",
      "         ham       0.98      0.98      0.98      1331\n",
      "        spam       0.85      0.87      0.86       220\n",
      "\n",
      "    accuracy                           0.96      1551\n",
      "   macro avg       0.92      0.92      0.92      1551\n",
      "weighted avg       0.96      0.96      0.96      1551\n",
      "\n"
     ]
    }
   ],
   "source": [
    "print(classification_report(y_test,y_predicted))"
   ]
  },
  {
   "cell_type": "code",
   "execution_count": 265,
   "id": "cf2fd24d",
   "metadata": {},
   "outputs": [
    {
     "data": {
      "image/png": "[encoded data removed]",
      "text/plain": [
       "<Figure size 640x480 with 2 Axes>"
      ]
     },
     "metadata": {},
     "output_type": "display_data"
    }
   ],
   "source": [
    "class_names = ['ham', 'spam']  \n",
    "conf = confusion_matrix(y_true=y_test,y_pred=y_predicted)\n",
    "sns.heatmap(conf,annot=True,fmt=\"1.0f\",xticklabels=class_names, yticklabels=class_names)\n",
    "plt.title(\"Confusion Matrix For Decision Tree Classifier\")\n",
    "plt.show()"
   ]
  },
  {
   "cell_type": "markdown",
   "id": "5769d6db",
   "metadata": {},
   "source": [
    "# 🟢 Multinomial Naive Bayes"
   ]
  },
  {
   "cell_type": "code",
   "execution_count": 266,
   "id": "fee34b1f",
   "metadata": {},
   "outputs": [],
   "source": [
    "Dt = MultinomialNB()\n",
    "Dt.fit(x_train,y_train)\n",
    "y_predicted = Dt.predict(x_test)"
   ]
  },
  {
   "cell_type": "code",
   "execution_count": 267,
   "id": "cc238055",
   "metadata": {},
   "outputs": [
    {
     "name": "stdout",
     "output_type": "stream",
     "text": [
      "Multinomial Naive Bayes Accurecy score = 95.87%\n"
     ]
    }
   ],
   "source": [
    "acc = accuracy_score(y_true=y_test,y_pred=y_predicted)\n",
    "print(f\"Multinomial Naive Bayes Accurecy score = {acc * 100:.02f}%\")"
   ]
  },
  {
   "cell_type": "code",
   "execution_count": 268,
   "id": "a33978c6",
   "metadata": {},
   "outputs": [
    {
     "name": "stdout",
     "output_type": "stream",
     "text": [
      "              precision    recall  f1-score   support\n",
      "\n",
      "         ham       0.95      1.00      0.98      1331\n",
      "        spam       0.99      0.71      0.83       220\n",
      "\n",
      "    accuracy                           0.96      1551\n",
      "   macro avg       0.97      0.86      0.90      1551\n",
      "weighted avg       0.96      0.96      0.96      1551\n",
      "\n"
     ]
    }
   ],
   "source": [
    "print(classification_report(y_test,y_predicted))"
   ]
  },
  {
   "cell_type": "code",
   "execution_count": 269,
   "id": "f0ce3191",
   "metadata": {},
   "outputs": [
    {
     "data": {
      "image/png": "[encoded data removed]",
      "text/plain": [
       "<Figure size 640x480 with 2 Axes>"
      ]
     },
     "metadata": {},
     "output_type": "display_data"
    }
   ],
   "source": [
    "class_names = ['ham', 'spam']  \n",
    "conf = confusion_matrix(y_true=y_test,y_pred=y_predicted)\n",
    "sns.heatmap(conf,annot=True,fmt=\"1.0f\",xticklabels=class_names, yticklabels=class_names)\n",
    "plt.title(\"Confusion Matrix For Multinomial Naive Bayes\")\n",
    "plt.show()"
   ]
  },
  {
   "cell_type": "markdown",
   "id": "12f9a62e",
   "metadata": {},
   "source": [
    "# 📑 Comparison between **`3 models`** which we used"
   ]
  },
  {
   "cell_type": "code",
   "execution_count": 274,
   "id": "f7d7540e",
   "metadata": {},
   "outputs": [
    {
     "data": {
      "image/png": "[encoded data removed]",
      "text/plain": [
       "<Figure size 800x500 with 1 Axes>"
      ]
     },
     "metadata": {},
     "output_type": "display_data"
    }
   ],
   "source": [
    "Models_Accuracy = {\"Multinomial Naive Bayes\":95.87,\"SVM\":98.07,\" Decision Tree Classifier\":96.00}\n",
    "\n",
    "\n",
    "df_acc = pd.DataFrame(list(Models_Accuracy.items()), columns=[\"Model\", \"Accuracy\"])\n",
    "\n",
    "df_acc = df_acc.sort_values(\"Accuracy\", ascending=True)\n",
    "\n",
    "plt.figure(figsize=(8, 5))\n",
    "sns.set_style(\"whitegrid\")\n",
    "ax = sns.barplot(data=df_acc,x=\"Model\", y=\"Accuracy\",palette=\"viridis\",hue=\"Model\")\n",
    "\n",
    "for i, v in enumerate(df_acc[\"Accuracy\"]):\n",
    "    ax.text(i, v + 0.5, f\"{v:.2f}%\", ha='center', fontweight='bold')\n",
    "\n",
    "\n",
    "plt.title(\"Comparison of Model Accuracies\", fontsize=14, fontweight='bold')\n",
    "plt.ylabel(\"Accuracy (%)\")\n",
    "plt.xlabel(\"Models\")\n",
    "plt.ylim(0, 105)\n",
    "plt.tight_layout()\n",
    "plt.show()"
   ]
  },
  {
   "cell_type": "markdown",
   "id": "18e9af25",
   "metadata": {},
   "source": [
    "# 💻 Testing model in unseen Data"
   ]
  },
  {
   "cell_type": "code",
   "execution_count": 271,
   "id": "b47a4fd9",
   "metadata": {},
   "outputs": [],
   "source": [
    "def Preocess_data(text:str):\n",
    "    text = text.lower()\n",
    "    text = re.sub(r\"https?\\S+\",\" \",text)\n",
    "    text = re.sub(r\"[^a-zA-Z]\",\" \",text)\n",
    "    text = re.sub(r\"\\b[a-zA-Z]{1}\\b\",\" \",text)\n",
    "    text = word_tokenize(text)\n",
    "    text = [token for token in text if token not in Stopwords__]\n",
    "    text = [Lemmarizer.lemmatize(token,pos=\"v\") for token in text]\n",
    "    text = \" \".join(text)\n",
    "    return tfidf.transform([text])"
   ]
  },
  {
   "cell_type": "code",
   "execution_count": 272,
   "id": "8ff8f0b3",
   "metadata": {},
   "outputs": [],
   "source": [
    "text = \"\"\"Say hello to the new Magic Background feature, the fastest way to create realistic setting for your image on remove.bg!\n",
    "The best part? You don't need to write any prompts. Simply select an inspiration image as a starting point and let the AI generate a seamlessly-fitting background for you in seconds.\n",
    "From product photography and digital ads to content creation, Magic Background helps your images look their best. ✨\"\"\""
   ]
  },
  {
   "cell_type": "code",
   "execution_count": 273,
   "id": "72ece0a7",
   "metadata": {},
   "outputs": [
    {
     "data": {
      "text/plain": [
       "array(['ham'], dtype=object)"
      ]
     },
     "execution_count": 273,
     "metadata": {},
     "output_type": "execute_result"
    }
   ],
   "source": [
    "test = Preocess_data(text=text)\n",
    "svc.predict(test)"
   ]
  },
  {
   "cell_type": "markdown",
   "id": "797cfb73",
   "metadata": {},
   "source": [
    "---\n",
    "\n",
    "<h1 align=\"center\">The End of model 😎</h1>\n",
    "\n",
    "---"
   ]
  }
 ],
 "metadata": {
  "kernelspec": {
   "display_name": "Python 3",
   "language": "python",
   "name": "python3"
  },
  "language_info": {
   "codemirror_mode": {
    "name": "ipython",
    "version": 3
   },
   "file_extension": ".py",
   "mimetype": "text/x-python",
   "name": "python",
   "nbconvert_exporter": "python",
   "pygments_lexer": "ipython3",
   "version": "3.13.1"
  }
 },
 "nbformat": 4,
 "nbformat_minor": 5
}
